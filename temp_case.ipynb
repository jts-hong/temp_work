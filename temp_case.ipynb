{
 "cells": [
  {
   "cell_type": "code",
   "execution_count": 7,
   "metadata": {},
   "outputs": [],
   "source": [
    "from selenium import webdriver\n",
    "from selenium.webdriver.chrome.service import Service\n",
    "\n",
    "service = Service('/Users/skg/Desktop/test/chromedriver')\n",
    "driver = webdriver.Chrome(service=service)"
   ]
  },
  {
   "cell_type": "code",
   "execution_count": null,
   "metadata": {},
   "outputs": [],
   "source": []
  },
  {
   "cell_type": "code",
   "execution_count": 2,
   "metadata": {},
   "outputs": [],
   "source": [
    "from selenium import webdriver\n",
    "from selenium.webdriver.common.by import By\n",
    "from selenium.webdriver.support.ui import WebDriverWait\n",
    "from selenium.webdriver.support import expected_conditions as EC\n",
    "from selenium import webdriver\n",
    "import time\n",
    "import pandas as pd\n",
    "import json\n",
    "#放chromedriver的文件路径加文件名\n",
    "CHROME_DRIVER = '/Users/skg/Desktop/test/chromedriver'\n"
   ]
  },
  {
   "cell_type": "code",
   "execution_count": 14,
   "metadata": {},
   "outputs": [
    {
     "ename": "SessionNotCreatedException",
     "evalue": "Message: session not created: This version of ChromeDriver only supports Chrome version 86\nCurrent browser version is 115.0.5790.114 with binary path /Applications/Google Chrome.app/Contents/MacOS/Google Chrome\nStacktrace:\n0   chromedriver                        0x000000010895ac29 chromedriver + 2464809\n1   chromedriver                        0x0000000108f956f3 chromedriver + 8996595\n2   chromedriver                        0x000000010879fd56 chromedriver + 650582\n3   chromedriver                        0x0000000108719f9a chromedriver + 102298\n4   chromedriver                        0x0000000108716177 chromedriver + 86391\n5   chromedriver                        0x0000000108713430 chromedriver + 74800\n6   chromedriver                        0x0000000108745326 chromedriver + 279334\n7   chromedriver                        0x00000001087423f3 chromedriver + 267251\n8   chromedriver                        0x000000010871c230 chromedriver + 111152\n9   chromedriver                        0x000000010871d1a7 chromedriver + 115111\n10  chromedriver                        0x000000010892d830 chromedriver + 2279472\n11  chromedriver                        0x000000010893883a chromedriver + 2324538\n12  chromedriver                        0x00000001089384a7 chromedriver + 2323623\n13  chromedriver                        0x0000000108914945 chromedriver + 2177349\n14  chromedriver                        0x0000000108938d41 chromedriver + 2325825\n15  chromedriver                        0x0000000108922bda chromedriver + 2235354\n16  chromedriver                        0x000000010894dc4a chromedriver + 2411594\n17  chromedriver                        0x000000010895f987 chromedriver + 2484615\n18  libsystem_pthread.dylib             0x00007ff8074261d3 _pthread_start + 125\n19  libsystem_pthread.dylib             0x00007ff807421bd3 thread_start + 15\n",
     "output_type": "error",
     "traceback": [
      "\u001b[0;31m---------------------------------------------------------------------------\u001b[0m",
      "\u001b[0;31mSessionNotCreatedException\u001b[0m                Traceback (most recent call last)",
      "\u001b[0;32m/var/folders/3y/48g8t7714vgck5trxt5sydnh0000gn/T/ipykernel_5165/3499773057.py\u001b[0m in \u001b[0;36m<module>\u001b[0;34m\u001b[0m\n\u001b[1;32m      4\u001b[0m options=opt)'''\n\u001b[1;32m      5\u001b[0m \u001b[0;31m#设置浏览器参数\u001b[0m\u001b[0;34m\u001b[0m\u001b[0;34m\u001b[0m\u001b[0m\n\u001b[0;32m----> 6\u001b[0;31m \u001b[0mdriver\u001b[0m \u001b[0;34m=\u001b[0m \u001b[0mwebdriver\u001b[0m\u001b[0;34m.\u001b[0m\u001b[0mChrome\u001b[0m\u001b[0;34m(\u001b[0m\u001b[0;34m)\u001b[0m\u001b[0;34m\u001b[0m\u001b[0;34m\u001b[0m\u001b[0m\n\u001b[0m\u001b[1;32m      7\u001b[0m \u001b[0;31m#driver = webdriver.Chrome(executable_path=CHROME_DRIVER)\u001b[0m\u001b[0;34m\u001b[0m\u001b[0;34m\u001b[0m\u001b[0m\n\u001b[1;32m      8\u001b[0m \u001b[0;34m\u001b[0m\u001b[0m\n",
      "\u001b[0;32m/Library/Frameworks/Python.framework/Versions/3.9/lib/python3.9/site-packages/selenium/webdriver/chrome/webdriver.py\u001b[0m in \u001b[0;36m__init__\u001b[0;34m(self, options, service, keep_alive)\u001b[0m\n\u001b[1;32m     47\u001b[0m         \u001b[0mself\u001b[0m\u001b[0;34m.\u001b[0m\u001b[0mservice\u001b[0m\u001b[0;34m.\u001b[0m\u001b[0mpath\u001b[0m \u001b[0;34m=\u001b[0m \u001b[0mDriverFinder\u001b[0m\u001b[0;34m.\u001b[0m\u001b[0mget_path\u001b[0m\u001b[0;34m(\u001b[0m\u001b[0mself\u001b[0m\u001b[0;34m.\u001b[0m\u001b[0mservice\u001b[0m\u001b[0;34m,\u001b[0m \u001b[0mself\u001b[0m\u001b[0;34m.\u001b[0m\u001b[0moptions\u001b[0m\u001b[0;34m)\u001b[0m\u001b[0;34m\u001b[0m\u001b[0;34m\u001b[0m\u001b[0m\n\u001b[1;32m     48\u001b[0m \u001b[0;34m\u001b[0m\u001b[0m\n\u001b[0;32m---> 49\u001b[0;31m         super().__init__(\n\u001b[0m\u001b[1;32m     50\u001b[0m             \u001b[0mDesiredCapabilities\u001b[0m\u001b[0;34m.\u001b[0m\u001b[0mCHROME\u001b[0m\u001b[0;34m[\u001b[0m\u001b[0;34m\"browserName\"\u001b[0m\u001b[0;34m]\u001b[0m\u001b[0;34m,\u001b[0m\u001b[0;34m\u001b[0m\u001b[0;34m\u001b[0m\u001b[0m\n\u001b[1;32m     51\u001b[0m             \u001b[0;34m\"goog\"\u001b[0m\u001b[0;34m,\u001b[0m\u001b[0;34m\u001b[0m\u001b[0;34m\u001b[0m\u001b[0m\n",
      "\u001b[0;32m/Library/Frameworks/Python.framework/Versions/3.9/lib/python3.9/site-packages/selenium/webdriver/chromium/webdriver.py\u001b[0m in \u001b[0;36m__init__\u001b[0;34m(self, browser_name, vendor_prefix, options, service, keep_alive)\u001b[0m\n\u001b[1;32m     52\u001b[0m \u001b[0;34m\u001b[0m\u001b[0m\n\u001b[1;32m     53\u001b[0m         \u001b[0;32mtry\u001b[0m\u001b[0;34m:\u001b[0m\u001b[0;34m\u001b[0m\u001b[0;34m\u001b[0m\u001b[0m\n\u001b[0;32m---> 54\u001b[0;31m             super().__init__(\n\u001b[0m\u001b[1;32m     55\u001b[0m                 command_executor=ChromiumRemoteConnection(\n\u001b[1;32m     56\u001b[0m                     \u001b[0mremote_server_addr\u001b[0m\u001b[0;34m=\u001b[0m\u001b[0mself\u001b[0m\u001b[0;34m.\u001b[0m\u001b[0mservice\u001b[0m\u001b[0;34m.\u001b[0m\u001b[0mservice_url\u001b[0m\u001b[0;34m,\u001b[0m\u001b[0;34m\u001b[0m\u001b[0;34m\u001b[0m\u001b[0m\n",
      "\u001b[0;32m/Library/Frameworks/Python.framework/Versions/3.9/lib/python3.9/site-packages/selenium/webdriver/remote/webdriver.py\u001b[0m in \u001b[0;36m__init__\u001b[0;34m(self, command_executor, keep_alive, file_detector, options)\u001b[0m\n\u001b[1;32m    204\u001b[0m         \u001b[0mself\u001b[0m\u001b[0;34m.\u001b[0m\u001b[0m_authenticator_id\u001b[0m \u001b[0;34m=\u001b[0m \u001b[0;32mNone\u001b[0m\u001b[0;34m\u001b[0m\u001b[0;34m\u001b[0m\u001b[0m\n\u001b[1;32m    205\u001b[0m         \u001b[0mself\u001b[0m\u001b[0;34m.\u001b[0m\u001b[0mstart_client\u001b[0m\u001b[0;34m(\u001b[0m\u001b[0;34m)\u001b[0m\u001b[0;34m\u001b[0m\u001b[0;34m\u001b[0m\u001b[0m\n\u001b[0;32m--> 206\u001b[0;31m         \u001b[0mself\u001b[0m\u001b[0;34m.\u001b[0m\u001b[0mstart_session\u001b[0m\u001b[0;34m(\u001b[0m\u001b[0mcapabilities\u001b[0m\u001b[0;34m)\u001b[0m\u001b[0;34m\u001b[0m\u001b[0;34m\u001b[0m\u001b[0m\n\u001b[0m\u001b[1;32m    207\u001b[0m \u001b[0;34m\u001b[0m\u001b[0m\n\u001b[1;32m    208\u001b[0m     \u001b[0;32mdef\u001b[0m \u001b[0m__repr__\u001b[0m\u001b[0;34m(\u001b[0m\u001b[0mself\u001b[0m\u001b[0;34m)\u001b[0m\u001b[0;34m:\u001b[0m\u001b[0;34m\u001b[0m\u001b[0;34m\u001b[0m\u001b[0m\n",
      "\u001b[0;32m/Library/Frameworks/Python.framework/Versions/3.9/lib/python3.9/site-packages/selenium/webdriver/remote/webdriver.py\u001b[0m in \u001b[0;36mstart_session\u001b[0;34m(self, capabilities)\u001b[0m\n\u001b[1;32m    289\u001b[0m \u001b[0;34m\u001b[0m\u001b[0m\n\u001b[1;32m    290\u001b[0m         \u001b[0mcaps\u001b[0m \u001b[0;34m=\u001b[0m \u001b[0m_create_caps\u001b[0m\u001b[0;34m(\u001b[0m\u001b[0mcapabilities\u001b[0m\u001b[0;34m)\u001b[0m\u001b[0;34m\u001b[0m\u001b[0;34m\u001b[0m\u001b[0m\n\u001b[0;32m--> 291\u001b[0;31m         \u001b[0mresponse\u001b[0m \u001b[0;34m=\u001b[0m \u001b[0mself\u001b[0m\u001b[0;34m.\u001b[0m\u001b[0mexecute\u001b[0m\u001b[0;34m(\u001b[0m\u001b[0mCommand\u001b[0m\u001b[0;34m.\u001b[0m\u001b[0mNEW_SESSION\u001b[0m\u001b[0;34m,\u001b[0m \u001b[0mcaps\u001b[0m\u001b[0;34m)\u001b[0m\u001b[0;34m[\u001b[0m\u001b[0;34m\"value\"\u001b[0m\u001b[0;34m]\u001b[0m\u001b[0;34m\u001b[0m\u001b[0;34m\u001b[0m\u001b[0m\n\u001b[0m\u001b[1;32m    292\u001b[0m         \u001b[0mself\u001b[0m\u001b[0;34m.\u001b[0m\u001b[0msession_id\u001b[0m \u001b[0;34m=\u001b[0m \u001b[0mresponse\u001b[0m\u001b[0;34m.\u001b[0m\u001b[0mget\u001b[0m\u001b[0;34m(\u001b[0m\u001b[0;34m\"sessionId\"\u001b[0m\u001b[0;34m)\u001b[0m\u001b[0;34m\u001b[0m\u001b[0;34m\u001b[0m\u001b[0m\n\u001b[1;32m    293\u001b[0m         \u001b[0mself\u001b[0m\u001b[0;34m.\u001b[0m\u001b[0mcaps\u001b[0m \u001b[0;34m=\u001b[0m \u001b[0mresponse\u001b[0m\u001b[0;34m.\u001b[0m\u001b[0mget\u001b[0m\u001b[0;34m(\u001b[0m\u001b[0;34m\"capabilities\"\u001b[0m\u001b[0;34m)\u001b[0m\u001b[0;34m\u001b[0m\u001b[0;34m\u001b[0m\u001b[0m\n",
      "\u001b[0;32m/Library/Frameworks/Python.framework/Versions/3.9/lib/python3.9/site-packages/selenium/webdriver/remote/webdriver.py\u001b[0m in \u001b[0;36mexecute\u001b[0;34m(self, driver_command, params)\u001b[0m\n\u001b[1;32m    344\u001b[0m         \u001b[0mresponse\u001b[0m \u001b[0;34m=\u001b[0m \u001b[0mself\u001b[0m\u001b[0;34m.\u001b[0m\u001b[0mcommand_executor\u001b[0m\u001b[0;34m.\u001b[0m\u001b[0mexecute\u001b[0m\u001b[0;34m(\u001b[0m\u001b[0mdriver_command\u001b[0m\u001b[0;34m,\u001b[0m \u001b[0mparams\u001b[0m\u001b[0;34m)\u001b[0m\u001b[0;34m\u001b[0m\u001b[0;34m\u001b[0m\u001b[0m\n\u001b[1;32m    345\u001b[0m         \u001b[0;32mif\u001b[0m \u001b[0mresponse\u001b[0m\u001b[0;34m:\u001b[0m\u001b[0;34m\u001b[0m\u001b[0;34m\u001b[0m\u001b[0m\n\u001b[0;32m--> 346\u001b[0;31m             \u001b[0mself\u001b[0m\u001b[0;34m.\u001b[0m\u001b[0merror_handler\u001b[0m\u001b[0;34m.\u001b[0m\u001b[0mcheck_response\u001b[0m\u001b[0;34m(\u001b[0m\u001b[0mresponse\u001b[0m\u001b[0;34m)\u001b[0m\u001b[0;34m\u001b[0m\u001b[0;34m\u001b[0m\u001b[0m\n\u001b[0m\u001b[1;32m    347\u001b[0m             \u001b[0mresponse\u001b[0m\u001b[0;34m[\u001b[0m\u001b[0;34m\"value\"\u001b[0m\u001b[0;34m]\u001b[0m \u001b[0;34m=\u001b[0m \u001b[0mself\u001b[0m\u001b[0;34m.\u001b[0m\u001b[0m_unwrap_value\u001b[0m\u001b[0;34m(\u001b[0m\u001b[0mresponse\u001b[0m\u001b[0;34m.\u001b[0m\u001b[0mget\u001b[0m\u001b[0;34m(\u001b[0m\u001b[0;34m\"value\"\u001b[0m\u001b[0;34m,\u001b[0m \u001b[0;32mNone\u001b[0m\u001b[0;34m)\u001b[0m\u001b[0;34m)\u001b[0m\u001b[0;34m\u001b[0m\u001b[0;34m\u001b[0m\u001b[0m\n\u001b[1;32m    348\u001b[0m             \u001b[0;32mreturn\u001b[0m \u001b[0mresponse\u001b[0m\u001b[0;34m\u001b[0m\u001b[0;34m\u001b[0m\u001b[0m\n",
      "\u001b[0;32m/Library/Frameworks/Python.framework/Versions/3.9/lib/python3.9/site-packages/selenium/webdriver/remote/errorhandler.py\u001b[0m in \u001b[0;36mcheck_response\u001b[0;34m(self, response)\u001b[0m\n\u001b[1;32m    243\u001b[0m                 \u001b[0malert_text\u001b[0m \u001b[0;34m=\u001b[0m \u001b[0mvalue\u001b[0m\u001b[0;34m[\u001b[0m\u001b[0;34m\"alert\"\u001b[0m\u001b[0;34m]\u001b[0m\u001b[0;34m.\u001b[0m\u001b[0mget\u001b[0m\u001b[0;34m(\u001b[0m\u001b[0;34m\"text\"\u001b[0m\u001b[0;34m)\u001b[0m\u001b[0;34m\u001b[0m\u001b[0;34m\u001b[0m\u001b[0m\n\u001b[1;32m    244\u001b[0m             \u001b[0;32mraise\u001b[0m \u001b[0mexception_class\u001b[0m\u001b[0;34m(\u001b[0m\u001b[0mmessage\u001b[0m\u001b[0;34m,\u001b[0m \u001b[0mscreen\u001b[0m\u001b[0;34m,\u001b[0m \u001b[0mstacktrace\u001b[0m\u001b[0;34m,\u001b[0m \u001b[0malert_text\u001b[0m\u001b[0;34m)\u001b[0m  \u001b[0;31m# type: ignore[call-arg]  # mypy is not smart enough here\u001b[0m\u001b[0;34m\u001b[0m\u001b[0;34m\u001b[0m\u001b[0m\n\u001b[0;32m--> 245\u001b[0;31m         \u001b[0;32mraise\u001b[0m \u001b[0mexception_class\u001b[0m\u001b[0;34m(\u001b[0m\u001b[0mmessage\u001b[0m\u001b[0;34m,\u001b[0m \u001b[0mscreen\u001b[0m\u001b[0;34m,\u001b[0m \u001b[0mstacktrace\u001b[0m\u001b[0;34m)\u001b[0m\u001b[0;34m\u001b[0m\u001b[0;34m\u001b[0m\u001b[0m\n\u001b[0m",
      "\u001b[0;31mSessionNotCreatedException\u001b[0m: Message: session not created: This version of ChromeDriver only supports Chrome version 86\nCurrent browser version is 115.0.5790.114 with binary path /Applications/Google Chrome.app/Contents/MacOS/Google Chrome\nStacktrace:\n0   chromedriver                        0x000000010895ac29 chromedriver + 2464809\n1   chromedriver                        0x0000000108f956f3 chromedriver + 8996595\n2   chromedriver                        0x000000010879fd56 chromedriver + 650582\n3   chromedriver                        0x0000000108719f9a chromedriver + 102298\n4   chromedriver                        0x0000000108716177 chromedriver + 86391\n5   chromedriver                        0x0000000108713430 chromedriver + 74800\n6   chromedriver                        0x0000000108745326 chromedriver + 279334\n7   chromedriver                        0x00000001087423f3 chromedriver + 267251\n8   chromedriver                        0x000000010871c230 chromedriver + 111152\n9   chromedriver                        0x000000010871d1a7 chromedriver + 115111\n10  chromedriver                        0x000000010892d830 chromedriver + 2279472\n11  chromedriver                        0x000000010893883a chromedriver + 2324538\n12  chromedriver                        0x00000001089384a7 chromedriver + 2323623\n13  chromedriver                        0x0000000108914945 chromedriver + 2177349\n14  chromedriver                        0x0000000108938d41 chromedriver + 2325825\n15  chromedriver                        0x0000000108922bda chromedriver + 2235354\n16  chromedriver                        0x000000010894dc4a chromedriver + 2411594\n17  chromedriver                        0x000000010895f987 chromedriver + 2484615\n18  libsystem_pthread.dylib             0x00007ff8074261d3 _pthread_start + 125\n19  libsystem_pthread.dylib             0x00007ff807421bd3 thread_start + 15\n"
     ]
    }
   ],
   "source": [
    "'''# 创建chrome参数对象，这一段可以根据自己需求百度，尽量提高爬虫速度\n",
    "opt = webdriver.ChromeOptions()\n",
    "opt.add_argument('blink-settings=imagesEnabled=false') #不加载图片, 提升速度\n",
    "options=opt)'''\n",
    "#设置浏览器参数\n",
    "driver = webdriver.Chrome()\n",
    "#driver = webdriver.Chrome(executable_path=CHROME_DRIVER)\n",
    "\n",
    "options = webdriver.ChromeOptions()\n",
    "options.add_argument('--no-sandbox')\n",
    "options.add_argument('--disable-dev-shm-usage')\n",
    "\n"
   ]
  },
  {
   "cell_type": "code",
   "execution_count": null,
   "metadata": {},
   "outputs": [],
   "source": [
    "#href文件是要爬取的链接库，如果只需要爬取一个文件，只需要设置href为网址\n",
    "href=pd.read_csv('mer_info.csv',encoding='GBK')\n",
    "href = href ['href']\n",
    "driver.get(href[0])\n",
    "\n",
    "\n",
    "#打开网站后手动登陆一下大众点评，再执行下面的语句\n"
   ]
  },
  {
   "cell_type": "code",
   "execution_count": 8,
   "metadata": {},
   "outputs": [
    {
     "ename": "NameError",
     "evalue": "name 'driver' is not defined",
     "output_type": "error",
     "traceback": [
      "\u001b[0;31m---------------------------------------------------------------------------\u001b[0m",
      "\u001b[0;31mNameError\u001b[0m                                 Traceback (most recent call last)",
      "\u001b[0;32m/var/folders/3y/48g8t7714vgck5trxt5sydnh0000gn/T/ipykernel_5165/3116458969.py\u001b[0m in \u001b[0;36m<module>\u001b[0;34m\u001b[0m\n\u001b[1;32m      1\u001b[0m \u001b[0;31m#获取cookies\u001b[0m\u001b[0;34m\u001b[0m\u001b[0;34m\u001b[0m\u001b[0m\n\u001b[0;32m----> 2\u001b[0;31m \u001b[0mcookies\u001b[0m \u001b[0;34m=\u001b[0m \u001b[0mdriver\u001b[0m\u001b[0;34m.\u001b[0m\u001b[0mget_cookies\u001b[0m\u001b[0;34m(\u001b[0m\u001b[0;34m)\u001b[0m\u001b[0;34m\u001b[0m\u001b[0;34m\u001b[0m\u001b[0m\n\u001b[0m\u001b[1;32m      3\u001b[0m '''f1 = open('cookie.txt', 'w')\n\u001b[1;32m      4\u001b[0m \u001b[0mf1\u001b[0m\u001b[0;34m.\u001b[0m\u001b[0mwrite\u001b[0m\u001b[0;34m(\u001b[0m\u001b[0mjson\u001b[0m\u001b[0;34m.\u001b[0m\u001b[0mdumps\u001b[0m\u001b[0;34m(\u001b[0m\u001b[0mcookies\u001b[0m\u001b[0;34m)\u001b[0m\u001b[0;34m)\u001b[0m\u001b[0;34m\u001b[0m\u001b[0;34m\u001b[0m\u001b[0m\n\u001b[1;32m      5\u001b[0m \u001b[0mf1\u001b[0m\u001b[0;34m.\u001b[0m\u001b[0mclose\u001b[0m\u001b[0;34m\u001b[0m\u001b[0;34m\u001b[0m\u001b[0m\n",
      "\u001b[0;31mNameError\u001b[0m: name 'driver' is not defined"
     ]
    }
   ],
   "source": [
    "#获取cookies\n",
    "cookies = driver.get_cookies()\n",
    "'''f1 = open('cookie.txt', 'w')\n",
    "f1.write(json.dumps(cookies))\n",
    "f1.close\n",
    "f1 = open('cookie.txt')\n",
    "cookie = f1.read()\n",
    "cookie =json.loads(cookie)'''"
   ]
  },
  {
   "cell_type": "code",
   "execution_count": null,
   "metadata": {},
   "outputs": [],
   "source": [
    "#加载cookie，之后载入的界面会自动登陆\n",
    "driver.add_cookie(cookies[0])\n",
    "#抓取标签，自定义函数x是返回的list，y是内容的xpath路径，z是需要get的属性\n",
    "def get_tag(x,y,z):\n",
    "    xpath = y\n",
    "    doc = driver.find_elements_by_xpath(xpath)\n",
    "    x=[c.get_attribute(z) for c in doc]\n",
    "    #x = x+b\n",
    "    return x\n",
    "\n",
    "#定义一些空列表\n",
    "#list(range(0,len(href))\n",
    "\n",
    "user_id = []\n",
    "comment_time = []\n",
    "comennt1 = []\n",
    "comment2=[]\n",
    "\n",
    "#更改第下面的range里面的参数，100-200，200-300，300-400，400-500，500-600，600-len(href)\n",
    "for i in list(range(0,len(href)):\n",
    "    #载入网址,大众点评的网址还是很规律的，除了主页网址，商户地址就是shop/商户号，用户地址就是 \n",
    "    #member/用户号，搜索就是搜索字符的转码\n",
    "    url = href[i] + '/review_all'\n",
    "    driver.get(url)\n",
    "    \n",
    "    #评论页面循环\n",
    "    for m in list(range(0,100)):\n",
    "        #选取特定时间评论的内容\n",
    "        comment_time = driver.find_elements_by_class_name('time')\n",
    "        comment_time = [n.text.split(' ')[0] for n in comment_time]\n",
    "        x = pd.DataFrame({'time':comment_time})\n",
    "        x['time']=pd.to_datetime(x['time'],format = '%Y-%m-%d %H:%M')\n",
    "\n",
    "        #如果该页评论时间中，在2018年7月27日之后评论的数量少于2个，就不抓取\n",
    "        if sum(x['time'] > pd.to_datetime('2018-7-27 15:00',format = '%Y-%m-%d %H:%M'))<=2:\n",
    "            break\n",
    "        else:\n",
    "            #抓取评论用户的id\n",
    "            user_id = get_tag(user_id,'//*[@id=\"reviewlist\"]/div[2]/div[1]/div[3]/div[3]/ul/li/div/div[1]/a','href')\n",
    "            #自动点开展开评论\n",
    "            for j in list(range(1,25)):\n",
    "                try:\n",
    "                    driver.find_element_by_link_text('展开评论').click()\n",
    "                except:\n",
    "                    break\n",
    "            \n",
    "\n",
    "            #抓取用户评论的字数，如果要评论只需要把len函数去掉即可，但是大众点评随机把文字替换成了图片，抓取的评论会有很多的缺失\n",
    "            comment1 = driver.find_elements_by_xpath('//*[@id=\"review-list\"]/div[2]/div[1]/div[3]/div[3]/ul/li/div/div[3]')\n",
    "            comment2 = driver.find_elements_by_xpath('//*[@id=\"review-list\"]/div[2]/div[1]/div[3]/div[3]/ul/li/div/div[4]')\n",
    "\n",
    "            if len(comment2)==0:\n",
    "                comment1 = driver.find_elements_by_xpath('//*[@id=\"review-list\"]/div[2]/div[1]/div[3]/div[2]/ul/li/div/div[3]')\n",
    "                comment2 = driver.find_elements_by_xpath('//*[@id=\"review-list\"]/div[2]/div[1]/div[3]/div[2]/ul/li/div/div[4]')\n",
    "            else:\n",
    "                pass\n",
    "            comment_len1 = [len(k.text) for k in comment1]\n",
    "            comment_len2 = [len(k.text) for k in comment2]\n",
    "            try:\n",
    "                #数据拼接成数据框\n",
    "                y = pd.DataFrame({'usre_id':user_id,\n",
    "                            'time':x['time'],\n",
    "                            'comment_len1':comment_len1,\n",
    "                            'comment_len2':comment_len2})\n",
    "                y['mer_href'] = href[i]\n",
    "\n",
    "############下面这个i一定要改成和上面起始值一样的，不然会报错\n",
    "            if i == 0 &m==0:\n",
    "                mer_comment_info_0 = y\n",
    "            else:\n",
    "                mer_comment_info_0 = pd.concat([mer_comment_info_0,y],axis = 0)\n",
    "                mer_comment_info_0.to_csv('D:\\\\mer_comment_info156-667.csv')\n",
    "                #没加入一页评论，输出一个字符，随时查看进度\n",
    "                print(str(i)+'read'+str(m))   \n",
    "            except:\n",
    "                #如果发生错误不要停止程序，同时输出错误的页码\n",
    "                print(str(i)+'!!!!!!!!!!!!!!!!!!!!!!!!!!!!!!!'+str(m))\n",
    "                pass\n",
    "                \n",
    "        try:\n",
    "            #翻页\n",
    "            driver.find_element_by_link_text('下一页').click()\n",
    "        except:\n",
    "            #如果最后一页，进入下一个href\n",
    "            break\n"
   ]
  }
 ],
 "metadata": {
  "kernelspec": {
   "display_name": "Python 3",
   "language": "python",
   "name": "python3"
  },
  "language_info": {
   "codemirror_mode": {
    "name": "ipython",
    "version": 3
   },
   "file_extension": ".py",
   "mimetype": "text/x-python",
   "name": "python",
   "nbconvert_exporter": "python",
   "pygments_lexer": "ipython3",
   "version": "3.9.7"
  },
  "orig_nbformat": 4
 },
 "nbformat": 4,
 "nbformat_minor": 2
}
