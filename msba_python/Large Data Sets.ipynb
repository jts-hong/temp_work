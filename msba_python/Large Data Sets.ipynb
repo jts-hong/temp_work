{
 "cells": [
  {
   "cell_type": "code",
   "execution_count": 9,
   "id": "ef3637a5",
   "metadata": {
    "deletable": false,
    "editable": false
   },
   "outputs": [
    {
     "name": "stdout",
     "output_type": "stream",
     "text": [
      "Requirement already satisfied: result-reporter in /Users/skg/anaconda3/lib/python3.11/site-packages (0.2.0)\n",
      "Collecting result-reporter\n",
      "  Downloading result_reporter-0.2.1-py3-none-any.whl (3.3 kB)\n",
      "Requirement already satisfied: requests>=2.25.0 in /Users/skg/anaconda3/lib/python3.11/site-packages (from result-reporter) (2.29.0)\n",
      "Requirement already satisfied: charset-normalizer<4,>=2 in /Users/skg/anaconda3/lib/python3.11/site-packages (from requests>=2.25.0->result-reporter) (2.0.4)\n",
      "Requirement already satisfied: idna<4,>=2.5 in /Users/skg/anaconda3/lib/python3.11/site-packages (from requests>=2.25.0->result-reporter) (3.4)\n",
      "Requirement already satisfied: urllib3<1.27,>=1.21.1 in /Users/skg/anaconda3/lib/python3.11/site-packages (from requests>=2.25.0->result-reporter) (1.26.16)\n",
      "Requirement already satisfied: certifi>=2017.4.17 in /Users/skg/anaconda3/lib/python3.11/site-packages (from requests>=2.25.0->result-reporter) (2023.5.7)\n",
      "Installing collected packages: result-reporter\n",
      "  Attempting uninstall: result-reporter\n",
      "    Found existing installation: result-reporter 0.2.0\n",
      "    Uninstalling result-reporter-0.2.0:\n",
      "      Successfully uninstalled result-reporter-0.2.0\n",
      "Successfully installed result-reporter-0.2.1\n"
     ]
    }
   ],
   "source": [
    "!pip3 install -U result-reporter"
   ]
  },
  {
   "cell_type": "code",
   "execution_count": 10,
   "id": "532dfec9",
   "metadata": {
    "deletable": false,
    "editable": false
   },
   "outputs": [],
   "source": [
    "try:\n",
    "    import rr\n",
    "except ModuleNotFoundError:\n",
    "    import sys\n",
    "    import os\n",
    "    path = list(filter(lambda p: p.endswith('site-packages'), sys.path))[0]\n",
    "    parts = path.split(os.sep)\n",
    "    new_parts = []\n",
    "    for part in parts:\n",
    "        if part == 'lib':\n",
    "            break\n",
    "        new_parts.append(part)\n",
    "        path = os.sep.join(new_parts + ['bin', 'pip3'])\n",
    "    print(f'Try running this in a new cell: !{path}', 'install -U result-reporter --index-url=https://pypi.org/simple')\n",
    "\n",
    "rr.set_global_endpoint('https://result-reporter.com/ingest')\n",
    "rr.set_global_token('be22f3b1-b8e5-462d-8487-844027f3d454')"
   ]
  },
  {
   "cell_type": "markdown",
   "id": "bb5b8a8c",
   "metadata": {},
   "source": [
    "**Intro**\n",
    "\n",
    "This exercise practices use large data sets. From fetching to minimal data analysis.\n",
    "\n",
    "**Challenge**\n",
    "\n",
    "Simply explore the data for the first half of this exercise. Then follow the function doc strings for development in the second half. \n",
    "\n",
    "**Data**\n",
    "\n",
    "Last month of 311 NYC data:\n",
    "\n",
    "- https://data.cityofnewyork.us/Social-Services/Last-Month/j7mx-4wd6\n",
    "- https://storage.googleapis.com/columbia-python-bootcamp-ieor/NYC-311-last_month.zip (~20 MiB) [USE THIS TO PASS ASSERTS]"
   ]
  },
  {
   "cell_type": "code",
   "execution_count": 11,
   "id": "5994c541",
   "metadata": {},
   "outputs": [],
   "source": [
    "import pathlib\n",
    "\n",
    "# Change Me!\n",
    "EXERCISE_DATA_PATH = pathlib.Path('/Users/skg/Desktop/test/msba_python/Last_Month.csv')"
   ]
  },
  {
   "cell_type": "code",
   "execution_count": 12,
   "id": "7d7ea190",
   "metadata": {},
   "outputs": [],
   "source": [
    "def get_data() -> str:\n",
    "    with open(EXERCISE_DATA_PATH) as fp:\n",
    "        return fp.read()"
   ]
  },
  {
   "cell_type": "code",
   "execution_count": 13,
   "id": "ea29f740",
   "metadata": {},
   "outputs": [],
   "source": [
    "### BEGIN TESTS\n",
    "def get_data_range():\n",
    "    return 100_000_000 <= len(get_data()) <= 200_000_000\n",
    "### END TESTS"
   ]
  },
  {
   "cell_type": "code",
   "execution_count": 14,
   "id": "48aee4a0",
   "metadata": {
    "deletable": false,
    "editable": false
   },
   "outputs": [],
   "source": [
    "### BEGIN TESTS\n",
    "with rr.Wrap(get_data_range) as func:\n",
    "    result = func()\n",
    "    assert result, len(get_data())\n",
    "### END TESTS"
   ]
  },
  {
   "cell_type": "code",
   "execution_count": 15,
   "id": "3ea4fb74",
   "metadata": {},
   "outputs": [
    {
     "data": {
      "text/plain": [
       "'Unique Key,Created Date,Closed Date,Agency,Agency Name,Complaint Type,Descriptor,Location Type,Incident Zip,Incident Address,Street Name,Cross Street 1,Cross Street 2,Intersection Street 1,Intersection Street 2,Address Type,City,Landmark,Facility Type,Status,Due Date,Resolution Description,Resolution Action Updated Date,Community Board,Borough,X Coordinate (State Plane),Y Coordinate (State Plane),Park Facility Name,Park Borough,Vehicle Type,Taxi Company Borough,Taxi Pick Up Location,Bridge Highway Name,Bridge Highway Direction,Road Ramp,Bridge Highway Segment,Latitude,Longitude,Location\\n37818993,12/01/2017 12:00:12 AM,12/01/2017 04:11:19 AM,NYPD,New York City Police Department,Noise - Residential,Banging/Pounding,Residential Building/House,10461,2504 FRISBY AVENUE,FRISBY AVENUE,ST PETERS AVENUE,OVERING STREET,,,ADDRESS,BRONX,,Precinct,Closed,12/01/2017 08:00:12 AM,The Police Department responded to the complaint and with the information available observed no evidence of the violation at that time.,12/01/2017 '"
      ]
     },
     "execution_count": 15,
     "metadata": {},
     "output_type": "execute_result"
    }
   ],
   "source": [
    "# Let's take a quick look at the data.\n",
    "get_data()[:1024]"
   ]
  },
  {
   "cell_type": "code",
   "execution_count": 16,
   "id": "0461f2a3",
   "metadata": {},
   "outputs": [],
   "source": [
    "import csv\n",
    "\n",
    "def get_data() -> list:\n",
    "    \"\"\"\n",
    "    Return the data as a list of dicts.\n",
    "    \n",
    "    Overwrite the existing get_data function.\n",
    "    \"\"\"\n",
    "    with open(EXERCISE_DATA_PATH) as fp:\n",
    "        return list(csv.DictReader(fp))"
   ]
  },
  {
   "cell_type": "code",
   "execution_count": 17,
   "id": "afdb19f7",
   "metadata": {},
   "outputs": [],
   "source": [
    "### BEGIN TESTS\n",
    "def get_data_len():\n",
    "    return len(get_data())\n",
    "### END TESTS"
   ]
  },
  {
   "cell_type": "code",
   "execution_count": 18,
   "id": "d2389d72",
   "metadata": {
    "deletable": false,
    "editable": false
   },
   "outputs": [],
   "source": [
    "### BEGIN TESTS\n",
    "with rr.Wrap(get_data_len) as func:\n",
    "    result = func()\n",
    "    assert result == 219274, result\n",
    "### END TESTS"
   ]
  },
  {
   "cell_type": "code",
   "execution_count": 19,
   "id": "d93e15d8",
   "metadata": {},
   "outputs": [],
   "source": [
    "### BEGIN TESTS\n",
    "def get_data_type():\n",
    "    return isinstance(get_data()[0], dict)\n",
    "### END TESTS"
   ]
  },
  {
   "cell_type": "code",
   "execution_count": 20,
   "id": "b4c25b48",
   "metadata": {
    "deletable": false,
    "editable": false
   },
   "outputs": [],
   "source": [
    "### BEGIN TESTS\n",
    "with rr.Wrap(get_data_type) as func:\n",
    "    result = func()\n",
    "    assert result, type(get_data()[0])\n",
    "### END TESTS"
   ]
  },
  {
   "cell_type": "code",
   "execution_count": 43,
   "id": "b4920e3a",
   "metadata": {},
   "outputs": [],
   "source": [
    "def min_max_lat(data) -> (float, float):\n",
    "    \"\"\"\n",
    "    Return the minimum and maximum latitudes in the data set.\n",
    "    \n",
    "    Ignore latitudes that can not be cast to a float.\n",
    "    \"\"\"\n",
    "    #print(data[0])\n",
    "    min_lat = 100000\n",
    "    max_lat = -10000\n",
    "    for item in data:\n",
    "        try:\n",
    "            lat = float(item['Latitude'])\n",
    "        except:\n",
    "            lat = min_lat\n",
    "        if  lat<min_lat:\n",
    "            min_lat=float(item['Latitude'])\n",
    "        if lat >max_lat:\n",
    "            max_lat=float(item['Latitude'] )\n",
    "    return(min_lat,max_lat)\n",
    "    #raise NotImplementedError()\n"
   ]
  },
  {
   "cell_type": "code",
   "execution_count": 44,
   "id": "f249e0aa",
   "metadata": {},
   "outputs": [],
   "source": [
    "### BEGIN TESTS\n",
    "def get_min_max_lat():\n",
    "    return min_max_lat(get_data())\n",
    "### END TESTS"
   ]
  },
  {
   "cell_type": "code",
   "execution_count": 45,
   "id": "cdfa59b9",
   "metadata": {
    "deletable": false,
    "editable": false
   },
   "outputs": [],
   "source": [
    "### BEGIN TESTS\n",
    "with rr.Wrap(get_min_max_lat) as func:\n",
    "    result = func()\n",
    "    assert result == (40.49965901258716, 40.912868795316655), result\n",
    "### END TESTS"
   ]
  },
  {
   "cell_type": "markdown",
   "id": "9120997d",
   "metadata": {},
   "source": [
    "### Parse Resolution Description\n",
    "\n",
    "Explore the \"Resolution Description\" key's value a bit. Then, count the number of lines that have any of a given set of keywords. Use sets to arrive at your solution."
   ]
  },
  {
   "cell_type": "code",
   "execution_count": 46,
   "id": "a7630c25",
   "metadata": {},
   "outputs": [
    {
     "data": {
      "text/plain": [
       "{'Unique Key': '37818993',\n",
       " 'Created Date': '12/01/2017 12:00:12 AM',\n",
       " 'Closed Date': '12/01/2017 04:11:19 AM',\n",
       " 'Agency': 'NYPD',\n",
       " 'Agency Name': 'New York City Police Department',\n",
       " 'Complaint Type': 'Noise - Residential',\n",
       " 'Descriptor': 'Banging/Pounding',\n",
       " 'Location Type': 'Residential Building/House',\n",
       " 'Incident Zip': '10461',\n",
       " 'Incident Address': '2504 FRISBY AVENUE',\n",
       " 'Street Name': 'FRISBY AVENUE',\n",
       " 'Cross Street 1': 'ST PETERS AVENUE',\n",
       " 'Cross Street 2': 'OVERING STREET',\n",
       " 'Intersection Street 1': '',\n",
       " 'Intersection Street 2': '',\n",
       " 'Address Type': 'ADDRESS',\n",
       " 'City': 'BRONX',\n",
       " 'Landmark': '',\n",
       " 'Facility Type': 'Precinct',\n",
       " 'Status': 'Closed',\n",
       " 'Due Date': '12/01/2017 08:00:12 AM',\n",
       " 'Resolution Description': 'The Police Department responded to the complaint and with the information available observed no evidence of the violation at that time.',\n",
       " 'Resolution Action Updated Date': '12/01/2017 04:11:19 AM',\n",
       " 'Community Board': '10 BRONX',\n",
       " 'Borough': 'BRONX',\n",
       " 'X Coordinate (State Plane)': '1026791',\n",
       " 'Y Coordinate (State Plane)': '245346',\n",
       " 'Park Facility Name': 'Unspecified',\n",
       " 'Park Borough': 'BRONX',\n",
       " 'Vehicle Type': '',\n",
       " 'Taxi Company Borough': '',\n",
       " 'Taxi Pick Up Location': '',\n",
       " 'Bridge Highway Name': '',\n",
       " 'Bridge Highway Direction': '',\n",
       " 'Road Ramp': '',\n",
       " 'Bridge Highway Segment': '',\n",
       " 'Latitude': '40.8399908620355',\n",
       " 'Longitude': '-73.84625500466984',\n",
       " 'Location': '(40.8399908620355, -73.84625500466984)'}"
      ]
     },
     "execution_count": 46,
     "metadata": {},
     "output_type": "execute_result"
    }
   ],
   "source": [
    "first_row = get_data()[0]\n",
    "first_row"
   ]
  },
  {
   "cell_type": "code",
   "execution_count": 47,
   "id": "50c5a64f",
   "metadata": {},
   "outputs": [
    {
     "data": {
      "text/plain": [
       "'The Police Department responded to the complaint and with the information available observed no evidence of the violation at that time.'"
      ]
     },
     "execution_count": 47,
     "metadata": {},
     "output_type": "execute_result"
    }
   ],
   "source": [
    "res_desc = first_row.get('Resolution Description')\n",
    "res_desc"
   ]
  },
  {
   "cell_type": "code",
   "execution_count": 48,
   "id": "977ade61",
   "metadata": {},
   "outputs": [
    {
     "data": {
      "text/plain": [
       "['The',\n",
       " 'Police',\n",
       " 'Department',\n",
       " 'responded',\n",
       " 'to',\n",
       " 'the',\n",
       " 'complaint',\n",
       " 'and',\n",
       " 'with',\n",
       " 'the',\n",
       " 'information',\n",
       " 'available',\n",
       " 'observed',\n",
       " 'no',\n",
       " 'evidence',\n",
       " 'of',\n",
       " 'the',\n",
       " 'violation',\n",
       " 'at',\n",
       " 'that']"
      ]
     },
     "execution_count": 48,
     "metadata": {},
     "output_type": "execute_result"
    }
   ],
   "source": [
    "res_desc.split()[:20]"
   ]
  },
  {
   "cell_type": "code",
   "execution_count": 52,
   "id": "de2672c1",
   "metadata": {},
   "outputs": [],
   "source": [
    "def predicate(text: str, keywords: set) -> bool:\n",
    "    \"\"\"\n",
    "    Return true if text has any one of the words listed in keywords.\n",
    "    \"\"\"\n",
    "    original_list = text.split()\n",
    "    lowercase_list = [x.lower() for x in original_list]\n",
    "\n",
    "    for word in keywords:\n",
    "        if word in lowercase_list:\n",
    "            return True\n",
    "    return False\n",
    "    #raise NotImplementedError()\n"
   ]
  },
  {
   "cell_type": "code",
   "execution_count": 53,
   "id": "b9b73b6a",
   "metadata": {
    "deletable": false,
    "editable": false
   },
   "outputs": [],
   "source": [
    "### BEGIN TESTS\n",
    "with rr.Wrap(predicate) as func:\n",
    "    result = func(\n",
    "        'New Fiction Cashier mole eleVATOR',\n",
    "        set(['fiction']),\n",
    "    )\n",
    "    assert result\n",
    "### END TESTS"
   ]
  },
  {
   "cell_type": "code",
   "execution_count": 54,
   "id": "2734f544",
   "metadata": {
    "deletable": false,
    "editable": false
   },
   "outputs": [],
   "source": [
    "### BEGIN TESTS\n",
    "with rr.Wrap(predicate) as func:\n",
    "    result = func(\n",
    "        'New Fiction Cashier mole eleVATOR',\n",
    "        set(['fiction', 'elevator', '']),\n",
    "    )\n",
    "    assert result\n",
    "### END TESTS"
   ]
  },
  {
   "cell_type": "code",
   "execution_count": 55,
   "id": "47e60ede",
   "metadata": {},
   "outputs": [],
   "source": [
    "### BEGIN TESTS\n",
    "def get_result_not_pred_empty():\n",
    "    return not predicate(\n",
    "        'New Fiction Cashier mole eleVATOR',\n",
    "        set([]),\n",
    "    )\n",
    "### END TESTS"
   ]
  },
  {
   "cell_type": "code",
   "execution_count": 56,
   "id": "6c724d8c",
   "metadata": {
    "deletable": false,
    "editable": false
   },
   "outputs": [],
   "source": [
    "### BEGIN TESTS\n",
    "with rr.Wrap(get_result_not_pred_empty) as func:\n",
    "    result = func()\n",
    "    assert result\n",
    "### END TESTS"
   ]
  },
  {
   "cell_type": "code",
   "execution_count": 57,
   "id": "c9e04bdc",
   "metadata": {},
   "outputs": [],
   "source": [
    "### BEGIN TESTS\n",
    "def get_result_not_pred_coffee():\n",
    "    return not predicate(\n",
    "        'New Fiction Cashier mole eleVATOR',\n",
    "        set(['coffee']),\n",
    "    )\n",
    "### END TESTS"
   ]
  },
  {
   "cell_type": "code",
   "execution_count": 58,
   "id": "05b944ac",
   "metadata": {
    "deletable": false,
    "editable": false
   },
   "outputs": [],
   "source": [
    "### BEGIN TESTS\n",
    "with rr.Wrap(get_result_not_pred_coffee) as func:\n",
    "    result = func()\n",
    "    assert result\n",
    "### END TESTS"
   ]
  },
  {
   "cell_type": "code",
   "execution_count": 59,
   "id": "9d57977a",
   "metadata": {
    "deletable": false,
    "editable": false
   },
   "outputs": [],
   "source": [
    "### BEGIN TESTS\n",
    "with rr.Wrap(predicate) as func:\n",
    "    result = func(\n",
    "        res_desc,\n",
    "        set(['evidence']),\n",
    "    )\n",
    "    assert result\n",
    "### END TESTS"
   ]
  },
  {
   "cell_type": "code",
   "execution_count": 70,
   "id": "a3abf860",
   "metadata": {},
   "outputs": [],
   "source": [
    "def count_fraction(data: list, keywords: set) -> float:\n",
    "    \"\"\"\n",
    "    Count the number of rows (represented as dicts) that have a\n",
    "    'Resolution Description' with one of the keywords listed in 'keywords'.\n",
    "    \"\"\"\n",
    "    counter = 0\n",
    "    for row in data:\n",
    "        des = row['Resolution Description']\n",
    "        if predicate(des,keywords):\n",
    "            counter+=1\n",
    "    return counter/len(data)\n",
    "    #raise NotImplementedError()\n"
   ]
  },
  {
   "cell_type": "code",
   "execution_count": 71,
   "id": "e25c8528",
   "metadata": {},
   "outputs": [],
   "source": [
    "### BEGIN TESTS\n",
    "def count_fraction_empty():\n",
    "    return count_fraction(\n",
    "        get_data(),\n",
    "        set([]),\n",
    "    )\n",
    "### END TESTS"
   ]
  },
  {
   "cell_type": "code",
   "execution_count": 72,
   "id": "4dd83362",
   "metadata": {
    "deletable": false,
    "editable": false
   },
   "outputs": [],
   "source": [
    "### BEGIN TESTS\n",
    "with rr.Wrap(count_fraction_empty) as func:\n",
    "    result = func()\n",
    "    assert result == 0, result\n",
    "### END TESTS"
   ]
  },
  {
   "cell_type": "code",
   "execution_count": 73,
   "id": "0cbb5266",
   "metadata": {},
   "outputs": [],
   "source": [
    "### BEGIN TESTS\n",
    "def count_fraction_landlord():\n",
    "    return count_fraction(\n",
    "        get_data(),\n",
    "        {'landlord'},\n",
    "    )\n",
    "### END TESTS"
   ]
  },
  {
   "cell_type": "code",
   "execution_count": 74,
   "id": "2762628c",
   "metadata": {
    "deletable": false,
    "editable": false
   },
   "outputs": [],
   "source": [
    "### BEGIN TESTS\n",
    "with rr.Wrap(count_fraction_landlord) as func:\n",
    "    result = func()\n",
    "    assert result == 0.00020522268942054232, result\n",
    "### END TESTS"
   ]
  },
  {
   "cell_type": "code",
   "execution_count": null,
   "id": "fe1abddb",
   "metadata": {},
   "outputs": [],
   "source": []
  }
 ],
 "metadata": {
  "kernelspec": {
   "display_name": "Python 3 (ipykernel)",
   "language": "python",
   "name": "python3"
  },
  "language_info": {
   "codemirror_mode": {
    "name": "ipython",
    "version": 3
   },
   "file_extension": ".py",
   "mimetype": "text/x-python",
   "name": "python",
   "nbconvert_exporter": "python",
   "pygments_lexer": "ipython3",
   "version": "3.9.7"
  }
 },
 "nbformat": 4,
 "nbformat_minor": 5
}
