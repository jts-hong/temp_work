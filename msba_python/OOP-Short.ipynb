{
 "cells": [
  {
   "cell_type": "markdown",
   "metadata": {},
   "source": [
    "## Object Oriented Programming (OOP)"
   ]
  },
  {
   "cell_type": "markdown",
   "metadata": {},
   "source": [
    "#### Four Pillars of Object Oriented Programming \n",
    "1. Abstraction\n",
    "    - User interact with only the data and methods they need. Everything else is hidden.\n",
    "1. Encapsulation\n",
    "    - Data and functions that operate on the data live together.\n",
    "1. Inheritance\n",
    "    - Creating new blue prints from previous one and only overriding what needs to change.\n",
    "1. Polymorphism\n",
    "    - Objects can share method names with objects of separate classes and act like those classes.\n"
   ]
  },
  {
   "cell_type": "markdown",
   "metadata": {},
   "source": [
    "#### Classes"
   ]
  },
  {
   "cell_type": "code",
   "execution_count": 1,
   "metadata": {},
   "outputs": [],
   "source": [
    "# blue print for object\n",
    "class Car:\n",
    "    def go(self):  # \"go\" is a functional attribute (it's a method)\n",
    "        print('Driving forward...')\n",
    "        return 'Traveled X kilometers'  # methods can return values just like regular functions."
   ]
  },
  {
   "cell_type": "code",
   "execution_count": 2,
   "metadata": {},
   "outputs": [
    {
     "data": {
      "text/plain": [
       "<__main__.Car at 0x7fee6045cfa0>"
      ]
     },
     "execution_count": 2,
     "metadata": {},
     "output_type": "execute_result"
    }
   ],
   "source": [
    "c = Car()  # instantiate object of class\n",
    "c"
   ]
  },
  {
   "cell_type": "code",
   "execution_count": 3,
   "metadata": {},
   "outputs": [
    {
     "name": "stdout",
     "output_type": "stream",
     "text": [
      "Driving forward...\n"
     ]
    },
    {
     "data": {
      "text/plain": [
       "'Traveled X kilometers'"
      ]
     },
     "execution_count": 3,
     "metadata": {},
     "output_type": "execute_result"
    }
   ],
   "source": [
    "c.go()  # call method"
   ]
  },
  {
   "cell_type": "code",
   "execution_count": 4,
   "metadata": {},
   "outputs": [
    {
     "name": "stdout",
     "output_type": "stream",
     "text": [
      "The id of self is 140661794131440\n",
      "The id of c is    140661794131440\n"
     ]
    }
   ],
   "source": [
    "# ids of c and of self are the same, same object in memory\n",
    "class Car:\n",
    "    def what_is_my_id_based_on_self(self):\n",
    "        print(f'The id of self is {id(self)}')\n",
    "\n",
    "c = Car()\n",
    "c.what_is_my_id_based_on_self()\n",
    "print(f'The id of c is    {id(c)}')"
   ]
  },
  {
   "cell_type": "code",
   "execution_count": null,
   "metadata": {},
   "outputs": [],
   "source": [
    "d = Car()\n",
    "print(f'The id of d is    {id(d)}')\n",
    "d.what_is_my_id_based_on_self()\n",
    "print()\n",
    "e = Car()\n",
    "print(f'The id of e is    {id(e)}')\n",
    "e.what_is_my_id_based_on_self()"
   ]
  },
  {
   "cell_type": "code",
   "execution_count": null,
   "metadata": {},
   "outputs": [],
   "source": [
    "class Car:\n",
    "    def __init__(self, gas):  # the magic method called when instantiating a new object\n",
    "        self.radio = True\n",
    "        self.gas = gas  # \"gas\" is a data attribute\n",
    "\n",
    "    def add_gas(self, gas):\n",
    "        self.gas += gas\n",
    "\n",
    "    def go(self, gas):\n",
    "        self.gas = self.gas - gas\n",
    "        print(f'Driving {gas} gas units of distance. {self.gas} units left in tank.')\n",
    "        \n",
    "\n",
    "c = Car(10)  # magic metheod called, gas set to 10\n",
    "print(c.gas)\n",
    "c.go(4)  # spend gas\n",
    "c.go(4)  # spend gas"
   ]
  },
  {
   "cell_type": "code",
   "execution_count": null,
   "metadata": {},
   "outputs": [],
   "source": [
    "# One blueprint, many objects\n",
    "my_car = Car(10)\n",
    "your_car = Car(10)\n",
    "her_car = Car(10)\n",
    "his_car = Car(10)"
   ]
  },
  {
   "cell_type": "code",
   "execution_count": null,
   "metadata": {},
   "outputs": [],
   "source": [
    "# Objects will not share instance level state \n",
    "your_car.add_gas(10)\n",
    "print(f'Your car: {your_car.gas}')\n",
    "print(f'My car: {my_car.gas}')"
   ]
  },
  {
   "cell_type": "code",
   "execution_count": null,
   "metadata": {},
   "outputs": [],
   "source": [
    "class BankAccount:\n",
    "    def __init__(self, init_balance):\n",
    "        self.balance = init_balance  # or could be 0 if we didn't want to take an initial balance\n",
    "    \n",
    "    def deposit(self, money):\n",
    "        self.balance += money\n",
    "        \n",
    "    def withdraw(self, money):\n",
    "        if self.balance < money:\n",
    "            raise ValueError('Not enough money!')\n",
    "        self.balance -= money"
   ]
  },
  {
   "cell_type": "code",
   "execution_count": null,
   "metadata": {},
   "outputs": [],
   "source": [
    "b = BankAccount(10)\n",
    "b.deposit(10)  \n",
    "print(b.balance)\n",
    "\n",
    "b.withdraw(25)\n",
    "b.balance "
   ]
  },
  {
   "cell_type": "code",
   "execution_count": null,
   "metadata": {},
   "outputs": [],
   "source": [
    "class BankAccount:\n",
    "    def __init__(self, init_balance):\n",
    "        self.balance = init_balance\n",
    "        \n",
    "    def get_balance(self):\n",
    "        return self.balance\n",
    "    \n",
    "    def set_balance(self, amount):\n",
    "        if amount < 0:\n",
    "            raise ValueError('Too low!')\n",
    "        self.balance = amount\n",
    "\n",
    "    def deposit(self, money):\n",
    "        # Send notification for new balance\n",
    "        self.set_balance(self.get_balance() + money)\n",
    "        \n",
    "    def withdraw(self, money):\n",
    "        # Send notification for balance too low\n",
    "        self.set_balance(self.get_balance() - money)"
   ]
  },
  {
   "cell_type": "code",
   "execution_count": null,
   "metadata": {},
   "outputs": [],
   "source": [
    "b = BankAccount(10)\n",
    "b.deposit(10)  \n",
    "print(b.balance)\n",
    "\n",
    "b.withdraw(25)\n",
    "b.balance "
   ]
  },
  {
   "cell_type": "code",
   "execution_count": null,
   "metadata": {},
   "outputs": [],
   "source": [
    "class Car:\n",
    "    pass\n",
    "\n",
    "c = Car()\n",
    "c"
   ]
  },
  {
   "cell_type": "code",
   "execution_count": null,
   "metadata": {},
   "outputs": [],
   "source": [
    "# Other magic methods\n",
    "class Car:\n",
    "    def __init__(self, cost):\n",
    "        self.cost = cost\n",
    "\n",
    "    def __str__(self):\n",
    "        return f'Car: ${self.cost}'\n",
    "\n",
    "    def __repr__(self):\n",
    "        return f'<Car {hex(id(self))} / ${self.cost}>'\n",
    "\n",
    "c = Car(10000)\n",
    "print(str(c))\n",
    "print(c)\n",
    "print(repr(c))\n",
    "c"
   ]
  },
  {
   "cell_type": "code",
   "execution_count": null,
   "metadata": {},
   "outputs": [],
   "source": [
    "c"
   ]
  },
  {
   "cell_type": "markdown",
   "metadata": {},
   "source": [
    "#### Class level attributes"
   ]
  },
  {
   "cell_type": "code",
   "execution_count": null,
   "metadata": {},
   "outputs": [],
   "source": [
    "class Car:\n",
    "    doors = 4  # class level attribute (data attribute)\n",
    "\n",
    "    def __init__(self):  # class level attribute (functional attribute)\n",
    "        self.gas = 0  # instance level attribute (data attribute)\n",
    "    \n",
    "    # ...\n",
    "\n",
    "c1 = Car()  # create a few cars\n",
    "c2 = Car()\n",
    "c3 = Car()"
   ]
  },
  {
   "cell_type": "code",
   "execution_count": null,
   "metadata": {},
   "outputs": [],
   "source": [
    "# should have 4 doors\n",
    "print('c1:', c1.doors)\n",
    "print('c2:', c2.doors)\n",
    "print('c3:', c3.doors)"
   ]
  },
  {
   "cell_type": "code",
   "execution_count": null,
   "metadata": {},
   "outputs": [],
   "source": [
    "Car.doors = 2  # change class level attribute and all instances change"
   ]
  },
  {
   "cell_type": "code",
   "execution_count": null,
   "metadata": {},
   "outputs": [],
   "source": [
    "print('c1:', c1.doors)\n",
    "print('c2:', c2.doors)\n",
    "print('c3:', c3.doors)"
   ]
  },
  {
   "cell_type": "code",
   "execution_count": null,
   "metadata": {},
   "outputs": [],
   "source": [
    "c1.doors = 6\n",
    "c1.doors"
   ]
  },
  {
   "cell_type": "code",
   "execution_count": null,
   "metadata": {},
   "outputs": [],
   "source": [
    "c2.doors"
   ]
  },
  {
   "cell_type": "markdown",
   "metadata": {},
   "source": [
    "#### Subclassing "
   ]
  },
  {
   "cell_type": "code",
   "execution_count": null,
   "metadata": {},
   "outputs": [],
   "source": [
    "import random\n",
    "\n",
    "class Car:\n",
    "    doors = 4\n",
    "    \n",
    "    def __init__(self):\n",
    "        self.gas = 0\n",
    "    \n",
    "    # ...\n",
    "    def go(self):\n",
    "        return random.randint(1, 10)\n",
    "\n",
    "# Sedan inherits all functional and data attributes from Car.\n",
    "class Sedan(Car):  \n",
    "    pass  # No changes from basic Car\n",
    "\n",
    "# Sedan inherits all functional and data attributes from Car.\n",
    "class Coupé(Car):\n",
    "    doors = 2  # Coupé overrides Car's door count to set its own"
   ]
  },
  {
   "cell_type": "code",
   "execution_count": null,
   "metadata": {},
   "outputs": [],
   "source": [
    "s = Sedan()\n",
    "print(s.doors)\n",
    "print(s.go())"
   ]
  },
  {
   "cell_type": "code",
   "execution_count": null,
   "metadata": {},
   "outputs": [],
   "source": [
    "c = Coupé()\n",
    "print(c.doors)\n",
    "print(c.go())"
   ]
  },
  {
   "cell_type": "code",
   "execution_count": null,
   "metadata": {},
   "outputs": [],
   "source": [
    "set(dir(Car())) - set(dir(Car))  # Instance level attributes"
   ]
  },
  {
   "cell_type": "code",
   "execution_count": null,
   "metadata": {},
   "outputs": [],
   "source": [
    "class Car:\n",
    "    def honk(self):\n",
    "        # 1000 lines of code\n",
    "        return 'Honk'\n",
    "    \n",
    "class Coupé(Car):\n",
    "    def honk(self):\n",
    "        # https://www.youtube.com/watch?v=Dqc6yRIHiW0\n",
    "        return 'Ahooga'"
   ]
  },
  {
   "cell_type": "code",
   "execution_count": null,
   "metadata": {},
   "outputs": [],
   "source": [
    "Coupé().honk()"
   ]
  },
  {
   "cell_type": "code",
   "execution_count": null,
   "metadata": {},
   "outputs": [],
   "source": [
    "class Coupé(Car):\n",
    "    def honk(self):\n",
    "        return_value = super().honk()\n",
    "        return return_value + ' Ahooga'"
   ]
  },
  {
   "cell_type": "code",
   "execution_count": null,
   "metadata": {},
   "outputs": [],
   "source": [
    "Car().honk()"
   ]
  },
  {
   "cell_type": "code",
   "execution_count": null,
   "metadata": {},
   "outputs": [],
   "source": [
    "Coupé().honk()"
   ]
  },
  {
   "cell_type": "markdown",
   "metadata": {},
   "source": [
    "##### Exercises\n",
    "\n",
    "1. Create an Animal class. The initializer should take an age and save it to the instance. The Animal initializer should raise a `ValueError` if it is given a negative age. \n",
    "2. Create a Human class that subclasses Animal. Raise a `ValueError` if a Human object is created with an age greater than 150."
   ]
  },
  {
   "cell_type": "code",
   "execution_count": null,
   "metadata": {},
   "outputs": [],
   "source": [
    "### Strip for lecture\n",
    "class Animal:\n",
    "    def __init__(self, name, age):\n",
    "        self.name = name\n",
    "        self.age = age\n",
    "        \n",
    "        if self.age < 0:\n",
    "            raise ValueError('Age is too low!')\n",
    "\n",
    "# Animal('Paul', 10)\n",
    "# Animal('Paul', -10)"
   ]
  },
  {
   "cell_type": "code",
   "execution_count": null,
   "metadata": {},
   "outputs": [],
   "source": [
    "### Strip for lecture\n",
    "class Human(Animal):    \n",
    "    def __init__(self, name, age):\n",
    "        super().__init__(name, age)\n",
    "        \n",
    "        if self.age > 150: \n",
    "            raise ValueError('Age is too high!')\n",
    "\n",
    "Human('Paul', -10)\n",
    "# Human('Paul', 10)\n",
    "# Human('Paul', 160)"
   ]
  }
 ],
 "metadata": {
  "anaconda-cloud": {},
  "kernelspec": {
   "display_name": "Python 3 (ipykernel)",
   "language": "python",
   "name": "python3"
  },
  "language_info": {
   "codemirror_mode": {
    "name": "ipython",
    "version": 3
   },
   "file_extension": ".py",
   "mimetype": "text/x-python",
   "name": "python",
   "nbconvert_exporter": "python",
   "pygments_lexer": "ipython3",
   "version": "3.9.7"
  }
 },
 "nbformat": 4,
 "nbformat_minor": 2
}
