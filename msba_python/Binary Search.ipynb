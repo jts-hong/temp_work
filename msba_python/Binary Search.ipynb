{
    "cells": [
        {
            "cell_type": "code",
            "execution_count": null,
            "metadata": {
                "deletable": false,
                "editable": false,
                "trusted": true
            },
            "outputs": [],
            "source": [
                "!pip3 install -U result-reporter"
            ]
        },
        {
            "cell_type": "code",
            "execution_count": 1,
            "metadata": {
                "deletable": false,
                "editable": false,
                "trusted": true
            },
            "outputs": [],
            "source": [
                "try:\n",
                "    import rr\n",
                "except ModuleNotFoundError:\n",
                "    import sys\n",
                "    import os\n",
                "    path = list(filter(lambda p: p.endswith('site-packages'), sys.path))[0]\n",
                "    parts = path.split(os.sep)\n",
                "    new_parts = []\n",
                "    for part in parts:\n",
                "        if part == 'lib':\n",
                "            break\n",
                "        new_parts.append(part)\n",
                "        path = os.sep.join(new_parts + ['bin', 'pip3'])\n",
                "    print(f'Try running this in a new cell: !{path}', 'install -U result-reporter')\n",
                "\n",
                "rr.set_global_endpoint('https://result-reporter.com/ingest')\n",
                "rr.set_global_token('165b03bc-cb2b-45d8-9bb2-7961bfc9b050')"
            ]
        },
        {
            "cell_type": "markdown",
            "id": "e97b528d",
            "metadata": {},
            "source": [
                "**Intro**\n",
                "\n",
                "Knowledge of binary search is a critical aspect of any element CS education. It's implementation reaches toward the core of many, if not most, solutions in large data problems.\n",
                "\n",
                "**Challenge**\n",
                "\n",
                "Write an implementation of binary search!"
            ]
        },
        {
            "cell_type": "code",
            "execution_count": 26,
            "id": "077209c3",
            "metadata": {},
            "outputs": [],
            "source": [
                "from typing import Optional, Sequence\n",
                "\n",
                "\n",
                "def linear_search(x: int, data: Sequence) -> Optional[int]:\n",
                "    \"\"\"\n",
                "    Return x if x is present in sequence. Return None otherwise. Use linear search. Write it in one line.\n",
                "    \"\"\"\n",
                "\n",
                "    #return x if x in data else None\n",
                "    for i in data:\n",
                "        if i == x:\n",
                "            return x\n",
                "\n",
                "    \n"
            ]
        },
        {
            "cell_type": "code",
            "execution_count": 27,
            "id": "4478ddee",
            "metadata": {
                "deletable": false,
                "editable": false,
                "trusted": true
            },
            "outputs": [],
            "source": [
                "### BEGIN TESTS\n",
                "with rr.Wrap(linear_search) as func:\n",
                "    result = func(-1, list(range(10)))\n",
                "    assert result == None, result\n",
                "### END TESTS"
            ]
        },
        {
            "cell_type": "code",
            "execution_count": 28,
            "id": "e656f7eb",
            "metadata": {
                "deletable": false,
                "editable": false,
                "trusted": true
            },
            "outputs": [],
            "source": [
                "### BEGIN TESTS\n",
                "with rr.Wrap(linear_search) as func:\n",
                "    result = func(0, list(range(10)))\n",
                "    assert result == 0, result\n",
                "### END TESTS"
            ]
        },
        {
            "cell_type": "code",
            "execution_count": 29,
            "id": "acd59ce3",
            "metadata": {
                "deletable": false,
                "editable": false,
                "trusted": true
            },
            "outputs": [],
            "source": [
                "### BEGIN TESTS\n",
                "with rr.Wrap(linear_search) as func:\n",
                "    result = func(9, list(range(10)))\n",
                "    assert result == 9, result\n",
                "### END TESTS"
            ]
        },
        {
            "cell_type": "code",
            "execution_count": 30,
            "id": "f6e1572a",
            "metadata": {
                "deletable": false,
                "editable": false,
                "trusted": true
            },
            "outputs": [],
            "source": [
                "### BEGIN TESTS\n",
                "with rr.Wrap(linear_search) as func:\n",
                "    result = func(10, list(range(10)))\n",
                "    assert result is None, result\n",
                "### END TESTS"
            ]
        },
        {
            "cell_type": "code",
            "execution_count": 31,
            "id": "70803ba5",
            "metadata": {},
            "outputs": [],
            "source": [
                "### BEGIN TESTS\n",
                "import time\n",
                "\n",
                "def get_linear_timed_result():\n",
                "    start = time.time()\n",
                "    out = linear_search(99_999_999, list(range(100_000_000)))\n",
                "    total_time = time.time() - start\n",
                "    return out, total_time\n",
                "### END TESTS"
            ]
        },
        {
            "cell_type": "code",
            "execution_count": 32,
            "id": "eee85306",
            "metadata": {
                "deletable": false,
                "editable": false,
                "trusted": true
            },
            "outputs": [
                {
                    "name": "stdout",
                    "output_type": "stream",
                    "text": [
                        "Execution time: 8.660680055618286s\n"
                    ]
                }
            ],
            "source": [
                "### BEGIN TESTS\n",
                "with rr.Wrap(get_linear_timed_result) as func:\n",
                "    result = func()\n",
                "    assert result[0] == 99_999_999, result\n",
                "    print(f'Execution time: {result[1]}s')\n",
                "### END TESTS"
            ]
        },
        {
            "cell_type": "markdown",
            "id": "4f334966",
            "metadata": {},
            "source": [
                "Here is some psuedo-code to help the student:\n",
                "\n",
                "```\n",
                "Assume list is sorted.\n",
                "\n",
                "While there is something in the list:\n",
                "    Pick the item in the middle.\n",
                "    Is the item the item we are looking for?\n",
                "        Return item.\n",
                "\n",
                "    Is the item greater than what we are looking for? \n",
                "        Throw every thing in the list at and after the item we chose away.\n",
                "        Assume what is left is now the entire list.\n",
                "\n",
                "    Is the item less than what we are looking for?\n",
                "        Throw every thing in the list at and before the item we chose away.\n",
                "        Assume what is left is now the entire list.\n",
                "```"
            ]
        },
        {
            "cell_type": "code",
            "execution_count": 12,
            "id": "41101169",
            "metadata": {},
            "outputs": [],
            "source": [
                "def binary_search(x: int, data: Sequence) -> Optional[int]:\n",
                "    \"\"\"\n",
                "    Return x if x is present in sequence. Return None otherwise. Use binary search.\n",
                "    \"\"\"\n",
                "    # write a binary search algorithm\n",
                "    low = 0\n",
                "    high = len(data) - 1\n",
                "    \n",
                "    while low <= high:\n",
                "        mid = (low + high) // 2\n",
                "        if data[mid] == x:\n",
                "            return mid  # Target found, return its index\n",
                "        elif data[mid] < x:\n",
                "            low = mid + 1  # Target lies to the right of mid\n",
                "        else:\n",
                "            high = mid - 1  # Target lies to the left of mid\n",
                "            \n",
                "    return None  # Target not found in list\n"
            ]
        },
        {
            "cell_type": "code",
            "execution_count": 13,
            "id": "3f52fec2",
            "metadata": {
                "deletable": false,
                "editable": false,
                "trusted": true
            },
            "outputs": [],
            "source": [
                "### BEGIN TESTS\n",
                "with rr.Wrap(binary_search) as func:\n",
                "    result = func(-1, list(range(10)))\n",
                "    assert result == None, result\n",
                "### END TESTS"
            ]
        },
        {
            "cell_type": "code",
            "execution_count": 14,
            "id": "f16d701e",
            "metadata": {
                "deletable": false,
                "editable": false,
                "trusted": true
            },
            "outputs": [],
            "source": [
                "### BEGIN TESTS\n",
                "with rr.Wrap(binary_search) as func:\n",
                "    result = func(0, list(range(10)))\n",
                "    assert result == 0, result\n",
                "### END TESTS"
            ]
        },
        {
            "cell_type": "code",
            "execution_count": 15,
            "id": "e34142e2",
            "metadata": {
                "deletable": false,
                "editable": false,
                "trusted": true
            },
            "outputs": [],
            "source": [
                "### BEGIN TESTS\n",
                "with rr.Wrap(binary_search) as func:\n",
                "    result = func(9, list(range(10)))\n",
                "    assert result == 9, result\n",
                "### END TESTS"
            ]
        },
        {
            "cell_type": "code",
            "execution_count": 16,
            "id": "bfc93b58",
            "metadata": {
                "deletable": false,
                "editable": false,
                "trusted": true
            },
            "outputs": [],
            "source": [
                "### BEGIN TESTS\n",
                "with rr.Wrap(binary_search) as func:\n",
                "    result = func(10, list(range(10)))\n",
                "    assert result is None, result\n",
                "### END TESTS"
            ]
        },
        {
            "cell_type": "code",
            "execution_count": 17,
            "id": "6bd24622",
            "metadata": {},
            "outputs": [],
            "source": [
                "### BEGIN TESTS\n",
                "import time\n",
                "\n",
                "def get_binary_timed_result():\n",
                "    start = time.time()\n",
                "    out = binary_search(99_999_999, list(range(100_000_000)))\n",
                "    total_time = time.time() - start\n",
                "    return out, total_time\n",
                "### END TESTS"
            ]
        },
        {
            "cell_type": "code",
            "execution_count": 33,
            "id": "59a61830",
            "metadata": {
                "deletable": false,
                "editable": false,
                "trusted": true
            },
            "outputs": [
                {
                    "name": "stdout",
                    "output_type": "stream",
                    "text": [
                        "Execution time: 4.823324203491211s\n"
                    ]
                }
            ],
            "source": [
                "### BEGIN TESTS\n",
                "with rr.Wrap(get_binary_timed_result) as func:\n",
                "    result = func()\n",
                "    assert result[0] == 99_999_999, result\n",
                "    print(f'Execution time: {result[1]}s')\n",
                "### END TESTS"
            ]
        },
        {
            "cell_type": "code",
            "execution_count": null,
            "id": "c94a3141",
            "metadata": {},
            "outputs": [],
            "source": []
        }
    ],
    "metadata": {
        "kernelspec": {
            "display_name": "Python 3 (ipykernel)",
            "language": "python",
            "name": "python3"
        },
        "language_info": {
            "codemirror_mode": {
                "name": "ipython",
                "version": 3
            },
            "file_extension": ".py",
            "mimetype": "text/x-python",
            "name": "python",
            "nbconvert_exporter": "python",
            "pygments_lexer": "ipython3",
            "version": "3.9.7"
        }
    },
    "nbformat": 4,
    "nbformat_minor": 5
}
