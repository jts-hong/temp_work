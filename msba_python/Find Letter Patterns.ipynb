{
    "cells": [
        {
            "cell_type": "code",
            "execution_count": 1,
            "metadata": {
                "deletable": false,
                "editable": false,
                "trusted": true
            },
            "outputs": [],
            "source": [
                "try:\n",
                "    import rr\n",
                "except ModuleNotFoundError:\n",
                "    import sys\n",
                "    import os\n",
                "    path = list(filter(lambda p: p.endswith('site-packages'), sys.path))[0]\n",
                "    parts = path.split(os.sep)\n",
                "    new_parts = []\n",
                "    for part in parts:\n",
                "        if part == 'lib':\n",
                "            break\n",
                "        new_parts.append(part)\n",
                "        path = os.sep.join(new_parts + ['bin', 'pip3'])\n",
                "    print(f'Try running this in a new cell: !{path}', 'install -U result-reporter --index-url=https://pypi.org/simple')\n",
                "\n",
                "rr.set_global_endpoint('https://result-reporter.com/ingest')\n",
                "rr.set_global_token('c73b1b37-6c98-44f8-a470-83ab1a1993ac')"
            ]
        },
        {
            "cell_type": "markdown",
            "id": "17707513",
            "metadata": {},
            "source": [
                "**Intro**\n",
                "\n",
                "This exercise practices use of strings, the standard library, and more sophisticated algorithm skills.\n",
                "\n",
                "**Challenge**\n",
                "\n",
                "Write a function to find the first break in continuity in a string.\n",
                "\n",
                "Eg. `abcefg` has a break at position 3."
            ]
        },
        {
            "cell_type": "code",
            "execution_count": 14,
            "id": "80b57862",
            "metadata": {},
            "outputs": [],
            "source": [
                "import string\n",
                "\n",
                "\n",
                "def find_break(s: str) -> int:\n",
                "    \"\"\"\n",
                "    Return the index of the first break in the sequence.\n",
                "    \n",
                "    Assume the characters can only be ASCII lower case and\n",
                "    there's no need to wrap around the end of the character set.\n",
                "    \n",
                "    Return -1 if no break exists.\n",
                "    \"\"\"\n",
                "    lowercase_letters = string.ascii_lowercase\n",
                "    sorted_list = list(lowercase_letters)\n",
                "    compare_list = list(s)\n",
                "    for i in range(len(compare_list)):\n",
                "        if compare_list[i] != sorted_list[i]:\n",
                "            return i\n",
                "    return -1\n",
                "\n"
            ]
        },
        {
            "cell_type": "code",
            "execution_count": 15,
            "id": "0418674c",
            "metadata": {
                "deletable": false,
                "editable": false,
                "trusted": true
            },
            "outputs": [],
            "source": [
                "### BEGIN TESTS\n",
                "with rr.Wrap(find_break) as func:\n",
                "    result = func('')\n",
                "    assert result == -1, result\n",
                "### END TESTS"
            ]
        },
        {
            "cell_type": "code",
            "execution_count": 16,
            "id": "017e73af",
            "metadata": {
                "deletable": false,
                "editable": false,
                "trusted": true
            },
            "outputs": [],
            "source": [
                "### BEGIN TESTS\n",
                "with rr.Wrap(find_break) as func:\n",
                "    result = func('a')\n",
                "    assert result == -1, result\n",
                "### END TESTS"
            ]
        },
        {
            "cell_type": "code",
            "execution_count": 17,
            "id": "7a0b94d0",
            "metadata": {
                "deletable": false,
                "editable": false,
                "trusted": true
            },
            "outputs": [],
            "source": [
                "### BEGIN TESTS\n",
                "with rr.Wrap(find_break) as func:\n",
                "    result = func('abcdefg')\n",
                "    assert result == -1, result\n",
                "### END TESTS"
            ]
        },
        {
            "cell_type": "code",
            "execution_count": 18,
            "id": "77e9dee6",
            "metadata": {
                "deletable": false,
                "editable": false,
                "trusted": true
            },
            "outputs": [],
            "source": [
                "### BEGIN TESTS\n",
                "with rr.Wrap(find_break) as func:\n",
                "    result = func('abcefg')\n",
                "    assert result == 3, result\n",
                "### END TESTS"
            ]
        },
        {
            "cell_type": "markdown",
            "id": "e4a94972",
            "metadata": {},
            "source": [
                "### Next Level\n",
                "\n",
                "Let's take it up a notch. Let's allow for our own alphabet."
            ]
        },
        {
            "cell_type": "code",
            "execution_count": 56,
            "id": "1bb223e3",
            "metadata": {},
            "outputs": [],
            "source": [
                "def find_break_with_alphabet(s: str, alphabet: str) -> int:\n",
                "    \"\"\"\n",
                "    Return the index of the first break in the sequence assuming a given alphabet.\n",
                "    \n",
                "    Return -1 if no break exists.\n",
                "    \"\"\"\n",
                "    \n",
                "    if len(s) == 0:\n",
                "        return -1\n",
                "\n",
                "    sorted_list = list(alphabet.lower())\n",
                "    compare_list = list(s.lower())\n",
                "    start_letter = compare_list[0]\n",
                "    start_index = sorted_list.index(start_letter)\n",
                "    final_list = sorted_list[start_index:] \n",
                "    for i in range(len(compare_list)):\n",
                "        if compare_list[i] != final_list[i]:\n",
                "            return i\n",
                "    return -1\n",
                "    #raise NotImplementedError()\n"
            ]
        },
        {
            "cell_type": "code",
            "execution_count": 57,
            "id": "ee143faf",
            "metadata": {
                "deletable": false,
                "editable": false,
                "trusted": true
            },
            "outputs": [],
            "source": [
                "### BEGIN TESTS\n",
                "with rr.Wrap(find_break_with_alphabet) as func:\n",
                "    result = func('', string.ascii_lowercase)\n",
                "    assert result == -1, result\n",
                "### END TESTS"
            ]
        },
        {
            "cell_type": "code",
            "execution_count": 58,
            "id": "d163b6a8",
            "metadata": {
                "deletable": false,
                "editable": false,
                "trusted": true
            },
            "outputs": [],
            "source": [
                "### BEGIN TESTS\n",
                "with rr.Wrap(find_break_with_alphabet) as func:\n",
                "    result = func('a', string.ascii_lowercase)\n",
                "    assert result == -1, result\n",
                "### END TESTS"
            ]
        },
        {
            "cell_type": "code",
            "execution_count": 59,
            "id": "edd4e681",
            "metadata": {
                "deletable": false,
                "editable": false,
                "trusted": true
            },
            "outputs": [],
            "source": [
                "### BEGIN TESTS\n",
                "with rr.Wrap(find_break_with_alphabet) as func:\n",
                "    result = func('abcefg', string.ascii_lowercase)\n",
                "    assert result == 3, result\n",
                "### END TESTS"
            ]
        },
        {
            "cell_type": "code",
            "execution_count": 60,
            "id": "09f74dfb",
            "metadata": {
                "deletable": false,
                "editable": false,
                "trusted": true
            },
            "outputs": [],
            "source": [
                "### BEGIN TESTS\n",
                "with rr.Wrap(find_break_with_alphabet) as func:\n",
                "    result = func('JKLMNOPR', string.ascii_uppercase)\n",
                "    assert result == 7, result\n",
                "### END TESTS"
            ]
        },
        {
            "cell_type": "markdown",
            "id": "ac40f042",
            "metadata": {},
            "source": [
                "### Final Level\n",
                "\n",
                "One more jump. Let's allow for wrapping around the alphabet. This is a challenge question."
            ]
        },
        {
            "cell_type": "code",
            "execution_count": 73,
            "id": "ebb671d3",
            "metadata": {},
            "outputs": [],
            "source": [
                "def find_break_with_wrap(s: str, alphabet: str) -> int:\n",
                "    \"\"\"\n",
                "    Return the index of the first break in the sequence assuming a given alphabet.\n",
                "    \n",
                "    Allow for wrapping around the alphabet if the character sequence exhausts the alphabet.\n",
                "    \n",
                "    Eg. 'xyzb' -> 3\n",
                "    \n",
                "    Return -1 if no break exists.\n",
                "    \"\"\"\n",
                "\n",
                "    if len(s) == 0:\n",
                "        return -1\n",
                "\n",
                "    sorted_list = list(alphabet.lower())\n",
                "    compare_list = list(s.lower())\n",
                "    start_letter = compare_list[0]\n",
                "    start_index = sorted_list.index(start_letter)\n",
                "\n",
                "    if (25 -start_index) <len(compare_list):\n",
                "        sorted_list = list(alphabet.lower()[start_index:] + alphabet.lower())\n",
                "    else:\n",
                "        sorted_list = sorted_list[start_index:] \n",
                "\n",
                "    for i in range(len(compare_list)):\n",
                "        if compare_list[i] != sorted_list[i]:\n",
                "            return i\n",
                "    return -1\n",
                "    \n",
                "    #raise NotImplementedError()\n"
            ]
        },
        {
            "cell_type": "code",
            "execution_count": 74,
            "id": "4f3940dd",
            "metadata": {
                "deletable": false,
                "editable": false,
                "trusted": true
            },
            "outputs": [],
            "source": [
                "### BEGIN TESTS\n",
                "with rr.Wrap(find_break_with_wrap) as func:\n",
                "    result = func('', string.ascii_lowercase)\n",
                "    assert result == -1, result\n",
                "### END TESTS"
            ]
        },
        {
            "cell_type": "code",
            "execution_count": 75,
            "id": "513fb824",
            "metadata": {
                "deletable": false,
                "editable": false,
                "trusted": true
            },
            "outputs": [],
            "source": [
                "### BEGIN TESTS\n",
                "with rr.Wrap(find_break_with_wrap) as func:\n",
                "    result = func('a', string.ascii_lowercase)\n",
                "    assert result == -1, result\n",
                "### END TESTS"
            ]
        },
        {
            "cell_type": "code",
            "execution_count": 76,
            "id": "16803b5d",
            "metadata": {
                "deletable": false,
                "editable": false,
                "trusted": true
            },
            "outputs": [],
            "source": [
                "### BEGIN TESTS\n",
                "with rr.Wrap(find_break_with_wrap) as func:\n",
                "    result = func('abcefg', string.ascii_lowercase)\n",
                "    assert result == 3, result\n",
                "### END TESTS"
            ]
        },
        {
            "cell_type": "code",
            "execution_count": 77,
            "id": "02ab2c16",
            "metadata": {
                "deletable": false,
                "editable": false,
                "trusted": true
            },
            "outputs": [],
            "source": [
                "### BEGIN TESTS\n",
                "with rr.Wrap(find_break_with_alphabet) as func:\n",
                "    result = func('JKLMNOPR', string.ascii_uppercase)\n",
                "    assert result == 7, result\n",
                "### END TESTS"
            ]
        },
        {
            "cell_type": "code",
            "execution_count": 78,
            "id": "150fb3dc",
            "metadata": {
                "deletable": false,
                "editable": false,
                "trusted": true
            },
            "outputs": [],
            "source": [
                "### BEGIN TESTS\n",
                "with rr.Wrap(find_break_with_wrap) as func:\n",
                "    result = func('xyzabce', string.ascii_lowercase)\n",
                "    assert result == 6, result\n",
                "### END TESTS"
            ]
        }
    ],
    "metadata": {
        "kernelspec": {
            "display_name": "Python 3 (ipykernel)",
            "language": "python",
            "name": "python3"
        },
        "language_info": {
            "codemirror_mode": {
                "name": "ipython",
                "version": 3
            },
            "file_extension": ".py",
            "mimetype": "text/x-python",
            "name": "python",
            "nbconvert_exporter": "python",
            "pygments_lexer": "ipython3",
            "version": "3.9.7"
        }
    },
    "nbformat": 4,
    "nbformat_minor": 5
}
