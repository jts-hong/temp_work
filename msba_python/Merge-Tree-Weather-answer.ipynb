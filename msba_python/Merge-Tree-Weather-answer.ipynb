{
 "cells": [
  {
   "cell_type": "markdown",
   "id": "24bfde5d",
   "metadata": {},
   "source": [
    "**Intro**\n",
    "\n",
    "This exercise practices merging two related data sets together. This is a common and well studied area. Let's practice!\n",
    "\n",
    "**Challenge**\n",
    "\n",
    "In the data files we have a mappings like the following...\n",
    "\n",
    "```\n",
    "Common Name: Species Name\n",
    "```\n",
    "\n",
    "```\n",
    "Species Name: Weather\n",
    "```\n",
    "\n",
    "Create a mapping like the following:\n",
    "\n",
    "```\n",
    "Common Name: Weather\n",
    "```\n",
    "\n",
    "Only guaranteed that the specices name will be unique!\n",
    "\n",
    "**Data**\n",
    "\n",
    "https://storage.googleapis.com/columbia-python-bootcamp-ieor/merge-trees-weather.zip "
   ]
  },
  {
   "cell_type": "code",
   "execution_count": 1,
   "id": "7e96d59c",
   "metadata": {},
   "outputs": [],
   "source": [
    "import pathlib\n",
    "\n",
    "# Change Me!\n",
    "EXERCISE_DATA_PATH = pathlib.Path('/Users/paul/Downloads/merge-trees-weather')\n",
    "\n",
    "# Probably do not need to change me. \n",
    "TREES_CSV_DATA_PATH = EXERCISE_DATA_PATH / pathlib.Path('trees.csv')\n",
    "WEATHER_CSV_DATA_PATH = EXERCISE_DATA_PATH / pathlib.Path('weather.csv')"
   ]
  },
  {
   "cell_type": "code",
   "execution_count": 2,
   "id": "eadda933",
   "metadata": {},
   "outputs": [],
   "source": [
    "import csv\n",
    "\n",
    "def get_trees() -> list:\n",
    "    with open(TREES_CSV_DATA_PATH) as fp:\n",
    "        rows = list(csv.reader(fp))\n",
    "    return rows\n",
    "\n",
    "def get_weathers() -> list:\n",
    "    with open(WEATHER_CSV_DATA_PATH) as fp:\n",
    "        rows = list(csv.reader(fp))\n",
    "    return rows"
   ]
  },
  {
   "cell_type": "code",
   "execution_count": 3,
   "id": "3d68d4b9",
   "metadata": {},
   "outputs": [],
   "source": [
    "### BEGIN TESTS\n",
    "result = get_trees()\n",
    "assert len(result) == 5, len(result) \n",
    "### END TESTS"
   ]
  },
  {
   "cell_type": "code",
   "execution_count": 4,
   "id": "0e800248",
   "metadata": {},
   "outputs": [],
   "source": [
    "### BEGIN TESTS\n",
    "result = get_weathers()\n",
    "assert len(result) == 4, len(result) \n",
    "### END TESTS"
   ]
  },
  {
   "cell_type": "code",
   "execution_count": null,
   "id": "89b74d05",
   "metadata": {},
   "outputs": [],
   "source": [
    "# What would happen if there were duplicate common names?"
   ]
  },
  {
   "cell_type": "code",
   "execution_count": 5,
   "id": "56c5c73f",
   "metadata": {},
   "outputs": [],
   "source": [
    "def get_name_by_species_name(tree_data: list) -> dict:\n",
    "    ### BEGIN SOLUTION\n",
    "    return {\n",
    "        t[1].strip(): t[0].strip() for t in tree_data\n",
    "    }\n",
    "    ### END SOLUTION"
   ]
  },
  {
   "cell_type": "code",
   "execution_count": 6,
   "id": "601a0408",
   "metadata": {},
   "outputs": [],
   "source": [
    "### BEGIN TESTS\n",
    "result = get_name_by_species_name(get_trees())\n",
    "assert result == {\n",
    "    'species name 1': 'name 1',\n",
    "    'species name 2': 'name 2',\n",
    "    'species name 3': 'name 3',\n",
    "    'species name 4': 'name 4',\n",
    "    'species name 5': 'name 5'\n",
    "}, result\n",
    "### END TESTS"
   ]
  },
  {
   "cell_type": "code",
   "execution_count": 7,
   "id": "e1ae41df",
   "metadata": {},
   "outputs": [],
   "source": [
    "def get_weather_by_species_name(weather_data: list) -> dict:\n",
    "    ### BEGIN SOLUTION\n",
    "    return {\n",
    "        t[0].strip(): t[1].strip() for t in weather_data\n",
    "    }\n",
    "    ### END SOLUTION"
   ]
  },
  {
   "cell_type": "code",
   "execution_count": 8,
   "id": "385c0a9e",
   "metadata": {},
   "outputs": [],
   "source": [
    "### BEGIN TESTS\n",
    "result = get_weather_by_species_name(get_weathers())\n",
    "assert result == {\n",
    "    'species name 2': 'weather 2',\n",
    "    'species name 3': 'weather 3',\n",
    "    'species name 4': 'weather 4',\n",
    "    'species name 6': 'weather 6',\n",
    "}, result\n",
    "### END TESTS"
   ]
  },
  {
   "cell_type": "code",
   "execution_count": 9,
   "id": "9b209fc2",
   "metadata": {},
   "outputs": [],
   "source": [
    "def inner_join_list(\n",
    "    left: dict,\n",
    "    right: dict,\n",
    ") -> list:\n",
    "    ### BEGIN SOLUTION\n",
    "    new_csv_data = []\n",
    "    for k, left_value in left.items():\n",
    "        right_value = right.get(k)\n",
    "        if right_value is not None:\n",
    "            new_csv_data.append((left_value, right_value))\n",
    "    return new_csv_data  \n",
    "    ### END SOLUTION"
   ]
  },
  {
   "cell_type": "code",
   "execution_count": 11,
   "id": "55601872",
   "metadata": {},
   "outputs": [],
   "source": [
    "### BEGIN TESTS\n",
    "result = inner_join_list(\n",
    "    get_name_by_species_name(get_trees()), \n",
    "    get_weather_by_species_name(get_weathers()),\n",
    ")\n",
    "assert result == [\n",
    "    ('name 2', 'weather 2'),\n",
    "    ('name 3', 'weather 3'),\n",
    "    ('name 4', 'weather 4'),\n",
    "], result\n",
    "### END TESTS"
   ]
  },
  {
   "cell_type": "code",
   "execution_count": 8,
   "id": "2d57370d",
   "metadata": {},
   "outputs": [],
   "source": [
    "# What could we do to the above function if we found out names would be unique AND we wanted a dictionary?"
   ]
  },
  {
   "cell_type": "code",
   "execution_count": 12,
   "id": "9cf3f750",
   "metadata": {},
   "outputs": [],
   "source": [
    "def inner_join_dict(\n",
    "    left: dict,\n",
    "    right: dict,\n",
    ") -> dict:\n",
    "    ret_dict = {}\n",
    "    ### BEGIN SOLUTION\n",
    "    \n",
    "    for k, left_value in left.items():\n",
    "        right_value = right.get(k)\n",
    "        if right_value is not None:\n",
    "            ret_dict[left_value] = right_value\n",
    "\n",
    "    ### END SOLUTION\n",
    "    return ret_dict"
   ]
  },
  {
   "cell_type": "code",
   "execution_count": 13,
   "id": "483605df",
   "metadata": {},
   "outputs": [],
   "source": [
    "### BEGIN TESTS\n",
    "result = inner_join_dict(\n",
    "    get_name_by_species_name(get_trees()), \n",
    "    get_weather_by_species_name(get_weathers()),\n",
    ")\n",
    "assert result == {\n",
    "    'name 2': 'weather 2',\n",
    "    'name 3': 'weather 3',\n",
    "    'name 4': 'weather 4',\n",
    "}, result\n",
    "### END TESTS"
   ]
  }
 ],
 "metadata": {
  "kernelspec": {
   "display_name": "Python 3 (ipykernel)",
   "language": "python",
   "name": "python3"
  },
  "language_info": {
   "codemirror_mode": {
    "name": "ipython",
    "version": 3
   },
   "file_extension": ".py",
   "mimetype": "text/x-python",
   "name": "python",
   "nbconvert_exporter": "python",
   "pygments_lexer": "ipython3",
   "version": "3.11.4"
  }
 },
 "nbformat": 4,
 "nbformat_minor": 5
}
