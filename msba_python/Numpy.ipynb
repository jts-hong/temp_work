{
    "cells": [
        {
            "cell_type": "code",
            "execution_count": 2,
            "metadata": {
                "deletable": false,
                "editable": false,
                "trusted": true
            },
            "outputs": [],
            "source": [
                "try:\n",
                "    import rr\n",
                "except ModuleNotFoundError:\n",
                "    import sys\n",
                "    import os\n",
                "    path = list(filter(lambda p: p.endswith('site-packages'), sys.path))[0]\n",
                "    parts = path.split(os.sep)\n",
                "    new_parts = []\n",
                "    for part in parts:\n",
                "        if part == 'lib':\n",
                "            break\n",
                "        new_parts.append(part)\n",
                "        path = os.sep.join(new_parts + ['bin', 'pip3'])\n",
                "    print(f'Try running this in a new cell: !{path}', 'install -U result-reporter --index-url=https://pypi.org/simple')\n",
                "\n",
                "rr.set_global_endpoint('https://result-reporter.com/ingest')\n",
                "rr.set_global_token('ad81bded-291a-4c5e-ac61-eac0035c9057')"
            ]
        },
        {
            "cell_type": "markdown",
            "metadata": {},
            "source": [
                "**Intro**\n",
                "\n",
                "This notebook should be treated more as lecture notes than an exercise set. It covers the basics of Numpy and provides some challenges along the way. \n",
                "\n",
                "**Challenge**\n",
                "\n",
                "Complete the challenge questions as they appear."
            ]
        },
        {
            "cell_type": "markdown",
            "metadata": {},
            "source": [
                "# Numpy"
            ]
        },
        {
            "cell_type": "code",
            "execution_count": 3,
            "metadata": {},
            "outputs": [],
            "source": [
                "import numpy as np"
            ]
        },
        {
            "cell_type": "code",
            "execution_count": 4,
            "metadata": {},
            "outputs": [
                {
                    "data": {
                        "text/plain": [
                            "array([1, 2, 3])"
                        ]
                    },
                    "execution_count": 4,
                    "metadata": {},
                    "output_type": "execute_result"
                }
            ],
            "source": [
                "a = np.array([1, 2, 3])\n",
                "a"
            ]
        },
        {
            "cell_type": "code",
            "execution_count": 5,
            "metadata": {},
            "outputs": [
                {
                    "data": {
                        "text/plain": [
                            "array([0, 1, 2, 3, 4])"
                        ]
                    },
                    "execution_count": 5,
                    "metadata": {},
                    "output_type": "execute_result"
                }
            ],
            "source": [
                "a = np.arange(5)\n",
                "a"
            ]
        },
        {
            "cell_type": "markdown",
            "metadata": {},
            "source": [
                "How is a np.array better than list?\n",
                "1. Space\n",
                "1. Speed\n",
                "\n",
                "Arrays have the concept of a type and this allows data to be placed closer together. We only need to use enough bits to hold the value and nothing more; no metadata necessary. Also, since arrays have this notion of a type, it numpy can use specialized low level functions for them that are much faster than Python's high level equivalents."
            ]
        },
        {
            "cell_type": "code",
            "execution_count": 6,
            "metadata": {},
            "outputs": [
                {
                    "data": {
                        "text/plain": [
                            "7.958268598000004"
                        ]
                    },
                    "execution_count": 6,
                    "metadata": {},
                    "output_type": "execute_result"
                }
            ],
            "source": [
                "import timeit\n",
                "\n",
                "timeit.timeit('sum(random.random() for i in range(500))', setup='import random', number=100000)"
            ]
        },
        {
            "cell_type": "code",
            "execution_count": 7,
            "metadata": {},
            "outputs": [
                {
                    "data": {
                        "text/plain": [
                            "0.8947669329999997"
                        ]
                    },
                    "execution_count": 7,
                    "metadata": {},
                    "output_type": "execute_result"
                }
            ],
            "source": [
                "timeit.timeit('np.random.rand(500).sum()', setup='import numpy as np', number=100000)"
            ]
        },
        {
            "cell_type": "markdown",
            "metadata": {},
            "source": [
                "Don't use Python loops! Use numpy functions and methods. Ufuncs (or Universal Functions)"
            ]
        },
        {
            "cell_type": "code",
            "execution_count": 8,
            "metadata": {},
            "outputs": [
                {
                    "data": {
                        "text/plain": [
                            "array([1, None, False], dtype=object)"
                        ]
                    },
                    "execution_count": 8,
                    "metadata": {},
                    "output_type": "execute_result"
                }
            ],
            "source": [
                "# You can create arrays with different types but you loose speed in numpy functions\n",
                "a = np.array([1, None, False])  \n",
                "a"
            ]
        },
        {
            "cell_type": "code",
            "execution_count": 9,
            "metadata": {},
            "outputs": [
                {
                    "data": {
                        "text/plain": [
                            "dtype('O')"
                        ]
                    },
                    "execution_count": 9,
                    "metadata": {},
                    "output_type": "execute_result"
                }
            ],
            "source": [
                "a.dtype"
            ]
        },
        {
            "cell_type": "code",
            "execution_count": 10,
            "metadata": {},
            "outputs": [
                {
                    "data": {
                        "text/plain": [
                            "array([1., 2., 3.])"
                        ]
                    },
                    "execution_count": 10,
                    "metadata": {},
                    "output_type": "execute_result"
                }
            ],
            "source": [
                "a = np.array([1.0, 2.0, 3.0])  # What if we want to specify the type of the data?\n",
                "a"
            ]
        },
        {
            "cell_type": "code",
            "execution_count": 11,
            "metadata": {},
            "outputs": [
                {
                    "data": {
                        "text/plain": [
                            "dtype('float64')"
                        ]
                    },
                    "execution_count": 11,
                    "metadata": {},
                    "output_type": "execute_result"
                }
            ],
            "source": [
                "a.dtype"
            ]
        },
        {
            "cell_type": "code",
            "execution_count": 12,
            "metadata": {},
            "outputs": [
                {
                    "data": {
                        "text/plain": [
                            "array([5, 7, 9])"
                        ]
                    },
                    "execution_count": 12,
                    "metadata": {},
                    "output_type": "execute_result"
                }
            ],
            "source": [
                "# What can you do with an array?\n",
                "a = np.array([1, 2, 3])\n",
                "b = np.array([4, 5, 6])\n",
                "\n",
                "# Basic linear algebra!\n",
                "a + b"
            ]
        },
        {
            "cell_type": "code",
            "execution_count": 13,
            "metadata": {},
            "outputs": [
                {
                    "data": {
                        "text/plain": [
                            "array([-3, -3, -3])"
                        ]
                    },
                    "execution_count": 13,
                    "metadata": {},
                    "output_type": "execute_result"
                }
            ],
            "source": [
                "a - b"
            ]
        },
        {
            "cell_type": "code",
            "execution_count": 14,
            "metadata": {},
            "outputs": [
                {
                    "data": {
                        "text/plain": [
                            "array([ 4, 10, 18])"
                        ]
                    },
                    "execution_count": 14,
                    "metadata": {},
                    "output_type": "execute_result"
                }
            ],
            "source": [
                "a * b"
            ]
        },
        {
            "cell_type": "code",
            "execution_count": 15,
            "metadata": {},
            "outputs": [
                {
                    "data": {
                        "text/plain": [
                            "array([  1,  32, 729])"
                        ]
                    },
                    "execution_count": 15,
                    "metadata": {},
                    "output_type": "execute_result"
                }
            ],
            "source": [
                "a ** b"
            ]
        },
        {
            "cell_type": "code",
            "execution_count": 16,
            "metadata": {},
            "outputs": [
                {
                    "data": {
                        "text/plain": [
                            "array([1, 2])"
                        ]
                    },
                    "execution_count": 16,
                    "metadata": {},
                    "output_type": "execute_result"
                }
            ],
            "source": [
                "a[:2]  # Slicing just like Python lists"
            ]
        },
        {
            "cell_type": "code",
            "execution_count": 17,
            "metadata": {},
            "outputs": [
                {
                    "data": {
                        "text/plain": [
                            "array([0, 1, 2, 3, 4, 5, 6, 7, 8])"
                        ]
                    },
                    "execution_count": 17,
                    "metadata": {},
                    "output_type": "execute_result"
                }
            ],
            "source": [
                "a = np.arange(9)\n",
                "a"
            ]
        },
        {
            "cell_type": "code",
            "execution_count": 18,
            "metadata": {},
            "outputs": [
                {
                    "data": {
                        "text/plain": [
                            "array([ 1.        ,  1.11842105,  1.23684211,  1.35526316,  1.47368421,\n",
                            "        1.59210526,  1.71052632,  1.82894737,  1.94736842,  2.06578947,\n",
                            "        2.18421053,  2.30263158,  2.42105263,  2.53947368,  2.65789474,\n",
                            "        2.77631579,  2.89473684,  3.01315789,  3.13157895,  3.25      ,\n",
                            "        3.36842105,  3.48684211,  3.60526316,  3.72368421,  3.84210526,\n",
                            "        3.96052632,  4.07894737,  4.19736842,  4.31578947,  4.43421053,\n",
                            "        4.55263158,  4.67105263,  4.78947368,  4.90789474,  5.02631579,\n",
                            "        5.14473684,  5.26315789,  5.38157895,  5.5       ,  5.61842105,\n",
                            "        5.73684211,  5.85526316,  5.97368421,  6.09210526,  6.21052632,\n",
                            "        6.32894737,  6.44736842,  6.56578947,  6.68421053,  6.80263158,\n",
                            "        6.92105263,  7.03947368,  7.15789474,  7.27631579,  7.39473684,\n",
                            "        7.51315789,  7.63157895,  7.75      ,  7.86842105,  7.98684211,\n",
                            "        8.10526316,  8.22368421,  8.34210526,  8.46052632,  8.57894737,\n",
                            "        8.69736842,  8.81578947,  8.93421053,  9.05263158,  9.17105263,\n",
                            "        9.28947368,  9.40789474,  9.52631579,  9.64473684,  9.76315789,\n",
                            "        9.88157895, 10.        ])"
                        ]
                    },
                    "execution_count": 18,
                    "metadata": {},
                    "output_type": "execute_result"
                }
            ],
            "source": [
                "np.linspace(start=1, stop=10, num=77)  # Inclusive of endpoints"
            ]
        },
        {
            "cell_type": "code",
            "execution_count": 18,
            "metadata": {},
            "outputs": [
                {
                    "data": {
                        "text/plain": [
                            "array([0, 1, 2, 3, 4])"
                        ]
                    },
                    "execution_count": 18,
                    "metadata": {},
                    "output_type": "execute_result"
                }
            ],
            "source": [
                "# How to join two arrays\n",
                "a = np.arange(5)\n",
                "a"
            ]
        },
        {
            "cell_type": "code",
            "execution_count": 19,
            "metadata": {},
            "outputs": [
                {
                    "data": {
                        "text/plain": [
                            "array([5, 6, 7, 8, 9])"
                        ]
                    },
                    "execution_count": 19,
                    "metadata": {},
                    "output_type": "execute_result"
                }
            ],
            "source": [
                "b = np.arange(5, 10)\n",
                "b"
            ]
        },
        {
            "cell_type": "code",
            "execution_count": 20,
            "metadata": {},
            "outputs": [
                {
                    "data": {
                        "text/plain": [
                            "array([ 5,  7,  9, 11, 13])"
                        ]
                    },
                    "execution_count": 20,
                    "metadata": {},
                    "output_type": "execute_result"
                }
            ],
            "source": [
                "a + b  # Does not join arrays. It adds them."
            ]
        },
        {
            "cell_type": "code",
            "execution_count": 21,
            "metadata": {},
            "outputs": [
                {
                    "data": {
                        "text/plain": [
                            "array([0, 1, 2, 3, 4, 5, 6, 7, 8, 9])"
                        ]
                    },
                    "execution_count": 21,
                    "metadata": {},
                    "output_type": "execute_result"
                }
            ],
            "source": [
                "np.concatenate((a, b))"
            ]
        },
        {
            "cell_type": "code",
            "execution_count": 22,
            "metadata": {},
            "outputs": [],
            "source": [
                "def get_floats(x) -> np.array:\n",
                "    \"\"\"\n",
                "    Return an np.array of x equally spaced points between 0 and 1.\n",
                "    \"\"\"\n",
                "    \n",
                "    return np.linspace(start=0, stop=1, num=x)\n",
                "\n"
            ]
        },
        {
            "cell_type": "code",
            "execution_count": 23,
            "metadata": {
                "deletable": false,
                "editable": false,
                "trusted": true
            },
            "outputs": [],
            "source": [
                "### BEGIN TESTS\n",
                "with rr.Wrap(get_floats) as func:\n",
                "    result = func(1)\n",
                "    assert result == np.array([0.]), result\n",
                "### END TESTS"
            ]
        },
        {
            "cell_type": "code",
            "execution_count": 24,
            "metadata": {
                "deletable": false,
                "editable": false,
                "trusted": true
            },
            "outputs": [],
            "source": [
                "### BEGIN TESTS\n",
                "with rr.Wrap(get_floats) as func:\n",
                "    result = func(7)\n",
                "    expected = np.array([\n",
                "        0.0,\n",
                "        0.16666667,\n",
                "        0.33333333,\n",
                "        0.5,\n",
                "        0.66666667,\n",
                "        0.83333333, \n",
                "        1.0,\n",
                "    ])\n",
                "    assert np.round(np.absolute((result - expected).sum()), decimals=int(1e-10)) == 0.0\n",
                "### END TESTS"
            ]
        },
        {
            "cell_type": "code",
            "execution_count": null,
            "metadata": {},
            "outputs": [],
            "source": []
        }
    ],
    "metadata": {
        "kernelspec": {
            "display_name": "Python 3 (ipykernel)",
            "language": "python",
            "name": "python3"
        },
        "language_info": {
            "codemirror_mode": {
                "name": "ipython",
                "version": 3
            },
            "file_extension": ".py",
            "mimetype": "text/x-python",
            "name": "python",
            "nbconvert_exporter": "python",
            "pygments_lexer": "ipython3",
            "version": "3.9.7"
        }
    },
    "nbformat": 4,
    "nbformat_minor": 2
}
