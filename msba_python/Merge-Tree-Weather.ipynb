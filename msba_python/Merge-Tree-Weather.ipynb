{
    "cells": [
        {
            "cell_type": "code",
            "execution_count": 1,
            "metadata": {
                "deletable": false,
                "editable": false,
                "trusted": true
            },
            "outputs": [
                {
                    "name": "stdout",
                    "output_type": "stream",
                    "text": [
                        "Requirement already satisfied: result-reporter in /Library/Frameworks/Python.framework/Versions/3.9/lib/python3.9/site-packages (0.2.0)\n",
                        "Requirement already satisfied: requests>=2.25.0 in /Library/Frameworks/Python.framework/Versions/3.9/lib/python3.9/site-packages (from result-reporter) (2.26.0)\n",
                        "Requirement already satisfied: urllib3<1.27,>=1.21.1 in /Library/Frameworks/Python.framework/Versions/3.9/lib/python3.9/site-packages (from requests>=2.25.0->result-reporter) (1.26.7)\n",
                        "Requirement already satisfied: certifi>=2017.4.17 in /Library/Frameworks/Python.framework/Versions/3.9/lib/python3.9/site-packages (from requests>=2.25.0->result-reporter) (2023.5.7)\n",
                        "Requirement already satisfied: charset-normalizer~=2.0.0 in /Library/Frameworks/Python.framework/Versions/3.9/lib/python3.9/site-packages (from requests>=2.25.0->result-reporter) (2.0.6)\n",
                        "Requirement already satisfied: idna<4,>=2.5 in /Library/Frameworks/Python.framework/Versions/3.9/lib/python3.9/site-packages (from requests>=2.25.0->result-reporter) (3.2)\n"
                    ]
                }
            ],
            "source": [
                "!pip3 install -U result-reporter"
            ]
        },
        {
            "cell_type": "code",
            "execution_count": 2,
            "metadata": {
                "deletable": false,
                "editable": false,
                "trusted": true
            },
            "outputs": [],
            "source": [
                "import rr\n",
                "\n",
                "rr.set_global_endpoint('https://result-reporter.com/ingest')\n",
                "rr.set_global_token('a83851c8-ac86-4ce7-8fcc-f35b45a8b954')"
            ]
        },
        {
            "cell_type": "markdown",
            "id": "24bfde5d",
            "metadata": {},
            "source": [
                "**Intro**\n",
                "\n",
                "This exercise practices merging two related data sets together. This is a common and well studied area. Let's practice!\n",
                "\n",
                "**Challenge**\n",
                "\n",
                "In the data files we have a mappings like the following...\n",
                "\n",
                "```\n",
                "Common Name: Species Name\n",
                "```\n",
                "\n",
                "```\n",
                "Species Name: Weather\n",
                "```\n",
                "\n",
                "Create a mapping like the following:\n",
                "\n",
                "```\n",
                "Common Name: Weather\n",
                "```\n",
                "\n",
                "**Data**\n",
                "\n",
                "https://storage.googleapis.com/columbia-python-bootcamp-ieor/merge-trees-weather.zip "
            ]
        },
        {
            "cell_type": "code",
            "execution_count": 3,
            "id": "7e96d59c",
            "metadata": {},
            "outputs": [],
            "source": [
                "import pathlib\n",
                "\n",
                "# Change Me!\n",
                "EXERCISE_DATA_PATH = pathlib.Path('/Users/skg/Desktop/test/msba_python/merge-trees-weather')\n",
                "\n",
                "# Probably do not need to change me. \n",
                "TREES_CSV_DATA_PATH = EXERCISE_DATA_PATH / pathlib.Path('trees.csv')\n",
                "WEATHER_CSV_DATA_PATH = EXERCISE_DATA_PATH / pathlib.Path('weather.csv')"
            ]
        },
        {
            "cell_type": "code",
            "execution_count": 4,
            "id": "eadda933",
            "metadata": {},
            "outputs": [],
            "source": [
                "import csv\n",
                "\n",
                "def get_trees() -> list:\n",
                "    with open(TREES_CSV_DATA_PATH) as fp:\n",
                "        rows = list(csv.reader(fp))\n",
                "    return rows\n",
                "\n",
                "def get_weathers() -> list:\n",
                "    with open(WEATHER_CSV_DATA_PATH) as fp:\n",
                "        rows = list(csv.reader(fp))\n",
                "    return rows"
            ]
        },
        {
            "cell_type": "code",
            "execution_count": 5,
            "id": "3d68d4b9",
            "metadata": {
                "deletable": false,
                "editable": false,
                "trusted": true
            },
            "outputs": [
                {
                    "name": "stdout",
                    "output_type": "stream",
                    "text": [
                        "[['name 1', ' species name 1'], ['name 2', ' species name 2'], ['name 3', ' species name 3'], ['name 4', ' species name 4'], ['name 5', ' species name 5']]\n"
                    ]
                }
            ],
            "source": [
                "### BEGIN TESTS\n",
                "with rr.Wrap(get_trees) as func:\n",
                "    result = func()\n",
                "    print (result)\n",
                "    assert len(result) == 5, len(result) \n",
                "### END TESTS"
            ]
        },
        {
            "cell_type": "code",
            "execution_count": 6,
            "id": "0e800248",
            "metadata": {
                "deletable": false,
                "editable": false,
                "trusted": true
            },
            "outputs": [
                {
                    "name": "stdout",
                    "output_type": "stream",
                    "text": [
                        "[['species name 2', 'weather 2'], ['species name 3', 'weather 3'], ['species name 4', 'weather 4'], ['species name 6', 'weather 6']]\n"
                    ]
                }
            ],
            "source": [
                "### BEGIN TESTS\n",
                "with rr.Wrap(get_weathers) as func:\n",
                "    result = func()\n",
                "    print (result)\n",
                "    assert len(result) == 4, len(result) \n",
                "### END TESTS"
            ]
        },
        {
            "cell_type": "code",
            "execution_count": 45,
            "id": "56c5c73f",
            "metadata": {},
            "outputs": [],
            "source": [
                "#define a function that traverse all the trees and return a dictionary with species name as key and name as value\n",
                "def get_name_by_species_name(tree_data: list) -> dict:\n",
                "    # #create an empty dictionary\n",
                "    # species_name_dict = {}\n",
                "    # #loop through all the trees\n",
                "    # for tree in tree_data:\n",
                "\n",
                "    #     #print(tree)\n",
                "    #     #if the species name is not in the dictionary, add the species name as key and name as value\n",
                "    #     if tree[1] not in species_name_dict:\n",
                "    #         species_name_dict[tree[1].strip()] = tree[0].strip()\n",
                "        \n",
                "    # return species_name_dict\n",
                "    return {key.strip():value.strip() for value, key in tree_data}"
            ]
        },
        {
            "cell_type": "code",
            "execution_count": 46,
            "id": "601a0408",
            "metadata": {
                "deletable": false,
                "editable": false,
                "trusted": true
            },
            "outputs": [
                {
                    "name": "stdout",
                    "output_type": "stream",
                    "text": [
                        "{'species name 1': 'name 1', 'species name 2': 'name 2', 'species name 3': 'name 3', 'species name 4': 'name 4', 'species name 5': 'name 5'}\n"
                    ]
                }
            ],
            "source": [
                "### BEGIN TESTS\n",
                "with rr.Wrap(get_name_by_species_name) as func:\n",
                "    result = func(get_trees())\n",
                "    print(result)\n",
                "    assert result == {\n",
                "        'species name 1': 'name 1',\n",
                "        'species name 2': 'name 2',\n",
                "        'species name 3': 'name 3',\n",
                "        'species name 4': 'name 4',\n",
                "        'species name 5': 'name 5'\n",
                "    }, result\n",
                "### END TESTS"
            ]
        },
        {
            "cell_type": "code",
            "execution_count": 53,
            "id": "e1ae41df",
            "metadata": {},
            "outputs": [],
            "source": [
                "#define a function that traverse all the trees and return a dictionary with species name as key and weather name as value\n",
                "\n",
                "def clean(string):\n",
                "    return string.strip()\n",
                "def get_weather_by_species_name(weather_data: list) -> dict:\n",
                "    # species_name_dict = {}\n",
                "    # for tree in weather_data:\n",
                "    #     if tree[0] not in species_name_dict:\n",
                "    #         species_name_dict[tree[0].strip()] = tree[1].strip()\n",
                "    # return species_name_dict\n",
                "    return {clean(key):clean(value) for value,key in weather_data}\n"
            ]
        },
        {
            "cell_type": "code",
            "execution_count": 56,
            "id": "8af4309c",
            "metadata": {},
            "outputs": [],
            "source": [
                "def get_weather_by_species_name(weather_data: list) -> dict:\n",
                "    ### BEGIN SOLUTION\n",
                "    return {\n",
                "        t[0].strip(): t[1].strip() for t in weather_data\n",
                "    }\n",
                "    ### END SOLUTION"
            ]
        },
        {
            "cell_type": "code",
            "execution_count": 57,
            "id": "385c0a9e",
            "metadata": {
                "deletable": false,
                "editable": false,
                "trusted": true
            },
            "outputs": [],
            "source": [
                "### BEGIN TESTS\n",
                "with rr.Wrap(get_weather_by_species_name) as func:\n",
                "    result = func(get_weathers())\n",
                "    assert result == {\n",
                "        'species name 2': 'weather 2',\n",
                "        'species name 3': 'weather 3',\n",
                "        'species name 4': 'weather 4',\n",
                "        'species name 6': 'weather 6',\n",
                "    }, result\n",
                "### END TESTS"
            ]
        },
        {
            "cell_type": "code",
            "execution_count": 32,
            "id": "9b209fc2",
            "metadata": {},
            "outputs": [],
            "source": [
                "def inner_join_list(\n",
                "    left: dict,\n",
                "    right: dict,\n",
                ") -> list:\n",
                "    result=[]\n",
                "    for key in left:\n",
                "        if key in right:\n",
                "            result.append((left[key],right[key]))\n",
                "    #raise NotImplementedError()\n",
                "    return result\n"
            ]
        },
        {
            "cell_type": "code",
            "execution_count": 33,
            "id": "55601872",
            "metadata": {
                "deletable": false,
                "editable": false,
                "trusted": true
            },
            "outputs": [],
            "source": [
                "### BEGIN TESTS\n",
                "with rr.Wrap(inner_join_list) as func:\n",
                "    result = func(\n",
                "        get_name_by_species_name(get_trees()), \n",
                "        get_weather_by_species_name(get_weathers()),\n",
                "    )\n",
                "    assert result == [\n",
                "        ('name 2', 'weather 2'),\n",
                "        ('name 3', 'weather 3'),\n",
                "        ('name 4', 'weather 4'),\n",
                "    ], result\n",
                "### END TESTS"
            ]
        },
        {
            "cell_type": "code",
            "execution_count": 35,
            "id": "9cf3f750",
            "metadata": {},
            "outputs": [],
            "source": [
                "def inner_join_dict(\n",
                "    left: dict,\n",
                "    right: dict,\n",
                ") -> dict:\n",
                "    ret_dict = {}\n",
                "    for key in left:\n",
                "        if key in right:\n",
                "            ret_dict[left[key]]=right[key]\n",
                "    #raise NotImplementedError()\n",
                "    return ret_dict"
            ]
        },
        {
            "cell_type": "code",
            "execution_count": 37,
            "id": "483605df",
            "metadata": {
                "deletable": false,
                "editable": false,
                "trusted": true
            },
            "outputs": [],
            "source": [
                "### BEGIN TESTS\n",
                "with rr.Wrap(inner_join_dict) as func:\n",
                "    result = func(\n",
                "        get_name_by_species_name(get_trees()), \n",
                "        get_weather_by_species_name(get_weathers()),\n",
                "    )\n",
                "    assert result == {\n",
                "        'name 2': 'weather 2',\n",
                "        'name 3': 'weather 3',\n",
                "        'name 4': 'weather 4',\n",
                "    }, result\n",
                "### END TESTS"
            ]
        },
        {
            "cell_type": "code",
            "execution_count": null,
            "id": "fb20fcd2",
            "metadata": {},
            "outputs": [],
            "source": []
        }
    ],
    "metadata": {
        "kernelspec": {
            "display_name": "Python 3 (ipykernel)",
            "language": "python",
            "name": "python3"
        },
        "language_info": {
            "codemirror_mode": {
                "name": "ipython",
                "version": 3
            },
            "file_extension": ".py",
            "mimetype": "text/x-python",
            "name": "python",
            "nbconvert_exporter": "python",
            "pygments_lexer": "ipython3",
            "version": "3.9.7"
        }
    },
    "nbformat": 4,
    "nbformat_minor": 5
}
