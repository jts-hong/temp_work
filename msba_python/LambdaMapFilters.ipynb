{
    "cells": [
        {
            "cell_type": "code",
            "execution_count": 3,
            "metadata": {
                "deletable": false,
                "editable": false,
                "trusted": true
            },
            "outputs": [
                {
                    "name": "stdout",
                    "output_type": "stream",
                    "text": [
                        "Requirement already satisfied: result-reporter in /Library/Frameworks/Python.framework/Versions/3.9/lib/python3.9/site-packages (0.2.0)\n",
                        "Requirement already satisfied: requests>=2.25.0 in /Library/Frameworks/Python.framework/Versions/3.9/lib/python3.9/site-packages (from result-reporter) (2.26.0)\n",
                        "Requirement already satisfied: urllib3<1.27,>=1.21.1 in /Library/Frameworks/Python.framework/Versions/3.9/lib/python3.9/site-packages (from requests>=2.25.0->result-reporter) (1.26.7)\n",
                        "Requirement already satisfied: certifi>=2017.4.17 in /Library/Frameworks/Python.framework/Versions/3.9/lib/python3.9/site-packages (from requests>=2.25.0->result-reporter) (2023.5.7)\n",
                        "Requirement already satisfied: charset-normalizer~=2.0.0 in /Library/Frameworks/Python.framework/Versions/3.9/lib/python3.9/site-packages (from requests>=2.25.0->result-reporter) (2.0.6)\n",
                        "Requirement already satisfied: idna<4,>=2.5 in /Library/Frameworks/Python.framework/Versions/3.9/lib/python3.9/site-packages (from requests>=2.25.0->result-reporter) (3.2)\n"
                    ]
                }
            ],
            "source": [
                "!pip3 install -U result-reporter"
            ]
        },
        {
            "cell_type": "code",
            "execution_count": 4,
            "metadata": {
                "deletable": false,
                "editable": false,
                "trusted": true
            },
            "outputs": [],
            "source": [
                "import rr\n",
                "\n",
                "rr.set_global_endpoint('https://result-reporter.com/ingest')\n",
                "rr.set_global_token('d231ef10-d0b1-4ded-b6e0-e93f147ce8c9')"
            ]
        },
        {
            "cell_type": "markdown",
            "id": "f221f65d",
            "metadata": {},
            "source": [
                "**Intro**\n",
                "\n",
                "This exercise practices use of functional programming tools in Python. Let's play!\n",
                "\n",
                "**Challenge**\n",
                "\n",
                "Read the doc string of each function to determine how to program it."
            ]
        },
        {
            "cell_type": "code",
            "execution_count": 5,
            "id": "9b435d80",
            "metadata": {},
            "outputs": [],
            "source": [
                "def exp(base: int, exponent: int) -> int:\n",
                "    \"\"\"\n",
                "    Return based raised to exponent.\n",
                "    \"\"\"\n",
                "    # YOUR CODE HERE\n",
                "    #raise NotImplementedError()\n",
                "    return base ** exponent\n",
                "\n",
                "\n",
                "def exp_list(tuples: list) -> list:\n",
                "    \"\"\" \n",
                "    Return a list of exp() results given a list of two-tuples.\n",
                "    \n",
                "    Use a list comprehension and tuple unpacking.\n",
                "    \n",
                "    This function should be on line of code long.\n",
                "    \"\"\"\n",
                "    # YOUR CODE HERE\n",
                "    #raise NotImplementedError()\n",
                "    return [exp(*t) for t in tuples]\n",
                "\n",
                "    \n"
            ]
        },
        {
            "cell_type": "code",
            "execution_count": 6,
            "id": "4edfdd01",
            "metadata": {
                "deletable": false,
                "editable": false,
                "trusted": true
            },
            "outputs": [],
            "source": [
                "### BEGIN TESTS\n",
                "with rr.Wrap(exp) as func:\n",
                "    result = func(2, 3)\n",
                "    assert result == 8, result\n",
                "### END TESTS"
            ]
        },
        {
            "cell_type": "code",
            "execution_count": 7,
            "id": "fc9b4b85",
            "metadata": {
                "deletable": false,
                "editable": false,
                "trusted": true
            },
            "outputs": [],
            "source": [
                "### BEGIN TESTS\n",
                "with rr.Wrap(exp) as func:\n",
                "    result = func(8, 9)\n",
                "    assert result == 134217728, result\n",
                "### END TESTS"
            ]
        },
        {
            "cell_type": "code",
            "execution_count": 8,
            "id": "bb9a33ae",
            "metadata": {
                "deletable": false,
                "editable": false,
                "trusted": true
            },
            "outputs": [],
            "source": [
                "### BEGIN TESTS\n",
                "with rr.Wrap(exp_list) as func:\n",
                "    result = func([\n",
                "        (2, 3),\n",
                "        (4, 5),\n",
                "        (6, 7),\n",
                "        (8, 9),\n",
                "    ])\n",
                "    assert result == [8, 1024, 279936, 134217728], result\n",
                "### END TESTS"
            ]
        },
        {
            "cell_type": "code",
            "execution_count": 9,
            "id": "a4c0dbfe",
            "metadata": {},
            "outputs": [],
            "source": [
                "def exp_list_via_lambda(tuples: list) -> list:\n",
                "    \"\"\"\n",
                "    Return a list of exp() results given a list of two-tuples.\n",
                "    \n",
                "    Use a list, map, and a lambda function passed to map.\n",
                "    \n",
                "    This function should be on line of code long.\n",
                "    \"\"\"\n",
                "    # YOUR CODE HERE\n",
                "    #raise NotImplementedError()\n",
                "\n",
                "    return list(map(lambda t: exp(*t), tuples))\n"
            ]
        },
        {
            "cell_type": "code",
            "execution_count": 10,
            "id": "7e46a7f5",
            "metadata": {
                "deletable": false,
                "editable": false,
                "trusted": true
            },
            "outputs": [],
            "source": [
                "### BEGIN TESTS\n",
                "with rr.Wrap(exp_list_via_lambda) as func:\n",
                "    result = func([\n",
                "        (2, 3),\n",
                "        (4, 5),\n",
                "        (6, 7),\n",
                "        (8, 9),\n",
                "    ])\n",
                "    assert result == [8, 1024, 279936, 134217728], result\n",
                "### END TESTS"
            ]
        },
        {
            "cell_type": "code",
            "execution_count": 11,
            "id": "474e859e",
            "metadata": {},
            "outputs": [],
            "source": [
                "def many_evens(max_) -> list:\n",
                "    \"\"\"\n",
                "    Return all the evens from 0 up to max_ (not inclusive of max_).\n",
                "    \n",
                "    Use a lambda function and filter.\n",
                "    \n",
                "    You can not use the solution given in the tests below.\n",
                "    \"\"\"\n",
                "    # YOUR CODE HERE\n",
                "    #raise NotImplementedError()\n",
                "\n",
                "    return list(filter(lambda x: x % 2 == 0, range(max_)))\n"
            ]
        },
        {
            "cell_type": "code",
            "execution_count": 12,
            "id": "dd7d9f6d",
            "metadata": {
                "deletable": false,
                "editable": false,
                "trusted": true
            },
            "outputs": [],
            "source": [
                "### BEGIN TESTS\n",
                "with rr.Wrap(many_evens) as func:\n",
                "    result = func(8)\n",
                "    assert result == [0, 2, 4, 6], result\n",
                "### END TESTS"
            ]
        },
        {
            "cell_type": "code",
            "execution_count": 13,
            "id": "8ef00cb8",
            "metadata": {
                "deletable": false,
                "editable": false,
                "trusted": true
            },
            "outputs": [],
            "source": [
                "### BEGIN TESTS\n",
                "with rr.Wrap(many_evens) as func:\n",
                "    result = func(8**4)\n",
                "    assert result == list(range(0, 8**4, 2)), result\n",
                "### END TESTS"
            ]
        },
        {
            "cell_type": "code",
            "execution_count": 45,
            "id": "17680850",
            "metadata": {},
            "outputs": [],
            "source": [
                "def agg(values: list, predicate=None, agger=None) -> list:\n",
                "    \"\"\"\n",
                "    Return the result of running the \"predicate\" across values\n",
                "    and then aggregating by \"agger\".\n",
                "    \n",
                "    Make sure to return a list even if there is only one value to return in the list.\n",
                "    \"\"\"\n",
                "    # YOUR CODE HERE\n",
                "    #raise NotImplementedError()\n",
                "                \n",
                "    #raise NotImplementedError()\n",
                "    if predicate is None:\n",
                "        predicate = lambda x: True\n",
                "    if agger is None:\n",
                "        agger = lambda x: x\n",
                "    \n",
                "    filtered_values = list(filter(predicate, values))\n",
                "    if callable(agger):\n",
                "        aggregated_value = agger(filtered_values)\n",
                "        return [aggregated_value] if not isinstance(aggregated_value, list) else aggregated_value\n",
                "    else:\n",
                "        return filtered_values\n"
            ]
        },
        {
            "cell_type": "code",
            "execution_count": 46,
            "id": "708a78df",
            "metadata": {
                "deletable": false,
                "editable": false,
                "trusted": true
            },
            "outputs": [],
            "source": [
                "### BEGIN TESTS\n",
                "with rr.Wrap(agg) as func:\n",
                "    result = func(\n",
                "        range(10),\n",
                "        predicate=lambda x: x % 2 == 0,\n",
                "    )\n",
                "    assert result == [0, 2, 4, 6, 8], result\n",
                "### END TESTS"
            ]
        },
        {
            "cell_type": "code",
            "execution_count": 47,
            "id": "0d552e04",
            "metadata": {
                "deletable": false,
                "editable": false,
                "trusted": true
            },
            "outputs": [],
            "source": [
                "### BEGIN TESTS\n",
                "with rr.Wrap(agg) as func:\n",
                "    result = func(\n",
                "        range(10),\n",
                "        agger=sum,\n",
                "    )\n",
                "    assert result == [45], result\n",
                "### END TESTS"
            ]
        },
        {
            "cell_type": "code",
            "execution_count": 48,
            "id": "a7cd90d0",
            "metadata": {
                "deletable": false,
                "editable": false,
                "trusted": true
            },
            "outputs": [],
            "source": [
                "### BEGIN TESTS\n",
                "with rr.Wrap(agg) as func:\n",
                "    result = func(\n",
                "        range(10),\n",
                "        predicate=lambda x: x % 2 == 0,\n",
                "        agger=sum,\n",
                "    )\n",
                "    assert result == [20], result\n",
                "### END TESTS"
            ]
        }
    ],
    "metadata": {
        "kernelspec": {
            "display_name": "Python 3 (ipykernel)",
            "language": "python",
            "name": "python3"
        },
        "language_info": {
            "codemirror_mode": {
                "name": "ipython",
                "version": 3
            },
            "file_extension": ".py",
            "mimetype": "text/x-python",
            "name": "python",
            "nbconvert_exporter": "python",
            "pygments_lexer": "ipython3",
            "version": "3.9.7"
        }
    },
    "nbformat": 4,
    "nbformat_minor": 5
}
