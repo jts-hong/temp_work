{
    "cells": [
        {
            "cell_type": "code",
            "execution_count": 60,
            "metadata": {
                "deletable": false,
                "editable": false,
                "trusted": true
            },
            "outputs": [
                {
                    "name": "stdout",
                    "output_type": "stream",
                    "text": [
                        "Requirement already satisfied: result-reporter in /Library/Frameworks/Python.framework/Versions/3.9/lib/python3.9/site-packages (0.2.0)\n",
                        "Requirement already satisfied: requests>=2.25.0 in /Library/Frameworks/Python.framework/Versions/3.9/lib/python3.9/site-packages (from result-reporter) (2.26.0)\n",
                        "Requirement already satisfied: urllib3<1.27,>=1.21.1 in /Library/Frameworks/Python.framework/Versions/3.9/lib/python3.9/site-packages (from requests>=2.25.0->result-reporter) (1.26.7)\n",
                        "Requirement already satisfied: certifi>=2017.4.17 in /Library/Frameworks/Python.framework/Versions/3.9/lib/python3.9/site-packages (from requests>=2.25.0->result-reporter) (2023.5.7)\n",
                        "Requirement already satisfied: charset-normalizer~=2.0.0 in /Library/Frameworks/Python.framework/Versions/3.9/lib/python3.9/site-packages (from requests>=2.25.0->result-reporter) (2.0.6)\n",
                        "Requirement already satisfied: idna<4,>=2.5 in /Library/Frameworks/Python.framework/Versions/3.9/lib/python3.9/site-packages (from requests>=2.25.0->result-reporter) (3.2)\n"
                    ]
                }
            ],
            "source": [
                "!pip3 install -U result-reporter"
            ]
        },
        {
            "cell_type": "code",
            "execution_count": 61,
            "metadata": {
                "deletable": false,
                "editable": false,
                "trusted": true
            },
            "outputs": [],
            "source": [
                "import rr\n",
                "\n",
                "rr.set_global_endpoint('https://result-reporter.com/ingest')\n",
                "rr.set_global_token('f5dfcecb-7037-495b-a84d-b53d569cd573')"
            ]
        },
        {
            "cell_type": "markdown",
            "id": "44987006",
            "metadata": {},
            "source": [
                "**Intro**\n",
                "\n",
                "This exercise practices merging two related data sets together. This is a common and well studied area. Let's practice!\n",
                "\n",
                "**Challenge**\n",
                "\n",
                "In the data files we have a mappings like the following...\n",
                "\n",
                "```\n",
                "Customer ID: Customer Name\n",
                "```\n",
                "\n",
                "```\n",
                "Customer ID: Item\n",
                "```\n",
                "\n",
                "Create a mapping like the following:\n",
                "\n",
                "```\n",
                "Customer Name: Items Purchased\n",
                "```\n",
                "\n",
                "Note that a customer may have purchased more than one item.\n",
                "\n",
                "**Data**\n",
                "\n",
                "https://storage.googleapis.com/columbia-python-bootcamp-ieor/merge-names-purchases.zip"
            ]
        },
        {
            "cell_type": "code",
            "execution_count": 62,
            "id": "e66f9b0a",
            "metadata": {},
            "outputs": [],
            "source": [
                "import pathlib\n",
                "\n",
                "# Change Me!\n",
                "EXERCISE_DATA_PATH = pathlib.Path('/Users/skg/Desktop/test/msba_python/merge-names-purchases')\n",
                "\n",
                "# Probably do not need to change me. \n",
                "NAMES_CSV_DATA_PATH = EXERCISE_DATA_PATH / pathlib.Path('names.csv')\n",
                "ITEMS_CSV_DATA_PATH = EXERCISE_DATA_PATH / pathlib.Path('items.csv')"
            ]
        },
        {
            "cell_type": "code",
            "execution_count": 63,
            "id": "247640a6",
            "metadata": {},
            "outputs": [],
            "source": [
                "import csv\n",
                "\n",
                "def get_names(mx: int=None) -> list:\n",
                "    with open(NAMES_CSV_DATA_PATH) as fp:\n",
                "        rows = list(csv.reader(fp))\n",
                "    if mx:\n",
                "        rows = rows[:mx]\n",
                "    return rows\n",
                "    #raise NotImplementedError()\n",
                "\n",
                "def get_items(mx: int=None) -> list:\n",
                "    with open(ITEMS_CSV_DATA_PATH) as fp:\n",
                "        rows = list(csv.reader(fp))\n",
                "    if mx:\n",
                "        rows = rows[:mx]\n",
                "    return rows\n",
                "    #raise NotImplementedError()\n"
            ]
        },
        {
            "cell_type": "code",
            "execution_count": 64,
            "id": "7123e0fe",
            "metadata": {
                "deletable": false,
                "editable": false,
                "scrolled": true,
                "trusted": true
            },
            "outputs": [],
            "source": [
                "### BEGIN TESTS\n",
                "with rr.Wrap(get_names) as func:\n",
                "    result = func()\n",
                "    assert len(result) == 100, len(result)\n",
                "### END TESTS\n",
                "\n"
            ]
        },
        {
            "cell_type": "code",
            "execution_count": 65,
            "id": "5c73bf78",
            "metadata": {
                "deletable": false,
                "editable": false,
                "trusted": true
            },
            "outputs": [],
            "source": [
                "### BEGIN TESTS\n",
                "with rr.Wrap(get_names) as func:\n",
                "    result = func(5)\n",
                "    assert result == [\n",
                "        ['1', 'Shaunna Jacobson'],\n",
                "        ['2', 'Emmanuel Snow'],\n",
                "        ['3', 'Brandi Hail'],\n",
                "        ['4', 'Carolina Huerta'],\n",
                "        ['5', 'Markus Corrigan'],\n",
                "    ]\n",
                "### END TESTS"
            ]
        },
        {
            "cell_type": "code",
            "execution_count": 66,
            "id": "949e8183",
            "metadata": {
                "deletable": false,
                "editable": false,
                "trusted": true
            },
            "outputs": [],
            "source": [
                "### BEGIN TESTS\n",
                "with rr.Wrap(get_items) as func:\n",
                "    result = func()\n",
                "    assert len(result) == 190, len(result)\n",
                "### END TESTS"
            ]
        },
        {
            "cell_type": "code",
            "execution_count": 67,
            "id": "70e4fcfa",
            "metadata": {
                "deletable": false,
                "editable": false,
                "trusted": true
            },
            "outputs": [],
            "source": [
                "### BEGIN TESTS\n",
                "with rr.Wrap(get_items) as func:\n",
                "    result = func(5)\n",
                "    #print(result)\n",
                "    assert result == [\n",
                "        ['1', 'nail clippers'],\n",
                "        ['63', 'key chain'],\n",
                "        ['81', 'slipper'],\n",
                "        ['5', 'flag'],\n",
                "        ['66', 'door'],\n",
                "    ]\n",
                "### END TESTS"
            ]
        },
        {
            "cell_type": "code",
            "execution_count": 68,
            "id": "580f49b5",
            "metadata": {},
            "outputs": [],
            "source": [
                "def get_item_by_user_id(item_list: list) -> dict:\n",
                "    result = {}\n",
                "    for it in item_list:\n",
                "        result[it[0]] = it[1]\n",
                "    #raise NotImplementedError()\n",
                "    return result\n"
            ]
        },
        {
            "cell_type": "code",
            "execution_count": 69,
            "id": "080e03d0",
            "metadata": {
                "deletable": false,
                "editable": false,
                "trusted": true
            },
            "outputs": [
                {
                    "name": "stdout",
                    "output_type": "stream",
                    "text": [
                        "\n"
                    ]
                }
            ],
            "source": [
                "### BEGIN TESTS\n",
                "with rr.Wrap(get_item_by_user_id) as func:\n",
                "    result = func(get_items())\n",
                "    print()\n",
                "    assert result['1'] == 'nail clippers', result['1']\n",
                "### END TESTS"
            ]
        },
        {
            "cell_type": "code",
            "execution_count": 70,
            "id": "7af81e4d",
            "metadata": {
                "deletable": false,
                "editable": false,
                "trusted": true
            },
            "outputs": [],
            "source": [
                "### BEGIN TESTS\n",
                "with rr.Wrap(get_item_by_user_id) as func:\n",
                "    result = func(get_items())\n",
                "    assert result['48'] == 'fridge', result['48']\n",
                "### END TESTS"
            ]
        },
        {
            "cell_type": "code",
            "execution_count": 71,
            "id": "a57d1a2d",
            "metadata": {},
            "outputs": [],
            "source": [
                "def get_names_by_user_id(name_list: list) -> dict:\n",
                "    result = {}\n",
                "    for it in name_list:\n",
                "        result[it[0]] = it[1]\n",
                "    #raise NotImplementedError()\n",
                "    return result\n"
            ]
        },
        {
            "cell_type": "code",
            "execution_count": 72,
            "id": "62069e99",
            "metadata": {
                "deletable": false,
                "editable": false,
                "trusted": true
            },
            "outputs": [],
            "source": [
                "### BEGIN TESTS\n",
                "with rr.Wrap(get_names_by_user_id) as func:\n",
                "    result = func(get_names())\n",
                "    assert result['1'] == 'Shaunna Jacobson', result['1']\n",
                "### END TESTS"
            ]
        },
        {
            "cell_type": "code",
            "execution_count": 73,
            "id": "84816888",
            "metadata": {
                "deletable": false,
                "editable": false,
                "trusted": true
            },
            "outputs": [],
            "source": [
                "### BEGIN TESTS\n",
                "with rr.Wrap(get_names_by_user_id) as func:\n",
                "    result = func(get_names())\n",
                "    assert result['48'] == 'Jaydon Hardin', result['48']\n",
                "### END TESTS"
            ]
        },
        {
            "cell_type": "code",
            "execution_count": 74,
            "id": "a048fef8",
            "metadata": {},
            "outputs": [],
            "source": [
                "def get_last_item_listed_for_user(names_by_user_id, item_by_user_id) -> dict:\n",
                "    \"\"\"\n",
                "    Return just a single item per user name. \n",
                "    \n",
                "    Specifically the last item listed for the user id.\n",
                "    \"\"\"\n",
                "    joined_data = {}\n",
                "    names = names_by_user_id\n",
                "    items = item_by_user_id\n",
                "    #print(names,items)\n",
                "    for i in names:\n",
                "        if i in items:\n",
                "            joined_data[names[i]] = items[i]\n",
                "    #print(joined_data)\n",
                "    #raise NotImplementedError()\n",
                "\n",
                "    #raise NotImplementedError()\n",
                "    return joined_data"
            ]
        },
        {
            "cell_type": "code",
            "execution_count": 75,
            "id": "e848357a",
            "metadata": {
                "deletable": false,
                "editable": false,
                "trusted": true
            },
            "outputs": [],
            "source": [
                "### BEGIN TESTS\n",
                "with rr.Wrap(get_last_item_listed_for_user) as func:\n",
                "    result = func(\n",
                "        get_names_by_user_id(get_names()),\n",
                "        get_item_by_user_id(get_items()),\n",
                "    )\n",
                "    #print(result)\n",
                "    assert result['Jaydon Hardin'] == 'fridge', result['Jaydon Hardin']\n",
                "### END TESTS"
            ]
        },
        {
            "cell_type": "code",
            "execution_count": 76,
            "id": "1c2d5a2a",
            "metadata": {
                "deletable": false,
                "editable": false,
                "trusted": true
            },
            "outputs": [],
            "source": [
                "### BEGIN TESTS\n",
                "with rr.Wrap(get_last_item_listed_for_user) as func:\n",
                "    result = func(\n",
                "        get_names_by_user_id(get_names()),\n",
                "        get_item_by_user_id(get_items()),\n",
                "    )\n",
                "    assert result['Shaunna Jacobson'] == 'nail clippers', result['Shaunna Jacobson']\n",
                "### END TESTS"
            ]
        },
        {
            "cell_type": "markdown",
            "id": "22ab224b",
            "metadata": {},
            "source": [
                "### Checking In\n",
                "\n",
                "This is great but what if a customer has purchased more than one item?\n",
                "\n",
                "Data Structure Hint (only if you want it):\n",
                "\n",
                "<details>\n",
                "    \n",
                "```\n",
                "{\n",
                "    'name 1': ['item a', 'item b', 'item c'],\n",
                "    'name 2': ['item d', 'item e', 'item f'],\n",
                "    ...\n",
                "}\n",
                "```\n",
                "\n",
                "</details>"
            ]
        },
        {
            "cell_type": "code",
            "execution_count": 77,
            "id": "f33e80fc",
            "metadata": {},
            "outputs": [],
            "source": [
                "def get_all_items_for_user(names_by_user_id, items_list) -> dict:\n",
                "    joined_data = {}\n",
                "    names = names_by_user_id\n",
                "    items = items_list\n",
                "    for i in items:\n",
                "        if i[0] in names:\n",
                "            if names[i[0]] in joined_data:\n",
                "                # joined_data[names[i[0]]].append(i[1]),\n",
                "            else:\n",
                "                joined_data[names[i[0]]] = [i[1]]\n",
                "    #raise NotImplementedError()\n",
                "    return joined_data"
            ]
        },
        {
            "cell_type": "code",
            "execution_count": 78,
            "id": "b8fe9daf",
            "metadata": {
                "deletable": false,
                "editable": false,
                "trusted": true
            },
            "outputs": [],
            "source": [
                "### BEGIN TESTS\n",
                "with rr.Wrap(get_all_items_for_user) as func:\n",
                "    result = func(\n",
                "        get_names_by_user_id(get_names()),\n",
                "        get_items(),\n",
                "    )\n",
                "    assert result['Shaunna Jacobson'] == ['nail clippers'], result['Shaunna Jacobson']\n",
                "### END TESTS"
            ]
        },
        {
            "cell_type": "code",
            "execution_count": 79,
            "id": "f32b4763",
            "metadata": {
                "deletable": false,
                "editable": false,
                "trusted": true
            },
            "outputs": [],
            "source": [
                "### BEGIN TESTS\n",
                "with rr.Wrap(get_all_items_for_user) as func:\n",
                "    result = func(\n",
                "        get_names_by_user_id(get_names()),\n",
                "        get_items(),\n",
                "    )\n",
                "    assert result['Elowen Haley'] == [\n",
                "        'packing peanuts',\n",
                "        'sailboat',\n",
                "        'shovel',\n",
                "        'desk',\n",
                "        'bracelet',\n",
                "        'controller',\n",
                "    ], result['Elowen Haley']\n",
                "### END TESTS"
            ]
        }
    ],
    "metadata": {
        "kernelspec": {
            "display_name": "Python 3 (ipykernel)",
            "language": "python",
            "name": "python3"
        },
        "language_info": {
            "codemirror_mode": {
                "name": "ipython",
                "version": 3
            },
            "file_extension": ".py",
            "mimetype": "text/x-python",
            "name": "python",
            "nbconvert_exporter": "python",
            "pygments_lexer": "ipython3",
            "version": "3.9.7"
        }
    },
    "nbformat": 4,
    "nbformat_minor": 5
}
