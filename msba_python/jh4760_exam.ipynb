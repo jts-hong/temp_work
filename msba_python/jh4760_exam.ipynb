{
 "cells": [
  {
   "cell_type": "markdown",
   "id": "d54fbea2",
   "metadata": {
    "deletable": false,
    "editable": false,
    "nbgrader": {
     "cell_type": "markdown",
     "checksum": "51695d34814e36a163fd752f57bf5a9d",
     "grade": false,
     "grade_id": "cell-1345464f4dc52d9d",
     "locked": true,
     "schema_version": 3,
     "solution": false,
     "task": false
    }
   },
   "source": [
    "READ ME:\n",
    "\n",
    "Permissions for this test: \n",
    "\n",
    "- No talking until you have left the room.\n",
    "- You may use the Internet during this exam.\n",
    "\n",
    "\n",
    "To  begin the exam:\n",
    "\n",
    "- **Rename the notebook to be of the form `<uni>_exam`. For example, mine would be `pl2648_exam`.**\n",
    "\n",
    "When you are done with your exam:\n",
    "\n",
    "1. Save this exam.\n",
    "1. Download this exam from your Jupyter Notebook tab as an **`.ipynb`** file.\n",
    "1. Upload/email/etc the **`.ipynb`** file to the submission platform designated by the exam proctor.\n",
    "\n",
    "----\n",
    "\n",
    "Please note, there are several cells in this Jupyter notebook that are empty and/or read only. Do not attempt to remove them or edit them. They are used in grading your notebook.\n",
    "\n",
    "- DO remove the \"Not Implemented\" lines if you at all attempt the problem.\n",
    "- DO test all cells to make sure they run in 30 seconds or less.\n",
    "\n",
    "Finally, spelling counts! If you are told to create a function, class, variable by a specific name then do so with the name and capitalization exactly as given. Otherwise you will loose most points. Because of this, its best to copy and paste the names as they are given."
   ]
  },
  {
   "cell_type": "markdown",
   "id": "94dd84ff",
   "metadata": {
    "deletable": false,
    "editable": false,
    "nbgrader": {
     "cell_type": "markdown",
     "checksum": "8afad81ba98d2b578d7d59b8318c1d74",
     "grade": false,
     "grade_id": "cell-595ec01fa40acfbb",
     "locked": true,
     "schema_version": 3,
     "solution": false,
     "task": false
    }
   },
   "source": [
    "### Question: Basics\n",
    "\n",
    "Build a function that can both filter an aggregate. By default, the function should just return the passed in list of items. If either a `filterer` or `aggregator` are passed in, they should be used. The `filterer` function should take an item and return true if the value should be included in the output list; ie. it is predicate function. The `aggregator` function should aggregate any items passed into the function and potentially filtered by the `filterer`."
   ]
  },
  {
   "cell_type": "code",
   "execution_count": 61,
   "id": "2aa652b7",
   "metadata": {
    "deletable": false,
    "nbgrader": {
     "cell_type": "code",
     "checksum": "ca498081fec39269719f793c36e1350d",
     "grade": false,
     "grade_id": "cell-3275940cea988440",
     "locked": false,
     "schema_version": 3,
     "solution": true,
     "task": false
    }
   },
   "outputs": [],
   "source": [
    "def filter_and_agg(items: list, filterer=None, aggregator=None) -> list:\n",
    "    '''\n",
    "    Build a function that can both filter an aggregate. By default, the function should just return the passed in list of items. If either a `filterer` or `aggregator` are passed in, they should be used. The `filterer` function should take an item and return true if the value should be included in the output list; ie. it is predicate function. The `aggregator` function should aggregate any items passed into the function and potentially filtered by the `filterer`.\n",
    "    '''\n",
    "    if filterer is None and aggregator is None:\n",
    "        return items\n",
    "    elif filterer is None and aggregator is not None:\n",
    "        result = aggregator(items)\n",
    "        if result is not list:\n",
    "            return [result]\n",
    "        return aggregator(items)\n",
    "    elif filterer is not None and aggregator is None:\n",
    "        f_items = [] \n",
    "        for i in items:\n",
    "            if filterer(i):\n",
    "                f_items.append(i)\n",
    "        return f_items\n",
    "    else:\n",
    "        f_items = []\n",
    "        for i in items:\n",
    "            if filterer(i):\n",
    "                f_items.append(i)\n",
    "        result = aggregator(f_items)\n",
    "        if result is not list:\n",
    "            return [result]\n",
    "        return aggregator(result)"
   ]
  },
  {
   "cell_type": "code",
   "execution_count": 62,
   "id": "70b338dc",
   "metadata": {
    "deletable": false,
    "editable": false,
    "nbgrader": {
     "cell_type": "code",
     "checksum": "cb0d704befc23fe6976d3a69b2183422",
     "grade": true,
     "grade_id": "cell-a20fc915c539a67f",
     "locked": true,
     "points": 1,
     "schema_version": 3,
     "solution": false,
     "task": false
    }
   },
   "outputs": [],
   "source": [
    "### BEGIN TESTS\n",
    "result = filter_and_agg(\n",
    "    [1, 2, 3],\n",
    ")\n",
    "assert result == [1, 2, 3]\n",
    "### END TESTS"
   ]
  },
  {
   "cell_type": "code",
   "execution_count": 63,
   "id": "fc44a467",
   "metadata": {
    "deletable": false,
    "editable": false,
    "nbgrader": {
     "cell_type": "code",
     "checksum": "ca8951e31514d5190f65e0fee1fac951",
     "grade": true,
     "grade_id": "cell-29db57030a72d6b1",
     "locked": true,
     "points": 2,
     "schema_version": 3,
     "solution": false,
     "task": false
    }
   },
   "outputs": [
    {
     "name": "stdout",
     "output_type": "stream",
     "text": [
      "[1, 3]\n"
     ]
    }
   ],
   "source": [
    "### BEGIN TESTS\n",
    "result = filter_and_agg(\n",
    "    [1, 2, 3],\n",
    "    filterer=lambda x: x % 2,\n",
    ")\n",
    "print(result)\n",
    "assert result == [1, 3]\n",
    "### END TESTS"
   ]
  },
  {
   "cell_type": "code",
   "execution_count": 64,
   "id": "22f0f258",
   "metadata": {
    "deletable": false,
    "editable": false,
    "nbgrader": {
     "cell_type": "code",
     "checksum": "8e23b55171177e93048d6af0460d133c",
     "grade": true,
     "grade_id": "cell-666f3dce65b54cb9",
     "locked": true,
     "points": 1,
     "schema_version": 3,
     "solution": false,
     "task": false
    }
   },
   "outputs": [
    {
     "name": "stdout",
     "output_type": "stream",
     "text": [
      "[6]\n"
     ]
    }
   ],
   "source": [
    "### BEGIN TESTS\n",
    "result = filter_and_agg(\n",
    "    [1, 2, 3],\n",
    "    aggregator=sum,\n",
    ")\n",
    "print(result)\n",
    "assert result == [6]\n",
    "### END TESTS"
   ]
  },
  {
   "cell_type": "code",
   "execution_count": 65,
   "id": "a2f8239e",
   "metadata": {
    "deletable": false,
    "editable": false,
    "nbgrader": {
     "cell_type": "code",
     "checksum": "2f448aeb49846937a85dba726776f45a",
     "grade": true,
     "grade_id": "cell-62b96da73d066686",
     "locked": true,
     "points": 2,
     "schema_version": 3,
     "solution": false,
     "task": false
    }
   },
   "outputs": [
    {
     "name": "stdout",
     "output_type": "stream",
     "text": [
      "[4]\n"
     ]
    }
   ],
   "source": [
    "### BEGIN TESTS\n",
    "result = filter_and_agg(\n",
    "    [1, 2, 3],\n",
    "    filterer=lambda x: x % 2,\n",
    "    aggregator=sum,\n",
    ")\n",
    "print(result)\n",
    "assert result == [4]\n",
    "### END TESTS"
   ]
  },
  {
   "cell_type": "markdown",
   "id": "bc49b0ff",
   "metadata": {
    "deletable": false,
    "editable": false,
    "nbgrader": {
     "cell_type": "markdown",
     "checksum": "9733e6f287301c4a6f2df2d3f2087f18",
     "grade": false,
     "grade_id": "cell-232efd4d5721d579",
     "locked": true,
     "schema_version": 3,
     "solution": false,
     "task": false
    }
   },
   "source": [
    "### Question: OOP\n",
    "\n",
    "Develop a Queue. The class should have two methods besides the `__init__` method; `pop` and `push`. Item's pushed onto the queue should be removed from the queue via `pop`. Items should pass through the queue in a First In First Out pattern. A queue can be instantiated with a `max_size`. If a push occurs when the queue already contains `max_size` items, the `push` method should raise a `RuntimeError`. The contents of the error message can be anything."
   ]
  },
  {
   "cell_type": "code",
   "execution_count": 162,
   "id": "ef9b2e20",
   "metadata": {
    "deletable": false,
    "nbgrader": {
     "cell_type": "code",
     "checksum": "cf892cb6a3f18c5e7477e61d28177d4a",
     "grade": false,
     "grade_id": "cell-6cc53c18dfc809ab",
     "locked": false,
     "schema_version": 3,
     "solution": true,
     "task": false
    }
   },
   "outputs": [],
   "source": [
    "class Queue:\n",
    "    def __init__(self, max_size: int=None):\n",
    "        if max_size is not None and max_size < 1:\n",
    "            self.q = []\n",
    "        if max_size is None:\n",
    "            self.q = []\n",
    "            self.s =  float('inf')\n",
    "        if max_size is not None and max_size > 0:\n",
    "            self.s = max_size\n",
    "            self.q = []\n",
    "        #raise NotImplementedError()\n",
    "    \n",
    "    def push(self, value):\n",
    "        if len(self.q) == self.s:\n",
    "            raise RuntimeError(\"Should have raised RuntimeError\")\n",
    "        else:\n",
    "            self.q.append(value)\n",
    "\n",
    "        #raise NotImplementedError()\n",
    "    \n",
    "    def pop(self):\n",
    "        # YOUR CODE HERE\n",
    "        if len(self.q) == 0:\n",
    "            return None\n",
    "        else:\n",
    "            return self.q.pop(0)\n",
    "        #raise NotImplementedError()"
   ]
  },
  {
   "cell_type": "code",
   "execution_count": 163,
   "id": "9673bcc9",
   "metadata": {
    "deletable": false,
    "editable": false,
    "nbgrader": {
     "cell_type": "code",
     "checksum": "c27cf70169fba185171496a585a9c3b7",
     "grade": true,
     "grade_id": "cell-f99e8f24067750fb",
     "locked": true,
     "points": 1,
     "schema_version": 3,
     "solution": false,
     "task": false
    }
   },
   "outputs": [],
   "source": [
    "### BEGIN TESTS\n",
    "q = Queue()\n",
    "q.push(4)\n",
    "assert q.pop() == 4\n",
    "### END TESTS"
   ]
  },
  {
   "cell_type": "code",
   "execution_count": 164,
   "id": "7bf2bde1",
   "metadata": {
    "deletable": false,
    "editable": false,
    "nbgrader": {
     "cell_type": "code",
     "checksum": "ac0ba204a3d96d2f6f17974e71ed1312",
     "grade": true,
     "grade_id": "cell-71b6c3ff023d5de5",
     "locked": true,
     "points": 1,
     "schema_version": 3,
     "solution": false,
     "task": false
    }
   },
   "outputs": [],
   "source": [
    "### BEGIN TESTS\n",
    "q = Queue()\n",
    "q.push(4)\n",
    "q.push(8)\n",
    "q.push(0)\n",
    "assert q.pop() == 4\n",
    "### END TESTS"
   ]
  },
  {
   "cell_type": "code",
   "execution_count": 165,
   "id": "1376f43c",
   "metadata": {
    "deletable": false,
    "editable": false,
    "nbgrader": {
     "cell_type": "code",
     "checksum": "0f9ddad17c40e6b71b19ab7eceb67fa4",
     "grade": true,
     "grade_id": "cell-72675c887573773f",
     "locked": true,
     "points": 1,
     "schema_version": 3,
     "solution": false,
     "task": false
    }
   },
   "outputs": [],
   "source": [
    "### BEGIN TESTS\n",
    "q = Queue()\n",
    "q.push(4)\n",
    "q.push(8)\n",
    "q.push(0)\n",
    "assert q.pop() == 4\n",
    "assert q.pop() == 8\n",
    "assert q.pop() == 0\n",
    "### END TESTS"
   ]
  },
  {
   "cell_type": "code",
   "execution_count": 166,
   "id": "bcca13a4",
   "metadata": {
    "deletable": false,
    "editable": false,
    "nbgrader": {
     "cell_type": "code",
     "checksum": "94bc0f5714f64bffc23b3c739d3c5c39",
     "grade": true,
     "grade_id": "cell-dab79708c71d45fe",
     "locked": true,
     "points": 1,
     "schema_version": 3,
     "solution": false,
     "task": false
    }
   },
   "outputs": [],
   "source": [
    "### BEGIN TESTS\n",
    "q = Queue(1)\n",
    "q.push(4)\n",
    "try:\n",
    "    q.push(8)\n",
    "    assert False, 'Should have raised RuntimeError'\n",
    "except RuntimeError:\n",
    "    pass\n",
    "### END TESTS"
   ]
  },
  {
   "cell_type": "code",
   "execution_count": 167,
   "id": "c10995af",
   "metadata": {
    "deletable": false,
    "editable": false,
    "nbgrader": {
     "cell_type": "code",
     "checksum": "8ee5c1fb74066d9a9c830ce6a03d276b",
     "grade": true,
     "grade_id": "cell-d63b4d90f1a1dd32",
     "locked": true,
     "points": 1,
     "schema_version": 3,
     "solution": false,
     "task": false
    }
   },
   "outputs": [],
   "source": [
    "### BEGIN TESTS\n",
    "import random\n",
    "\n",
    "q = Queue()\n",
    "vals = []\n",
    "for _ in range(10):\n",
    "    i = random.randint(1, 100)\n",
    "    q.push(i)\n",
    "    vals.append(i)\n",
    "\n",
    "for val in vals:\n",
    "    assert val == q.pop()\n",
    "### END TESTS"
   ]
  },
  {
   "cell_type": "markdown",
   "id": "79494242",
   "metadata": {
    "deletable": false,
    "editable": false,
    "nbgrader": {
     "cell_type": "markdown",
     "checksum": "fe6dfee9949d4ae8530bc1501ba4312e",
     "grade": false,
     "grade_id": "cell-e78cea5c5024bd4f",
     "locked": true,
     "schema_version": 3,
     "solution": false,
     "task": false
    }
   },
   "source": [
    "### Question: Regex\n",
    "\n",
    "Construct a regex pattern that can parse simple math expressions. You can assume you only need to support `+`, `-`, `*`, `/` and integer operands. The function below should return the one-line pattern."
   ]
  },
  {
   "cell_type": "code",
   "execution_count": 168,
   "id": "86cf7195",
   "metadata": {
    "deletable": false,
    "nbgrader": {
     "cell_type": "code",
     "checksum": "ff9cba8b1f0e2ef41db513c69fbe04c9",
     "grade": false,
     "grade_id": "cell-abd1593cac82c96e",
     "locked": false,
     "schema_version": 3,
     "solution": true,
     "task": false
    }
   },
   "outputs": [],
   "source": [
    "def get_regex_pattern() -> str:\n",
    "    return r'(\\d+) *([\\+\\-\\*\\/]) *(\\d+)'\n",
    "    #raise NotImplementedError()"
   ]
  },
  {
   "cell_type": "code",
   "execution_count": 169,
   "id": "b45568f2",
   "metadata": {
    "deletable": false,
    "editable": false,
    "nbgrader": {
     "cell_type": "code",
     "checksum": "ac57deb919f5aba5a5c69c2f03a6e282",
     "grade": true,
     "grade_id": "cell-4080e33d2b132db1",
     "locked": true,
     "points": 0,
     "schema_version": 3,
     "solution": false,
     "task": false
    }
   },
   "outputs": [],
   "source": [
    "### BEGIN TESTS\n",
    "import re\n",
    "### END TESTS"
   ]
  },
  {
   "cell_type": "code",
   "execution_count": 170,
   "id": "0ec6788f",
   "metadata": {
    "deletable": false,
    "editable": false,
    "nbgrader": {
     "cell_type": "code",
     "checksum": "9251d4e97e4e632939fa3ce15557f8c5",
     "grade": true,
     "grade_id": "cell-51d5fc75c4cd98d0",
     "locked": true,
     "points": 1,
     "schema_version": 3,
     "solution": false,
     "task": false
    }
   },
   "outputs": [],
   "source": [
    "### BEGIN TESTS\n",
    "result = re.match(get_regex_pattern(), '')\n",
    "assert result is None, result\n",
    "### END TESTS"
   ]
  },
  {
   "cell_type": "code",
   "execution_count": 171,
   "id": "539d09fa",
   "metadata": {
    "deletable": false,
    "editable": false,
    "nbgrader": {
     "cell_type": "code",
     "checksum": "984c5264c650795e94704d6f8a6bb8bb",
     "grade": true,
     "grade_id": "cell-aba7512346dde42b",
     "locked": true,
     "points": 1,
     "schema_version": 3,
     "solution": false,
     "task": false
    }
   },
   "outputs": [],
   "source": [
    "### BEGIN TESTS\n",
    "result = re.match(get_regex_pattern(), '1 + 1')\n",
    "assert result.groups() == ('1', '+', '1'), result\n",
    "### END TESTS"
   ]
  },
  {
   "cell_type": "code",
   "execution_count": 172,
   "id": "0548b974",
   "metadata": {
    "deletable": false,
    "editable": false,
    "nbgrader": {
     "cell_type": "code",
     "checksum": "d6a48443d8cbe3b78d6d7b5f9fc8aaec",
     "grade": true,
     "grade_id": "cell-a5869387dfc8e6d0",
     "locked": true,
     "points": 1,
     "schema_version": 3,
     "solution": false,
     "task": false
    }
   },
   "outputs": [],
   "source": [
    "### BEGIN TESTS\n",
    "result = re.match(get_regex_pattern(), '1+1')\n",
    "assert result.groups() == ('1', '+', '1'), result\n",
    "### END TESTS"
   ]
  },
  {
   "cell_type": "code",
   "execution_count": 173,
   "id": "5a29e89a",
   "metadata": {
    "deletable": false,
    "editable": false,
    "nbgrader": {
     "cell_type": "code",
     "checksum": "77866589be451ca5a0058ed3de757197",
     "grade": true,
     "grade_id": "cell-6253e03e88acf8ce",
     "locked": true,
     "points": 1,
     "schema_version": 3,
     "solution": false,
     "task": false
    }
   },
   "outputs": [],
   "source": [
    "### BEGIN TESTS\n",
    "result = re.match(get_regex_pattern(), '110 - 95')\n",
    "assert result.groups() == ('110', '-', '95'), result\n",
    "### END TESTS"
   ]
  },
  {
   "cell_type": "code",
   "execution_count": 174,
   "id": "97ca931c",
   "metadata": {
    "deletable": false,
    "editable": false,
    "nbgrader": {
     "cell_type": "code",
     "checksum": "1d1b0cbea8b16b91ae98b5b4446370a9",
     "grade": true,
     "grade_id": "cell-218a08b6f2be92c8",
     "locked": true,
     "points": 1,
     "schema_version": 3,
     "solution": false,
     "task": false
    }
   },
   "outputs": [],
   "source": [
    "### BEGIN TESTS\n",
    "result = re.match(get_regex_pattern(), '23 * 77')\n",
    "assert result.groups() == ('23', '*', '77'), result\n",
    "### END TESTS"
   ]
  },
  {
   "cell_type": "code",
   "execution_count": 175,
   "id": "0524a4ee",
   "metadata": {
    "deletable": false,
    "editable": false,
    "nbgrader": {
     "cell_type": "code",
     "checksum": "f590019f7ea9ef0a538c6fb24e2915c8",
     "grade": true,
     "grade_id": "cell-92fc5be6cbe7bcaa",
     "locked": true,
     "points": 1,
     "schema_version": 3,
     "solution": false,
     "task": false
    }
   },
   "outputs": [],
   "source": [
    "### BEGIN TESTS\n",
    "result = re.match(get_regex_pattern(), '23 / 99')\n",
    "assert result.groups() == ('23', '/', '99'), result\n",
    "### END TESTS"
   ]
  },
  {
   "cell_type": "markdown",
   "id": "5c962258",
   "metadata": {
    "deletable": false,
    "editable": false,
    "nbgrader": {
     "cell_type": "markdown",
     "checksum": "927879b3beb83d987d840187b12fe246",
     "grade": false,
     "grade_id": "cell-cefd1f4e381c2018",
     "locked": true,
     "schema_version": 3,
     "solution": false,
     "task": false
    }
   },
   "source": [
    "### Question: Bubble Sort\n",
    "\n",
    "Write an implementation of bubble sort. Bubble sort compares to adjancent values and swaps them if they are out of order. The sort keeps passing through the data until no swaps have occurred during a pass.\n",
    "\n",
    "Here is some psuedo-code to help the student:\n",
    "\n",
    "```\n",
    "While true:\n",
    "    Step through the sequence.\n",
    "        If two adjacent values are out of order, swap them.\n",
    "    If there have been no swaps, stop looping.\n",
    "```"
   ]
  },
  {
   "cell_type": "code",
   "execution_count": 5,
   "id": "821d869b",
   "metadata": {
    "deletable": false,
    "nbgrader": {
     "cell_type": "code",
     "checksum": "1c60e150ffaaec64907ef67ed1c22475",
     "grade": false,
     "grade_id": "cell-d0c97b56e88a6448",
     "locked": false,
     "schema_version": 3,
     "solution": true,
     "task": false
    }
   },
   "outputs": [],
   "source": [
    "def bubble_sort(seq: list):\n",
    "    # YOUR CODE HERE\n",
    "    for bl in range(len(seq)):\n",
    "        #outer loop \n",
    "        for sl in range(0, len(seq) - bl - 1):\n",
    "            #inner loop to compare and swap adjacent elements\n",
    "            if seq[sl] > seq[sl + 1] :\n",
    "                seq[sl], seq[sl + 1] = seq[sl + 1], seq[sl]\n",
    "                #i and i + 1 are swapped\n",
    "    #raise NotImplementedError()"
   ]
  },
  {
   "cell_type": "code",
   "execution_count": 6,
   "id": "c233fc55",
   "metadata": {
    "deletable": false,
    "editable": false,
    "nbgrader": {
     "cell_type": "code",
     "checksum": "1722e78d0b8f8f4ad9945059b226843d",
     "grade": true,
     "grade_id": "cell-7ff19d80cdb06bf1",
     "locked": true,
     "points": 1,
     "schema_version": 3,
     "solution": false,
     "task": false
    }
   },
   "outputs": [],
   "source": [
    "### BEGIN TESTS\n",
    "def get_result(list_: list):\n",
    "    bubble_sort(list_)\n",
    "    return list_\n",
    "### END TESTS"
   ]
  },
  {
   "cell_type": "code",
   "execution_count": 7,
   "id": "902031e3",
   "metadata": {
    "deletable": false,
    "editable": false,
    "nbgrader": {
     "cell_type": "code",
     "checksum": "e5aac4deed1545da06968a8be50ae3d8",
     "grade": true,
     "grade_id": "cell-d114ce6dac1c3484",
     "locked": true,
     "points": 1,
     "schema_version": 3,
     "solution": false,
     "task": false
    }
   },
   "outputs": [],
   "source": [
    "### BEGIN TESTS\n",
    "seq = []\n",
    "result = get_result(seq)\n",
    "assert result == [], result\n",
    "### END TESTS"
   ]
  },
  {
   "cell_type": "code",
   "execution_count": 8,
   "id": "b6df3795",
   "metadata": {
    "deletable": false,
    "editable": false,
    "nbgrader": {
     "cell_type": "code",
     "checksum": "7bf5aca45bdb0069b40613acb083598e",
     "grade": true,
     "grade_id": "cell-ad971a530598a253",
     "locked": true,
     "points": 1,
     "schema_version": 3,
     "solution": false,
     "task": false
    }
   },
   "outputs": [],
   "source": [
    "### BEGIN TESTS\n",
    "seq = [1, 2, 3]\n",
    "result = get_result(seq)\n",
    "assert result == [1, 2, 3], result\n",
    "### END TESTS"
   ]
  },
  {
   "cell_type": "code",
   "execution_count": 9,
   "id": "52767afc",
   "metadata": {
    "deletable": false,
    "editable": false,
    "nbgrader": {
     "cell_type": "code",
     "checksum": "49d8049f0d4d6d29f7cd4601bf747f18",
     "grade": true,
     "grade_id": "cell-796327d82b242e70",
     "locked": true,
     "points": 1,
     "schema_version": 3,
     "solution": false,
     "task": false
    }
   },
   "outputs": [],
   "source": [
    "### BEGIN TESTS\n",
    "seq = [3, 2, 1]\n",
    "result = get_result(seq)\n",
    "assert result == [1, 2, 3], result\n",
    "### END TESTS"
   ]
  },
  {
   "cell_type": "code",
   "execution_count": 10,
   "id": "36e85e75",
   "metadata": {
    "deletable": false,
    "editable": false,
    "nbgrader": {
     "cell_type": "code",
     "checksum": "ebba96d536f647375195f87287ae5585",
     "grade": true,
     "grade_id": "cell-4cdcd85253e0f205",
     "locked": true,
     "points": 1,
     "schema_version": 3,
     "solution": false,
     "task": false
    }
   },
   "outputs": [],
   "source": [
    "### BEGIN TESTS\n",
    "import random\n",
    "\n",
    "random.seed(0)\n",
    "\n",
    "seq = random.choices(list(range(10)), k=10)\n",
    "result = get_result(seq)\n",
    "assert result == sorted(result), result\n",
    "### END TESTS"
   ]
  },
  {
   "cell_type": "code",
   "execution_count": null,
   "id": "b7eff238",
   "metadata": {},
   "outputs": [],
   "source": []
  },
  {
   "cell_type": "code",
   "execution_count": null,
   "id": "d99ccaa4",
   "metadata": {},
   "outputs": [],
   "source": []
  },
  {
   "cell_type": "code",
   "execution_count": null,
   "id": "f0556e4d",
   "metadata": {},
   "outputs": [],
   "source": []
  }
 ],
 "metadata": {
  "kernelspec": {
   "display_name": "Python 3 (ipykernel)",
   "language": "python",
   "name": "python3"
  },
  "language_info": {
   "codemirror_mode": {
    "name": "ipython",
    "version": 3
   },
   "file_extension": ".py",
   "mimetype": "text/x-python",
   "name": "python",
   "nbconvert_exporter": "python",
   "pygments_lexer": "ipython3",
   "version": "3.9.7"
  }
 },
 "nbformat": 4,
 "nbformat_minor": 5
}
