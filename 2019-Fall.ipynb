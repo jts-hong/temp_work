{
 "cells": [
  {
   "cell_type": "markdown",
   "metadata": {
    "nbgrader": {
     "grade": false,
     "grade_id": "cell-ef5b66d42bd77e43",
     "locked": true,
     "schema_version": 3,
     "solution": false
    }
   },
   "source": [
    "READ ME:\n",
    "\n",
    "Permissions for this test: \n",
    "\n",
    "- No talking until you have left the room.\n",
    "- This is a closed note, closed book, closed internet exam.\n",
    "- You may have one jupyter notebook (this notebook) open for the duration of the exam.\n",
    "- You may have one tab open solely for the act of submitting your exam.\n",
    "\n",
    "To  begin the exam:\n",
    "\n",
    "- **Rename the notebook to be of the form `<uni>_exam`. For example, mine would be `pl2648_exam`.**\n",
    "\n",
    "When you are done with your exam:\n",
    "\n",
    "1. Save this exam.\n",
    "1. Download this exam from your Jupyter Notebook tab as an **`.ipynb`** file.\n",
    "1. Upload/email/etc the **`.ipynb`** file to the submission platform designated by the exam proctor.\n",
    "\n",
    "----\n",
    "\n",
    "Please note, there are several cells in this Jupyter notebook that are empty and read only. Do not attempt to remove them or edit them. They are used in grading your notebook.\n",
    "\n",
    "- DO remove the \"Not Implemented\" lines if you at all attempt the problem.\n",
    "- DO test all cells to make sure they run in 30 seconds or less."
   ]
  },
  {
   "cell_type": "markdown",
   "metadata": {
    "nbgrader": {
     "grade": false,
     "grade_id": "cell-129aa5426cd81ef8",
     "locked": true,
     "schema_version": 3,
     "solution": false
    }
   },
   "source": [
    "### Question\n",
    "\n",
    "Write a class named `StopWatch`. This class should have `start`, `stop`, and `lap` methods. \n",
    "\n",
    "An instance of the `StopWatch` class should keep track of each start-stop pair that have occurred; much like an exercise stop watch. After `start` is called, `stop` can be called to track the time since `start` was called. If `start` has been called the only valid method call is `stop`. If `stop` has been called, `start` or `lap` can be called. `stop` can also be called again but it should have no effect on the state of the stop watch. If `start` has been called but `stop` has not yet been called and `start` or `lap` are called, a `RuntimeError` should be raised. \n",
    "\n",
    "`lap` must be called with a zero based integer index into the sequence of start-stop pairs. `lap` should return the time between the start and stop time stamps for that lap. If an index passed to `lap` is out of bounds of the valid laps, an `IndexError` should be raised. The units of time can be equivalent to those provided by the standard library's `time.time` function.\n",
    "\n",
    "\n",
    "```python\n",
    "sw = StopWatch()\n",
    "sw.start()\n",
    "# wait about five seconds\n",
    "sw.stop()\n",
    "sw.lap(0)\n",
    "    5.007094860076904\n",
    "\n",
    "sw.lap(1)\n",
    "    IndexError: list index out of range\n",
    "\n",
    "sw.start()\n",
    "sw.start()\n",
    "    RuntimeError: Can not start StopWatch when it is already running\n",
    "```\n",
    "[4 points]"
   ]
  },
  {
   "cell_type": "code",
   "execution_count": 47,
   "metadata": {
    "nbgrader": {
     "grade": false,
     "grade_id": "cell-f6292be44440b141",
     "locked": false,
     "schema_version": 3,
     "solution": true
    }
   },
   "outputs": [],
   "source": [
    "### BEGIN SOLUTION\n",
    "import time\n",
    "\n",
    "class StopWatch:\n",
    "    def __init__(self):\n",
    "        self.laps = []\n",
    "        # If _start is not None, we can assume the StopWatch is running.\n",
    "        self._start = None\n",
    "    \n",
    "    def start(self):\n",
    "        if self._start is not None:\n",
    "            raise RuntimeError('Can not start StopWatch when it is already running')\n",
    "        self._start = time.time()\n",
    "    \n",
    "    def stop(self):\n",
    "        # Let's not concern ourselves if stop was called twice\n",
    "        if self._start is None:\n",
    "            return\n",
    "        \n",
    "        # Record lap\n",
    "        self.laps.append((\n",
    "            self._start,\n",
    "            time.time()\n",
    "        ))\n",
    "        \n",
    "        # Stop stopwatch\n",
    "        self._start = None\n",
    "    \n",
    "    def lap(self, index):\n",
    "        start, stop = self.laps[index]\n",
    "        return stop - start\n",
    "### END SOLUTION"
   ]
  },
  {
   "cell_type": "code",
   "execution_count": 48,
   "metadata": {
    "nbgrader": {
     "grade": true,
     "grade_id": "cell-53a9f83e25d13262",
     "locked": true,
     "points": 1,
     "schema_version": 3,
     "solution": false
    }
   },
   "outputs": [],
   "source": [
    "### BEGIN HIDDEN TESTS\n",
    "import time\n",
    "\n",
    "sw = StopWatch()\n",
    "sw.start()\n",
    "time.sleep(0.5)\n",
    "sw.stop()\n",
    "interval = sw.lap(0)\n",
    "assert 0.4 < interval < 0.6, interval\n",
    "### END HIDDEN TESTS"
   ]
  },
  {
   "cell_type": "code",
   "execution_count": 49,
   "metadata": {
    "nbgrader": {
     "grade": true,
     "grade_id": "cell-4d9e6474cf7ddeca",
     "locked": true,
     "points": 1,
     "schema_version": 3,
     "solution": false
    }
   },
   "outputs": [],
   "source": [
    "### BEGIN HIDDEN TESTS\n",
    "sw = StopWatch()\n",
    "sw.start()\n",
    "try:\n",
    "    sw.start()\n",
    "    assert False, 'Should have caused a RuntimeError'\n",
    "except RuntimeError:\n",
    "    pass\n",
    "### END HIDDEN TESTS"
   ]
  },
  {
   "cell_type": "code",
   "execution_count": 50,
   "metadata": {
    "nbgrader": {
     "grade": true,
     "grade_id": "cell-5fef234cf1144697",
     "locked": true,
     "points": 0,
     "schema_version": 3,
     "solution": false
    }
   },
   "outputs": [],
   "source": [
    "### BEGIN HIDDEN TESTS\n",
    "import time\n",
    "\n",
    "sw = StopWatch()\n",
    "for i in range(1, 10):\n",
    "    sw.start()\n",
    "    time.sleep(1 / i)\n",
    "    sw.stop()\n",
    "### END HIDDEN TESTS"
   ]
  },
  {
   "cell_type": "code",
   "execution_count": 51,
   "metadata": {
    "nbgrader": {
     "grade": true,
     "grade_id": "cell-75766690dce70e1f",
     "locked": true,
     "points": 1,
     "schema_version": 3,
     "solution": false
    }
   },
   "outputs": [],
   "source": [
    "### BEGIN HIDDEN TESTS\n",
    "assert sw.lap(5)\n",
    "### END HIDDEN TESTS"
   ]
  },
  {
   "cell_type": "code",
   "execution_count": 52,
   "metadata": {
    "nbgrader": {
     "grade": true,
     "grade_id": "cell-0819cab8bb31b2b2",
     "locked": true,
     "points": 1,
     "schema_version": 3,
     "solution": false
    }
   },
   "outputs": [],
   "source": [
    "### BEGIN HIDDEN TESTS\n",
    "try:\n",
    "    sw.lap(11)\n",
    "    assert False, 'Should have caused IndexError'\n",
    "except IndexError:\n",
    "    pass\n",
    "### END HIDDEN TESTS"
   ]
  },
  {
   "cell_type": "markdown",
   "metadata": {
    "nbgrader": {
     "grade": false,
     "grade_id": "cell-9a7e22503982d594",
     "locked": true,
     "schema_version": 3,
     "solution": false
    }
   },
   "source": [
    "### Question \n",
    "\n",
    "Create a function named `iterable_to_dict`. This function should take any iterable and add its members to a dictionary as members of lists where the member containing lists are the values of the dictionary. The key for each value (each list) should be the first list item's address in memory expressed as a hex address string. If a value for the optional keyword argument `key_func` is passed to the function, the `key_func` should be used to determine an item's key. Each item should be passed to `key_func` to determine the list's key. If there is a key collision, the list of items for a particular key should be increased to include the new item.\n",
    "\n",
    "For example:\n",
    "\n",
    "```python\n",
    "iterable_to_dict((1, 2, 3, 4, 5))\n",
    "{'0x109258440': [1],\n",
    " '0x109258460': [2],\n",
    " '0x109258480': [3],\n",
    " '0x1092584a0': [4],\n",
    " '0x1092584c0': [5]}\n",
    "\n",
    "\n",
    "iterable_to_dict((1, 2, 3, 4, 5), key_func=lambda x: 'a')\n",
    "{'a': [1, 2, 3, 4, 5]}\n",
    "```\n",
    "\n",
    "[3 points]"
   ]
  },
  {
   "cell_type": "code",
   "execution_count": 2,
   "metadata": {},
   "outputs": [
    {
     "data": {
      "text/plain": [
       "'0b1'"
      ]
     },
     "execution_count": 2,
     "metadata": {},
     "output_type": "execute_result"
    }
   ],
   "source": [
    "def key_func(value):\n",
    "    return bin(value)\n",
    "\n",
    "iterable_to_dict(iterable, key_func=key_func)"
   ]
  },
  {
   "cell_type": "code",
   "execution_count": 1,
   "metadata": {
    "nbgrader": {
     "grade": false,
     "grade_id": "cell-9a0363302483e2d1",
     "locked": false,
     "schema_version": 3,
     "solution": true
    }
   },
   "outputs": [],
   "source": [
    "### BEGIN SOLUTION\n",
    "def iterable_to_dict(iterable, key_func=None):\n",
    "    result = {}\n",
    "    for item in iterable:\n",
    "        if key_func:\n",
    "            key = key_func(item)\n",
    "        else:\n",
    "            key = hex(id(item))\n",
    "        \n",
    "        if key in result:\n",
    "            result[key].append(item)\n",
    "        else:\n",
    "            result[key] = [item]\n",
    "    \n",
    "    return result\n",
    "### END SOLUTION"
   ]
  },
  {
   "cell_type": "code",
   "execution_count": 2,
   "metadata": {
    "nbgrader": {
     "grade": true,
     "grade_id": "cell-9efae76d7cc2794e",
     "locked": true,
     "points": 1,
     "schema_version": 3,
     "solution": false
    }
   },
   "outputs": [],
   "source": [
    "### BEGIN HIDDEN TESTS\n",
    "i = (1, 2, 3, 4, 5)\n",
    "d = iterable_to_dict(i)\n",
    "assert all(k.startswith('0x') for k in d)\n",
    "### END HIDDEN TESTS"
   ]
  },
  {
   "cell_type": "code",
   "execution_count": 24,
   "metadata": {
    "nbgrader": {
     "grade": true,
     "grade_id": "cell-755c9190b5a51c9b",
     "locked": true,
     "points": 1,
     "schema_version": 3,
     "solution": false
    }
   },
   "outputs": [],
   "source": [
    "### BEGIN HIDDEN TESTS\n",
    "i = (1, 2, 3, 4, 5)\n",
    "d = iterable_to_dict(i)\n",
    "assert sorted(list(d.values())) == [[1], [2], [3], [4], [5]]\n",
    "### END HIDDEN TESTS"
   ]
  },
  {
   "cell_type": "code",
   "execution_count": 28,
   "metadata": {
    "nbgrader": {
     "grade": true,
     "grade_id": "cell-8e8d94dca63e0546",
     "locked": true,
     "points": 1,
     "schema_version": 3,
     "solution": false
    }
   },
   "outputs": [],
   "source": [
    "### BEGIN HIDDEN TESTS\n",
    "i = (1, 2, 3, 4, 5)\n",
    "d = iterable_to_dict(i, key_func=lambda x: x % 2)\n",
    "assert d == {1: [1, 3, 5], 0: [2, 4]}\n",
    "### END HIDDEN TESTS"
   ]
  },
  {
   "cell_type": "markdown",
   "metadata": {
    "nbgrader": {
     "grade": false,
     "grade_id": "cell-13fa838cb24b1967",
     "locked": true,
     "schema_version": 3,
     "solution": false
    }
   },
   "source": [
    "### Question\n",
    "\n",
    "NYC has all sorts of taxi types. Yellow Cab, Service Car, Uber, Lyft, maybe even 滴滴.\n",
    "\n",
    "Let's assume each license plate number can give us hints on what service the car drives for. For example, if a license plate number starts with a T, we can assume its a taxi of some sort. If the number ends with a C, then it is a Yellow Cab. If it ends with a U, then the taxi is an Uber. The rest of the mappings are as described below.\n",
    "\n",
    "- T123E5C           # Yellow Cab\n",
    "- T34567S           # Service Car\n",
    "- T5J788U           # Uber\n",
    "- T987Q5L           # Lyft\n",
    "- T27865D           # DiDi \n",
    "- 36A78ED           # Not a taxi\n",
    "\n",
    "The number/letter comboniation in between the first and last digits give us the taxi ID if the plate number is for a taxi. Otherwise, they are just part of the greater license plate number.\n",
    "\n",
    "Write a regular expression to return an `re.match` object with the following match groups if compared with a taxi number. Otherwise, the pattern should cause `re.match` to return `None`. You should assume the taxi ID will always be 5 digits and the service type will always be 1 digit long. Please note, you are being asked to creat\n",
    "\n",
    "```python\n",
    "\"T<taxi_id><service_type>\"\n",
    "```\n",
    "\n",
    "[3 points]"
   ]
  },
  {
   "cell_type": "code",
   "execution_count": 34,
   "metadata": {
    "nbgrader": {
     "grade": false,
     "grade_id": "re",
     "locked": false,
     "schema_version": 3,
     "solution": true
    }
   },
   "outputs": [],
   "source": [
    "import re\n",
    "\n",
    "def parse_number(plate_number):\n",
    "    ### BEGIN SOLUTION\n",
    "    pattern_string = r\"^T(?P<taxi_id>\\w{5})(?P<service_id>\\w{1})\"\n",
    "    ### END SOLUTION\n",
    "    return re.match(pattern_string, plate_number)"
   ]
  },
  {
   "cell_type": "code",
   "execution_count": 35,
   "metadata": {
    "nbgrader": {
     "grade": true,
     "grade_id": "cell-2cf89dead6cbc6dd",
     "locked": true,
     "points": 0.25,
     "schema_version": 3,
     "solution": false
    }
   },
   "outputs": [],
   "source": [
    "### BEGIN HIDDEN TESTS\n",
    "match = parse_number('T123E5C')\n",
    "taxi_id = match.group(1)\n",
    "assert taxi_id == '123E5', taxi_id\n",
    "### END HIDDEN TESTS"
   ]
  },
  {
   "cell_type": "code",
   "execution_count": 36,
   "metadata": {
    "nbgrader": {
     "grade": true,
     "grade_id": "cell-3d5bb86fbca97c0a",
     "locked": true,
     "points": 0.25,
     "schema_version": 3,
     "solution": false
    }
   },
   "outputs": [],
   "source": [
    "### BEGIN HIDDEN TESTS\n",
    "match = parse_number('T123E5C')\n",
    "service_id = match.group(2)\n",
    "assert service_id == 'C', service_id\n",
    "### END HIDDEN TESTS"
   ]
  },
  {
   "cell_type": "code",
   "execution_count": 37,
   "metadata": {
    "nbgrader": {
     "grade": true,
     "grade_id": "cell-eedca7e1c0c87482",
     "locked": true,
     "points": 0.25,
     "schema_version": 3,
     "solution": false
    }
   },
   "outputs": [],
   "source": [
    "### BEGIN HIDDEN TESTS\n",
    "match = parse_number('T34567S')\n",
    "taxi_id = match.group(1)\n",
    "assert taxi_id == '34567', taxi_id\n",
    "### END HIDDEN TESTS"
   ]
  },
  {
   "cell_type": "code",
   "execution_count": 38,
   "metadata": {
    "nbgrader": {
     "grade": true,
     "grade_id": "cell-4e1b657617b80ea9",
     "locked": true,
     "points": 0.25,
     "schema_version": 3,
     "solution": false
    }
   },
   "outputs": [],
   "source": [
    "### BEGIN HIDDEN TESTS\n",
    "match = parse_number('T34567S')\n",
    "service_id = match.group(2)\n",
    "assert service_id == 'S', service_id\n",
    "### END HIDDEN TESTS"
   ]
  },
  {
   "cell_type": "code",
   "execution_count": 39,
   "metadata": {
    "nbgrader": {
     "grade": true,
     "grade_id": "cell-dbd462c50dfe520f",
     "locked": true,
     "points": 0.25,
     "schema_version": 3,
     "solution": false
    }
   },
   "outputs": [],
   "source": [
    "### BEGIN HIDDEN TESTS\n",
    "match = parse_number('T5J788U')\n",
    "taxi_id = match.group(1)\n",
    "assert taxi_id == '5J788', taxi_id\n",
    "### END HIDDEN TESTS"
   ]
  },
  {
   "cell_type": "code",
   "execution_count": 40,
   "metadata": {
    "nbgrader": {
     "grade": true,
     "grade_id": "cell-eecb08d0724dc269",
     "locked": true,
     "points": 0.25,
     "schema_version": 3,
     "solution": false
    }
   },
   "outputs": [],
   "source": [
    "### BEGIN HIDDEN TESTS\n",
    "match = parse_number('T5J788U')\n",
    "service_id = match.group(2)\n",
    "assert service_id == 'U', service_id\n",
    "### END HIDDEN TESTS"
   ]
  },
  {
   "cell_type": "code",
   "execution_count": 41,
   "metadata": {
    "nbgrader": {
     "grade": true,
     "grade_id": "cell-c140172064312769",
     "locked": true,
     "points": 0.25,
     "schema_version": 3,
     "solution": false
    }
   },
   "outputs": [],
   "source": [
    "### BEGIN HIDDEN TESTS\n",
    "match = parse_number('T987Q5L')\n",
    "taxi_id = match.group(1)\n",
    "assert taxi_id == '987Q5', taxi_id\n",
    "### END HIDDEN TESTS"
   ]
  },
  {
   "cell_type": "code",
   "execution_count": 42,
   "metadata": {
    "nbgrader": {
     "grade": true,
     "grade_id": "cell-c450c53749c64b66",
     "locked": true,
     "points": 0.25,
     "schema_version": 3,
     "solution": false
    }
   },
   "outputs": [],
   "source": [
    "### BEGIN HIDDEN TESTS\n",
    "match = parse_number('T987Q5L')\n",
    "service_id = match.group(2)\n",
    "assert service_id == 'L', service_id\n",
    "### END HIDDEN TESTS"
   ]
  },
  {
   "cell_type": "code",
   "execution_count": 43,
   "metadata": {
    "nbgrader": {
     "grade": true,
     "grade_id": "cell-1ee02bd87cab9ab1",
     "locked": true,
     "points": 0.25,
     "schema_version": 3,
     "solution": false
    }
   },
   "outputs": [],
   "source": [
    "### BEGIN HIDDEN TESTS\n",
    "match = parse_number('T27865D')\n",
    "taxi_id = match.group(1)\n",
    "assert taxi_id == '27865', taxi_id\n",
    "### END HIDDEN TESTS"
   ]
  },
  {
   "cell_type": "code",
   "execution_count": 44,
   "metadata": {
    "nbgrader": {
     "grade": true,
     "grade_id": "cell-cfddb78054ea2c23",
     "locked": true,
     "points": 0.25,
     "schema_version": 3,
     "solution": false
    }
   },
   "outputs": [],
   "source": [
    "### BEGIN HIDDEN TESTS\n",
    "match = parse_number('T27865D')\n",
    "service_id = match.group(2)\n",
    "assert service_id == 'D', service_id\n",
    "### END HIDDEN TESTS"
   ]
  },
  {
   "cell_type": "code",
   "execution_count": 45,
   "metadata": {
    "nbgrader": {
     "grade": true,
     "grade_id": "cell-6c42ff197feb3ab7",
     "locked": true,
     "points": 0.5,
     "schema_version": 3,
     "solution": false
    }
   },
   "outputs": [],
   "source": [
    "### BEGIN HIDDEN TESTS\n",
    "match = parse_number('36A78ED')\n",
    "assert match is None, match\n",
    "### END HIDDEN TESTS"
   ]
  },
  {
   "cell_type": "markdown",
   "metadata": {
    "nbgrader": {
     "grade": false,
     "grade_id": "cell-5f572a1bbea84ee5",
     "locked": true,
     "schema_version": 3,
     "solution": false
    }
   },
   "source": [
    "### Question\n",
    "\n",
    "You are given a nested data structure like the following:\n",
    "\n",
    "```python\n",
    "{\n",
    "    'a': {\n",
    "        'b': 'c', \n",
    "        'd': 'e',\n",
    "        'f': ['g', 'h', 'i'],\n",
    "    },\n",
    "    'j': ('k', 'l', 'm'),\n",
    "    'n': 'o',\n",
    "    'p': {'q', 'r', 's', 't'},\n",
    "    'u': {\n",
    "        'v': {\n",
    "            'w': 'x',\n",
    "            'y': 'z'\n",
    "        }\n",
    "    }\n",
    "}\n",
    "```\n",
    "\n",
    "Write a recursive function `count_values` to find the number of values (for all keys) in the structure. However, the number of values should be counted in a special way. \n",
    "\n",
    "- If the value is a string, count the number of characters in the string.\n",
    "- If the value is a list, tuple, or set, recurisvely count the number of items in the iterable. Be careful to not count the list, tuple, or set itself.\n",
    "- If the value is a dict, recursively count the number of values in the dict.\n",
    "\n",
    "In the example above, the result should be 15.\n",
    "\n",
    "You can not assume the outermost structure is a dictionary. Your function should take one positional argument.\n",
    "\n",
    "[3 points]"
   ]
  },
  {
   "cell_type": "code",
   "execution_count": 22,
   "metadata": {
    "nbgrader": {
     "grade": false,
     "grade_id": "cell-aad895d0de608294",
     "locked": false,
     "schema_version": 3,
     "solution": true
    }
   },
   "outputs": [],
   "source": [
    "def count_values(obj):\n",
    "    ### BEGIN SOLUTION\n",
    "    \n",
    "    count = 0\n",
    "\n",
    "    if isinstance(obj, (str,)):\n",
    "        count = len(obj)\n",
    "\n",
    "    elif isinstance(obj, (list, tuple, set)):\n",
    "        for item in obj:\n",
    "            count += count_values(item)\n",
    "\n",
    "    elif isinstance(obj, dict):\n",
    "        for value in obj.values():\n",
    "            count += count_values(value)\n",
    "            \n",
    "    return count  \n",
    "    ### END SOLUTION"
   ]
  },
  {
   "cell_type": "code",
   "execution_count": 36,
   "metadata": {
    "nbgrader": {
     "grade": true,
     "grade_id": "cell-e70e266411751d21",
     "locked": true,
     "points": 0,
     "schema_version": 3,
     "solution": false
    }
   },
   "outputs": [],
   "source": [
    "### BEGIN HIDDEN TESTS\n",
    "data1 = {\n",
    "    'a': {\n",
    "        'b': 'c', \n",
    "        'd': 'e',\n",
    "        'f': ['g', 'h', 'i'],\n",
    "    },\n",
    "    'j': ('k', 'l', 'm'),\n",
    "    'n': 'o',\n",
    "    'p': {'q', 'r', 's', 't'},\n",
    "    'u': {\n",
    "        'v': {\n",
    "            'w': 'x',\n",
    "            'y': 'z'\n",
    "        }\n",
    "    }\n",
    "}\n",
    "\n",
    "data2 = [\n",
    "    {\n",
    "        'a': 'b',\n",
    "        'c': 'd',\n",
    "        'e': ['fghi'],\n",
    "    },\n",
    "    {\n",
    "        'j': {'klmn'},\n",
    "    }\n",
    "]\n",
    "### END HIDDEN TESTS"
   ]
  },
  {
   "cell_type": "code",
   "execution_count": 30,
   "metadata": {
    "nbgrader": {
     "grade": true,
     "grade_id": "cell-2971409d0079d911",
     "locked": true,
     "points": 0.5,
     "schema_version": 3,
     "solution": false
    }
   },
   "outputs": [],
   "source": [
    "### BEGIN HIDDEN TESTS\n",
    "assert count_values(data1) == 15\n",
    "### END HIDDEN TESTS"
   ]
  },
  {
   "cell_type": "code",
   "execution_count": 31,
   "metadata": {
    "nbgrader": {
     "grade": true,
     "grade_id": "cell-613065f3f3208265",
     "locked": true,
     "points": 0.5,
     "schema_version": 3,
     "solution": false
    }
   },
   "outputs": [],
   "source": [
    "### BEGIN HIDDEN TESTS\n",
    "assert count_values(data1['a']) == 5\n",
    "### END HIDDEN TESTS"
   ]
  },
  {
   "cell_type": "code",
   "execution_count": 32,
   "metadata": {
    "nbgrader": {
     "grade": true,
     "grade_id": "cell-2e13b31e581d0239",
     "locked": true,
     "points": 0.5,
     "schema_version": 3,
     "solution": false
    }
   },
   "outputs": [],
   "source": [
    "### BEGIN HIDDEN TESTS\n",
    "assert count_values(data1['u']) == 2\n",
    "### END HIDDEN TESTS"
   ]
  },
  {
   "cell_type": "code",
   "execution_count": 33,
   "metadata": {
    "nbgrader": {
     "grade": true,
     "grade_id": "cell-c9dbce69a782e947",
     "locked": true,
     "points": 0.5,
     "schema_version": 3,
     "solution": false
    }
   },
   "outputs": [],
   "source": [
    "### BEGIN HIDDEN TESTS\n",
    "assert count_values(data1['a']['b']) == 1\n",
    "### END HIDDEN TESTS"
   ]
  },
  {
   "cell_type": "code",
   "execution_count": 38,
   "metadata": {
    "nbgrader": {
     "grade": true,
     "grade_id": "cell-21b3bc731bd4c6b2",
     "locked": true,
     "points": 0.5,
     "schema_version": 3,
     "solution": false
    }
   },
   "outputs": [],
   "source": [
    "### BEGIN HIDDEN TESTS\n",
    "assert count_values(data2) == 10\n",
    "### END HIDDEN TESTS"
   ]
  },
  {
   "cell_type": "code",
   "execution_count": 41,
   "metadata": {
    "nbgrader": {
     "grade": true,
     "grade_id": "cell-ca9aef7501c02778",
     "locked": true,
     "points": 0.5,
     "schema_version": 3,
     "solution": false
    }
   },
   "outputs": [],
   "source": [
    "### BEGIN HIDDEN TESTS\n",
    "assert count_values({}) == 0\n",
    "### END HIDDEN TESTS"
   ]
  }
 ],
 "metadata": {
  "anaconda-cloud": {},
  "celltoolbar": "Create Assignment",
  "kernelspec": {
   "display_name": "Python 3",
   "language": "python",
   "name": "python3"
  },
  "language_info": {
   "codemirror_mode": {
    "name": "ipython",
    "version": 3
   },
   "file_extension": ".py",
   "mimetype": "text/x-python",
   "name": "python",
   "nbconvert_exporter": "python",
   "pygments_lexer": "ipython3",
   "version": "3.7.6"
  }
 },
 "nbformat": 4,
 "nbformat_minor": 2
}
