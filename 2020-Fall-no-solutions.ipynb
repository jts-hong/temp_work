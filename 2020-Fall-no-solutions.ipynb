{
 "cells": [
  {
   "cell_type": "markdown",
   "metadata": {},
   "source": [
    "<subject>\n",
    "Assignment How-To\n",
    "</subject>\n",
    "\n",
    "<details>\n",
    "    \n",
    "**Do Not Talk During Quizzes or Exams**\n",
    "\n",
    "Do not talk at all once an exam has begun. You may talk again once you leave the room after the quiz or exam. The one exception to this rule is if you need to ask the exam proctor a question. Any talking during a quiz or exam qualifies the student for disciplinary action.\n",
    "\n",
    "**Naming Conventions**\n",
    "\n",
    "When naming your files for upload, you must follow the format below:\n",
    "\n",
    "    <uni>_<assignment>_<details [optional]>.<extension>\n",
    "\n",
    "For example, if I needed to hand in HW 0, any of the below formats would be sufficient for a file name:\n",
    "\n",
    "- pl2648_hw0.ipynb\n",
    "- pl2648_hw0.txt\n",
    "- pl2648_hw0.sh\n",
    "- pl2648_hw0_all_in_one.txt\n",
    "- Pl2648_hw0_bash_program.sh\n",
    "- Pl2648_quiz1.ipynb\n",
    "\n",
    "This naming format allows for autograding of all assignments. If your files are not named with this format, you should expect a grade of zero for the assignment.\n",
    "\n",
    "Courseworks may rename your file to something like `pl2648_hw0-1.ipynb` if you resubmit your assignment. This is perfectly fine.\n",
    "\n",
    "**What Format To Submit In**\n",
    "\n",
    "Most homework and quizzes are in Jupyter notebooks. Unless specified otherwise, please download your work as an `.ipynb` file from your local machine and upload it to courseworks.\n",
    "\n",
    "\n",
    "**Grading**\n",
    "\n",
    "Possible points on late assignments are deducted by 50% for each day they are late. For example, if you get 80% of the total possible credits on a homework but hand in that homework a day late, you would get 40%. Assignments two days late get zero points.\n",
    "\n",
    "Once solutions are posted and graded assignments are handed back, students have 1 week to bring their grading discrepancies to a CA for consideration of possible grading errors. \n",
    "\n",
    "Because grading is automated, please delete (or comment out) the `raise NotImplmeneted` code before attempting a problem. \n",
    "\n",
    "Empty un-editable cells in an assignment are there for a purpose. They will be filled with tests by the automatic grader. Please do not attempt to remove them.\n",
    "\n",
    "**Getting Help**\n",
    "\n",
    "Asking for help is a great way to increase your chance of success. However there are some rules. When asking for help (especially from a fellow student), *you can show your helper your code but you can not view theirs*. You work needs to be your own. You can not post screenshots of your current work to Piazza or other tools used for getting help.\n",
    "\n",
    "If you need to reach out to a CA for help, please do so via Piazza and not via email. Answers given via Piazza will help you as well as other students. Thus, emails will always have a lower priority for response than Piazza questions. If you do email the CA, please make a note of what section you are in. This helps us identify you in courseworks faster. \n",
    "\n",
    "Finally, if you do not get a repsonse from a CA within 48 hours, you may email the professor.\n",
    "\n",
    "**Multiple Choice**\n",
    "\n",
    "If the question is multiple choice, you will be given several options to choose from and your function will need to return **one** of those options **verbatim** as a string.\n",
    "\n",
    "For example: \n",
    "\n",
    "Which of the following animals bark?\n",
    "\n",
    "- dogs\n",
    "- cats\n",
    "- fish\n",
    "- trees\n",
    "\n",
    "A correct answer would be structured in the following way:\n",
    "\n",
    "```python\n",
    "def question_animals():\n",
    "    return 'dogs'\n",
    "```\n",
    "\n",
    "You answer will be stripped of left and right white space and lowercased before comparison to the correct answer during grading.\n",
    "</details>"
   ]
  },
  {
   "cell_type": "markdown",
   "metadata": {
    "deletable": false,
    "editable": false,
    "nbgrader": {
     "cell_type": "markdown",
     "checksum": "b7ff83c1684f17bbdebb1df9807554bb",
     "grade": false,
     "grade_id": "cell-ef5b66d42bd77e43",
     "locked": true,
     "schema_version": 3,
     "solution": false
    }
   },
   "source": [
    "READ ME:\n",
    "\n",
    "Permissions for this test: \n",
    "\n",
    "- No talking.\n",
    "- This is a closed note, closed book, closed internet exam.\n",
    "- You may have one jupyter notebook (this notebook) open for the duration of the exam.\n",
    "- You may have one tab open solely for the act of submitting your exam.\n",
    "\n",
    "To  begin the exam:\n",
    "\n",
    "- **Rename the notebook to be of the form `<uni>_exam`. For example, mine would be `pl2648_exam`.**\n",
    "\n",
    "When you are done with your exam:\n",
    "\n",
    "1. Save this exam.\n",
    "1. Download this exam as an **`.ipynb`** file.\n",
    "1. Upload/email/etc the **`.ipynb`** file to the submission platform designated by the exam proctor.\n",
    "\n",
    "----\n",
    "\n",
    "Please note, there are several cells in this Jupyter notebook that are empty and read only. Do not attempt to remove them or edit them. They are used in grading your notebook.\n",
    "\n",
    "- DO remove the \"Not Implemented\" lines if you at all attempt the problem\n",
    "- DO test all cells to make sure they run in 30 seconds or less."
   ]
  },
  {
   "cell_type": "markdown",
   "metadata": {
    "deletable": false,
    "editable": false,
    "nbgrader": {
     "cell_type": "markdown",
     "checksum": "36e55a2e9dfc47339a5e4d9af0988987",
     "grade": false,
     "grade_id": "cell-a929749cba1a4f6f",
     "locked": true,
     "schema_version": 3,
     "solution": false
    }
   },
   "source": [
    "### Question\n",
    "\n",
    "Create a `Building` class to represent a building.\n",
    "\n",
    "The building should be instantiated with a given number of `windows`, `doors`, and `rooms` (given in that order) as positional arguments. A keyword argument named `fire_escapes` should also be accepted during instantiation and should be set to `None` by default. These given values should be stored on the object, under the same names, for retrieval after the object's construction.\n",
    "\n",
    "For example:\n",
    "\n",
    "```python\n",
    ">>> b = Building(1, 2, 1)\n",
    ">>> b.windows\n",
    "1\n",
    "```\n",
    "\n",
    "The ratio of `windows` to `rooms` should be greater than 1.0. If that is not the case, a `ValueError` should be raised during instantiation. The error message should be `'Too few windows for given number of rooms.'`.\n",
    "\n",
    "The ratio of `fire_escapes` to `rooms` should be greater than 0.5. If a value for `fire_escapes` is given, it should be validated according to this constraint. If no value for `fire_escapes` is given, one should be derived from the number of `rooms` given. The ratio of `fire_escapes` to `rooms` should be 0.5 in this case. Store this default ratio of 0.5 on the class as a class level attribute named `DEFAULT_FIRE_ESCAPE_RATIO` and use this attribute in any operations regarding `fire_escapes`. A `ValueError` should be raised during instantiation if the ratio is too low. The error message should be `'Too few fire escapes for given number of rooms.'`. \n",
    "\n",
    "All numbers (for `windows`, `doors`, `rooms`, and  `fire_escapes`) should be positive integers and should be validated as such. A `ValueError` should be raised if a non-conforming value is present at the end of instantiation. The message of the error should be of the form `'<attribute name> is <value> which is not an integer.'`"
   ]
  },
  {
   "cell_type": "code",
   "execution_count": 1,
   "metadata": {
    "deletable": false,
    "nbgrader": {
     "cell_type": "code",
     "checksum": "cb3e0b2db78dc74760a964568d1966d0",
     "grade": false,
     "grade_id": "oop-answer",
     "locked": false,
     "schema_version": 3,
     "solution": true
    }
   },
   "outputs": [],
   "source": [
    "import math\n",
    "\n",
    "\n",
    "class Building:\n",
    "    DEFAULT_FIRE_ESCAPE_RATIO = 0.5\n",
    "    def __init__(self, windows, doors, rooms,fire_escape=None):\n",
    "        if windows < 0 or windows != int(windows):\n",
    "            raise ValueError(f\"windows is {windows} which is not an integer.\")\n",
    "        if doors < 0 or doors != int(doors):\n",
    "            raise ValueError(f\"doors is {doors} which is not an integer.\")\n",
    "        if rooms < 0 or rooms != int(rooms):\n",
    "            raise ValueError(f\"rooms is {rooms} which is not an integer.\")\n",
    "        self.windows = windows\n",
    "        self.doors = doors\n",
    "        self.rooms = rooms\n",
    "        self.fire_escape = fire_escape\n",
    "        if windows/rooms < 1:\n",
    "            raise ValueError(\"Too few windows for given number of rooms.\")\n",
    "        if self.fire_escape:\n",
    "            if self.fire_escape/rooms<0.5:\n",
    "                raise ValueError(\"Too few fire escapes for given number of rooms.\")\n",
    "        else:\n",
    "            self.fire_escape = math.ceil(rooms*Building.DEFAULT_FIRE_ESCAPE_RATIO)\n",
    "\n",
    "        \n",
    "    #raise NotImplementedError()"
   ]
  },
  {
   "cell_type": "code",
   "execution_count": 10,
   "metadata": {
    "deletable": false,
    "editable": false,
    "nbgrader": {
     "cell_type": "code",
     "checksum": "24c311fe8b338f879c75d2283469bd62",
     "grade": true,
     "grade_id": "oop-tests-init",
     "locked": true,
     "points": 1,
     "schema_version": 3,
     "solution": false
    }
   },
   "outputs": [
    {
     "ename": "ValueError",
     "evalue": "Too few fire escapes for given number of rooms.",
     "output_type": "error",
     "traceback": [
      "\u001b[0;31m---------------------------------------------------------------------------\u001b[0m",
      "\u001b[0;31mValueError\u001b[0m                                Traceback (most recent call last)",
      "\u001b[0;32m/var/folders/3y/48g8t7714vgck5trxt5sydnh0000gn/T/ipykernel_33853/714453570.py\u001b[0m in \u001b[0;36m<module>\u001b[0;34m\u001b[0m\n\u001b[0;32m----> 1\u001b[0;31m \u001b[0mb\u001b[0m \u001b[0;34m=\u001b[0m \u001b[0mBuilding\u001b[0m\u001b[0;34m(\u001b[0m\u001b[0;36m10\u001b[0m\u001b[0;34m,\u001b[0m\u001b[0;36m3\u001b[0m\u001b[0;34m,\u001b[0m\u001b[0;36m6\u001b[0m\u001b[0;34m,\u001b[0m\u001b[0;36m1\u001b[0m\u001b[0;34m)\u001b[0m\u001b[0;34m\u001b[0m\u001b[0;34m\u001b[0m\u001b[0m\n\u001b[0m\u001b[1;32m      2\u001b[0m \u001b[0mb\u001b[0m\u001b[0;34m.\u001b[0m\u001b[0mwindows\u001b[0m\u001b[0;34m\u001b[0m\u001b[0;34m\u001b[0m\u001b[0m\n",
      "\u001b[0;32m/var/folders/3y/48g8t7714vgck5trxt5sydnh0000gn/T/ipykernel_33853/1366519183.py\u001b[0m in \u001b[0;36m__init__\u001b[0;34m(self, windows, doors, rooms, fire_escape)\u001b[0m\n\u001b[1;32m     19\u001b[0m         \u001b[0;32mif\u001b[0m \u001b[0mself\u001b[0m\u001b[0;34m.\u001b[0m\u001b[0mfire_escape\u001b[0m\u001b[0;34m:\u001b[0m\u001b[0;34m\u001b[0m\u001b[0;34m\u001b[0m\u001b[0m\n\u001b[1;32m     20\u001b[0m             \u001b[0;32mif\u001b[0m \u001b[0mself\u001b[0m\u001b[0;34m.\u001b[0m\u001b[0mfire_escape\u001b[0m\u001b[0;34m/\u001b[0m\u001b[0mrooms\u001b[0m\u001b[0;34m<\u001b[0m\u001b[0;36m0.5\u001b[0m\u001b[0;34m:\u001b[0m\u001b[0;34m\u001b[0m\u001b[0;34m\u001b[0m\u001b[0m\n\u001b[0;32m---> 21\u001b[0;31m                 \u001b[0;32mraise\u001b[0m \u001b[0mValueError\u001b[0m\u001b[0;34m(\u001b[0m\u001b[0;34m\"Too few fire escapes for given number of rooms.\"\u001b[0m\u001b[0;34m)\u001b[0m\u001b[0;34m\u001b[0m\u001b[0;34m\u001b[0m\u001b[0m\n\u001b[0m\u001b[1;32m     22\u001b[0m         \u001b[0;32melse\u001b[0m\u001b[0;34m:\u001b[0m\u001b[0;34m\u001b[0m\u001b[0;34m\u001b[0m\u001b[0m\n\u001b[1;32m     23\u001b[0m             \u001b[0mself\u001b[0m\u001b[0;34m.\u001b[0m\u001b[0mfire_escape\u001b[0m \u001b[0;34m=\u001b[0m \u001b[0mmath\u001b[0m\u001b[0;34m.\u001b[0m\u001b[0mceil\u001b[0m\u001b[0;34m(\u001b[0m\u001b[0mrooms\u001b[0m\u001b[0;34m*\u001b[0m\u001b[0mBuilding\u001b[0m\u001b[0;34m.\u001b[0m\u001b[0mDEFAULT_FIRE_ESCAPE_RATIO\u001b[0m\u001b[0;34m)\u001b[0m\u001b[0;34m\u001b[0m\u001b[0;34m\u001b[0m\u001b[0m\n",
      "\u001b[0;31mValueError\u001b[0m: Too few fire escapes for given number of rooms."
     ]
    }
   ],
   "source": [
    "b = Building(10,3,6,1)\n",
    "b.windows"
   ]
  },
  {
   "cell_type": "code",
   "execution_count": null,
   "metadata": {
    "deletable": false,
    "editable": false,
    "nbgrader": {
     "cell_type": "code",
     "checksum": "4b8b666ab108755a6b369739426ba8c0",
     "grade": true,
     "grade_id": "cell-1976862faf08794e",
     "locked": true,
     "points": 1,
     "schema_version": 3,
     "solution": false
    }
   },
   "outputs": [],
   "source": []
  },
  {
   "cell_type": "code",
   "execution_count": null,
   "metadata": {},
   "outputs": [],
   "source": []
  },
  {
   "cell_type": "code",
   "execution_count": null,
   "metadata": {
    "deletable": false,
    "editable": false,
    "nbgrader": {
     "cell_type": "code",
     "checksum": "3407df2386e9a1b014d8deb970369538",
     "grade": true,
     "grade_id": "cell-7f28edc1af5caee6",
     "locked": true,
     "points": 1,
     "schema_version": 3,
     "solution": false
    }
   },
   "outputs": [],
   "source": []
  },
  {
   "cell_type": "code",
   "execution_count": null,
   "metadata": {
    "deletable": false,
    "editable": false,
    "nbgrader": {
     "cell_type": "code",
     "checksum": "2b1ba695de87be21f314c2b04aa3b02c",
     "grade": true,
     "grade_id": "cell-44af3cce900e0c8e",
     "locked": true,
     "points": 1,
     "schema_version": 3,
     "solution": false
    }
   },
   "outputs": [],
   "source": []
  },
  {
   "cell_type": "code",
   "execution_count": null,
   "metadata": {
    "deletable": false,
    "editable": false,
    "nbgrader": {
     "cell_type": "code",
     "checksum": "c5f0dfff3548ae5cc727eb2a4eab4dc5",
     "grade": true,
     "grade_id": "cell-bdd10244d13070f4",
     "locked": true,
     "points": 1,
     "schema_version": 3,
     "solution": false
    }
   },
   "outputs": [],
   "source": []
  },
  {
   "cell_type": "code",
   "execution_count": null,
   "metadata": {
    "deletable": false,
    "editable": false,
    "nbgrader": {
     "cell_type": "code",
     "checksum": "86b43a9ea6b094c61c347e2f6e7a93c0",
     "grade": true,
     "grade_id": "cell-5d16fcd763436720",
     "locked": true,
     "points": 1,
     "schema_version": 3,
     "solution": false
    }
   },
   "outputs": [],
   "source": []
  },
  {
   "cell_type": "markdown",
   "metadata": {
    "deletable": false,
    "editable": false,
    "nbgrader": {
     "cell_type": "markdown",
     "checksum": "7bc6235f8ed48288f89a97aa8853050a",
     "grade": false,
     "grade_id": "cell-3ffeb41e39b00f95",
     "locked": true,
     "schema_version": 3,
     "solution": false
    }
   },
   "source": [
    "### Question\n",
    "\n",
    "\n",
    "Write a function called `common_letters` to find the common ASCII **letters** shared by two strings. Ignore case and your result should only contain lower case letters. You may only use one builtin function to perform this task but you may use it multiple times. You may use as many string methods as you like. You may perform as many operations between data structures as you like. You may perform an import outside of the function if necessary. The function should return an ordered list of letters. The body of the function can only be one line long.\n",
    "\n",
    "For example:\n",
    "\n",
    "```python\n",
    ">>> common_letters('hi', 'hello')\n",
    "['h']\n",
    "```"
   ]
  },
  {
   "cell_type": "code",
   "execution_count": 14,
   "metadata": {
    "deletable": false,
    "nbgrader": {
     "cell_type": "code",
     "checksum": "a3f00865fdb74976f5ba6c6e9f41334c",
     "grade": false,
     "grade_id": "letters",
     "locked": false,
     "schema_version": 3,
     "solution": true
    }
   },
   "outputs": [],
   "source": [
    "def common_letters(x,y):\n",
    "    return [i for i in x if i in y]"
   ]
  },
  {
   "cell_type": "code",
   "execution_count": 15,
   "metadata": {
    "deletable": false,
    "editable": false,
    "nbgrader": {
     "cell_type": "code",
     "checksum": "c1ea684d6a33d937b87f614230ec94eb",
     "grade": true,
     "grade_id": "cell-400e1f7d65286378",
     "locked": true,
     "points": 1,
     "schema_version": 3,
     "solution": false
    }
   },
   "outputs": [
    {
     "data": {
      "text/plain": [
       "['h', 'i']"
      ]
     },
     "execution_count": 15,
     "metadata": {},
     "output_type": "execute_result"
    }
   ],
   "source": [
    "common_letters(\"hi\",\"hiello\")"
   ]
  },
  {
   "cell_type": "code",
   "execution_count": null,
   "metadata": {
    "deletable": false,
    "editable": false,
    "nbgrader": {
     "cell_type": "code",
     "checksum": "6516ea7d81cc200c7aa21ebd10119b70",
     "grade": true,
     "grade_id": "cell-931e198999083a99",
     "locked": true,
     "points": 1,
     "schema_version": 3,
     "solution": false
    }
   },
   "outputs": [],
   "source": []
  },
  {
   "cell_type": "markdown",
   "metadata": {
    "deletable": false,
    "editable": false,
    "nbgrader": {
     "cell_type": "markdown",
     "checksum": "8e12577dac52f4566127d9efaca66573",
     "grade": false,
     "grade_id": "cell-1e87c9292c576567",
     "locked": true,
     "schema_version": 3,
     "solution": false
    }
   },
   "source": [
    "### Question\n",
    "\n",
    "Create a generator function named `rev_fib` that, when called and cast to a list, returns the first N values in a reverse Fibonacci sequence.\n",
    "\n",
    "For example: \n",
    "\n",
    "```python\n",
    ">>> list(rev_fib(6))\n",
    "... [0, -1, -1, -2, -3, -5]\n",
    "```"
   ]
  },
  {
   "cell_type": "code",
   "execution_count": 19,
   "metadata": {
    "deletable": false,
    "nbgrader": {
     "cell_type": "code",
     "checksum": "fdfe28f0ebbc45fcb916ecedc38026bf",
     "grade": false,
     "grade_id": "generator",
     "locked": false,
     "schema_version": 3,
     "solution": true
    }
   },
   "outputs": [],
   "source": [
    "def rev_fib(n):\n",
    "    fib_sequence = [0, -1]\n",
    "    while len(fib_sequence) < n:\n",
    "        fib_sequence.append(fib_sequence[-2] - fib_sequence[-1])\n",
    "    for num in fib_sequence:\n",
    "        yield num"
   ]
  },
  {
   "cell_type": "code",
   "execution_count": 20,
   "metadata": {
    "deletable": false,
    "editable": false,
    "nbgrader": {
     "cell_type": "code",
     "checksum": "b901db374496b0e9f524c3c551b537a0",
     "grade": true,
     "grade_id": "gen-tests",
     "locked": true,
     "points": 1,
     "schema_version": 3,
     "solution": false
    }
   },
   "outputs": [
    {
     "data": {
      "text/plain": [
       "[0, -1, 1, -2, 3, -5]"
      ]
     },
     "execution_count": 20,
     "metadata": {},
     "output_type": "execute_result"
    }
   ],
   "source": [
    "list(rev_fib(6))"
   ]
  },
  {
   "cell_type": "code",
   "execution_count": null,
   "metadata": {
    "deletable": false,
    "editable": false,
    "nbgrader": {
     "cell_type": "code",
     "checksum": "fc0c7d7cbb720453bc7a7f06b473eec7",
     "grade": true,
     "grade_id": "cell-6c182c209d2f71ab",
     "locked": true,
     "points": 1,
     "schema_version": 3,
     "solution": false
    }
   },
   "outputs": [],
   "source": []
  },
  {
   "cell_type": "markdown",
   "metadata": {
    "deletable": false,
    "editable": false,
    "nbgrader": {
     "cell_type": "markdown",
     "checksum": "e9b2db2dec542937a3d0f16bb88a2bc8",
     "grade": false,
     "grade_id": "cell-9a7e22503982d594",
     "locked": true,
     "schema_version": 3,
     "solution": false
    }
   },
   "source": [
    "### Question \n",
    "\n",
    "Write a function called `calibrate`. The calibration function should take an `OrderedDict`, a `predicate`, and an `update_func`. The `OrderedDict` passed to the function will have string keys and integer values. The function should update all values in the `OrderedDict` where the key for the value meets a predicate's constraints. Ie. `predicate(key) -> bool`. The update function should take a value (associated with a key that passed the predicate's constraints) and pass it through the `update_func` to arrive at the new value for the key. If the mapping passed to the `calibrate` function is not an `OrderedDict` a `TypeError` should be raised.\n",
    "\n",
    "For example:\n",
    "\n",
    "```python\n",
    ">>> odict = collections.OrderedDict((\n",
    "    ('a', 1),\n",
    "    ('b', 2),\n",
    "    ('c', 3),\n",
    "))\n",
    ">>> calibrate(odict, lambda x: x == 'b', lambda x: x **2)\n",
    ">>> print(odict)\n",
    "OrderedDict([('a', 1), ('b', 4), ('c', 3)])\n",
    "```"
   ]
  },
  {
   "cell_type": "code",
   "execution_count": null,
   "metadata": {
    "deletable": false,
    "nbgrader": {
     "cell_type": "code",
     "checksum": "5a342d5e38062197748a40f5018adae0",
     "grade": false,
     "grade_id": "cell-9a0363302483e2d1",
     "locked": false,
     "schema_version": 3,
     "solution": true
    }
   },
   "outputs": [],
   "source": [
    "def calibrate(odict, predicate, update_func):\n",
    "    # YOUR CODE HERE\n",
    "    raise NotImplementedError()"
   ]
  },
  {
   "cell_type": "code",
   "execution_count": null,
   "metadata": {
    "deletable": false,
    "editable": false,
    "nbgrader": {
     "cell_type": "code",
     "checksum": "a9c54d9e79986047f5a51dac39356ecf",
     "grade": true,
     "grade_id": "cell-314d4f72425dc777",
     "locked": true,
     "points": 2,
     "schema_version": 3,
     "solution": false
    }
   },
   "outputs": [],
   "source": []
  },
  {
   "cell_type": "markdown",
   "metadata": {
    "deletable": false,
    "editable": false,
    "nbgrader": {
     "cell_type": "markdown",
     "checksum": "a97b3e87e7e03ca7143ca4e8456e46f3",
     "grade": false,
     "grade_id": "cell-428ebf257411f52a",
     "locked": true,
     "schema_version": 3,
     "solution": false
    }
   },
   "source": [
    "### Question\n",
    "\n",
    "You've recieved a serialized JSON object from an API and have deserialized it using the standard library's `json` library. The object represents your geneology from a given ancestor downward. Assuming your name is Sally and your given ancestor is Janet, your geneology object would be as follows:\n",
    "\n",
    "    geneology_object = {\n",
    "        'husband': 'Craig', \n",
    "        'wife': 'Janet',\n",
    "        'children': {\n",
    "            'Chris': {\n",
    "                'husband': 'Chris', \n",
    "                'wife': 'Jesse',\n",
    "                'children': {\n",
    "                    'Rebecca': {\n",
    "                        'husband': 'Doug', \n",
    "                        'wife': 'Rebecca',\n",
    "                    }\n",
    "                }\n",
    "            },\n",
    "            'Wonda': {\n",
    "                'husband': 'Kevin', \n",
    "                'wife': 'Wonda',\n",
    "                'children': {\n",
    "                    'Sally': {}\n",
    "                }\n",
    "            }\n",
    "        }\n",
    "    }\n",
    "\n",
    "\n",
    "Write a function with the signature `get_generations_down(geneology_object, search_name, generations=0)` to recursively search for the number of generations between `search_name` and the eldest ancestor. If the name is not found, a `NameNotFoundError` should be raised by the recursive function.\n",
    "\n",
    "Assuming the geneology object above, your function should behave as so:\n",
    "\n",
    "    >>> get_generations_down(geneology_object, 'Chris')\n",
    "    1\n",
    "    >>> get_generations_down(geneology_object, 'Sally')\n",
    "    2"
   ]
  },
  {
   "cell_type": "code",
   "execution_count": null,
   "metadata": {
    "deletable": false,
    "nbgrader": {
     "cell_type": "code",
     "checksum": "0357fb58ce8a6d3399130a6436992927",
     "grade": false,
     "grade_id": "recursion",
     "locked": false,
     "schema_version": 3,
     "solution": true
    }
   },
   "outputs": [],
   "source": [
    "class NameNotFoundError(Exception):\n",
    "    pass\n",
    "\n",
    "\n",
    "def get_generations_down(geneology_object, search_name, generations=0):    \n",
    "    # YOUR CODE HERE\n",
    "    raise NotImplementedError()"
   ]
  },
  {
   "cell_type": "code",
   "execution_count": null,
   "metadata": {
    "deletable": false,
    "editable": false,
    "nbgrader": {
     "cell_type": "code",
     "checksum": "869e6381063fd514c361068d4848b045",
     "grade": true,
     "grade_id": "recursion-test-data",
     "locked": true,
     "points": 0,
     "schema_version": 3,
     "solution": false
    }
   },
   "outputs": [],
   "source": []
  },
  {
   "cell_type": "code",
   "execution_count": null,
   "metadata": {
    "deletable": false,
    "editable": false,
    "nbgrader": {
     "cell_type": "code",
     "checksum": "84fb8d42737716c20fe421eacb79230d",
     "grade": true,
     "grade_id": "cell-f56f214faab7f341",
     "locked": true,
     "points": 2,
     "schema_version": 3,
     "solution": false
    }
   },
   "outputs": [],
   "source": []
  },
  {
   "cell_type": "code",
   "execution_count": null,
   "metadata": {
    "deletable": false,
    "editable": false,
    "nbgrader": {
     "cell_type": "code",
     "checksum": "78555b4938a1325f52f075d45fa90bd5",
     "grade": true,
     "grade_id": "cell-304f0d609b227e21",
     "locked": true,
     "points": 1,
     "schema_version": 3,
     "solution": false
    }
   },
   "outputs": [],
   "source": []
  },
  {
   "cell_type": "markdown",
   "metadata": {
    "collapsed": true,
    "deletable": false,
    "editable": false,
    "nbgrader": {
     "cell_type": "markdown",
     "checksum": "649c96531cb565a610505a44e65c1792",
     "grade": false,
     "grade_id": "cell-13fa838cb24b1967",
     "locked": true,
     "schema_version": 3,
     "solution": false
    }
   },
   "source": [
    "### Question\n",
    "\n",
    "\n",
    "You work for the Department Of Housing in NYC. A new file has just been delivered to your desk via email. The file has row after row of cryptic housing information including an ID column. The ID column contains unique strings that are of the format `d[District ID (int)]b[Block ID (int)]l[Lot ID (int)]`. \n",
    "\n",
    "```\n",
    "Example identifiers:\n",
    "d17b4873l8390\n",
    "d45b934l341\n",
    "```\n",
    "\n",
    "You need to parse these IDs for the ID parts and you decide that use of Python's regex library is your best tool. Complete the function below so that these IDs can be parsed by Python. Parse each sub ID (district, block, lot) into its own named group in the regex match object.\n",
    "\n",
    "For example:\n",
    "\n",
    "```\n",
    "match = parse_id('d17b4873l8390')\n",
    "match.group('district') ==> 17\n",
    "match.group('block') ==> 4873\n",
    "match.group('lot') ==> 8390\n",
    "```"
   ]
  },
  {
   "cell_type": "code",
   "execution_count": null,
   "metadata": {
    "deletable": false,
    "nbgrader": {
     "cell_type": "code",
     "checksum": "bb72c541638fbc366b4896cfb5d104b3",
     "grade": false,
     "grade_id": "re",
     "locked": false,
     "schema_version": 3,
     "solution": true
    }
   },
   "outputs": [],
   "source": [
    "import re\n",
    "\n",
    "def parse_id(identifier):\n",
    "    # YOUR CODE HERE\n",
    "    raise NotImplementedError()\n",
    "    return re.match(pattern_string, identifier)"
   ]
  },
  {
   "cell_type": "code",
   "execution_count": null,
   "metadata": {
    "deletable": false,
    "editable": false,
    "nbgrader": {
     "cell_type": "code",
     "checksum": "cf3c862c1821ee54a37394b7214a1f33",
     "grade": true,
     "grade_id": "cell-2cf89dead6cbc6dd",
     "locked": true,
     "points": 1,
     "schema_version": 3,
     "solution": false
    }
   },
   "outputs": [],
   "source": []
  },
  {
   "cell_type": "code",
   "execution_count": null,
   "metadata": {
    "deletable": false,
    "editable": false,
    "nbgrader": {
     "cell_type": "code",
     "checksum": "ecd199318a8c674e76ab20937f479239",
     "grade": true,
     "grade_id": "cell-3a1cb82b63055930",
     "locked": true,
     "points": 1,
     "schema_version": 3,
     "solution": false
    }
   },
   "outputs": [],
   "source": []
  }
 ],
 "metadata": {
  "anaconda-cloud": {},
  "kernelspec": {
   "display_name": "Python 3",
   "language": "python",
   "name": "python3"
  },
  "language_info": {
   "codemirror_mode": {
    "name": "ipython",
    "version": 3
   },
   "file_extension": ".py",
   "mimetype": "text/x-python",
   "name": "python",
   "nbconvert_exporter": "python",
   "pygments_lexer": "ipython3",
   "version": "3.9.7"
  }
 },
 "nbformat": 4,
 "nbformat_minor": 1
}
