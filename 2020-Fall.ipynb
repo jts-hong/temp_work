{
 "cells": [
  {
   "cell_type": "markdown",
   "metadata": {
    "nbgrader": {
     "grade": false,
     "grade_id": "cell-ef5b66d42bd77e43",
     "locked": true,
     "schema_version": 3,
     "solution": false
    }
   },
   "source": [
    "READ ME:\n",
    "\n",
    "Permissions for this test: \n",
    "\n",
    "- No talking.\n",
    "- This is a closed note, closed book, closed internet exam.\n",
    "- You may have one jupyter notebook (this notebook) open for the duration of the exam.\n",
    "- You may have one tab open solely for the act of submitting your exam.\n",
    "\n",
    "To  begin the exam:\n",
    "\n",
    "- **Rename the notebook to be of the form `<uni>_exam`. For example, mine would be `pl2648_exam`.**\n",
    "\n",
    "When you are done with your exam:\n",
    "\n",
    "1. Save this exam.\n",
    "1. Download this exam as an **`.ipynb`** file.\n",
    "1. Upload/email/etc the **`.ipynb`** file to the submission platform designated by the exam proctor.\n",
    "\n",
    "----\n",
    "\n",
    "Please note, there are several cells in this Jupyter notebook that are empty and read only. Do not attempt to remove them or edit them. They are used in grading your notebook.\n",
    "\n",
    "- DO remove the \"Not Implemented\" lines if you at all attempt the problem\n",
    "- DO test all cells to make sure they run in 30 seconds or less."
   ]
  },
  {
   "cell_type": "markdown",
   "metadata": {
    "nbgrader": {
     "grade": false,
     "grade_id": "cell-a929749cba1a4f6f",
     "locked": true,
     "schema_version": 3,
     "solution": false
    }
   },
   "source": [
    "### Question\n",
    "\n",
    "Create a `Building` class to represent a building.\n",
    "\n",
    "The building should be instantiated with a given number of `windows`, `doors`, and `rooms` (given in that order) as positional arguments. A keyword argument named `fire_escapes` should also be accepted during instantiation and should be set to `None` by default. These given values should be stored on the object, under the same names, for retrieval after the object's construction.\n",
    "\n",
    "For example:\n",
    "\n",
    "```python\n",
    ">>> b = Building(1, 2, 1)\n",
    ">>> b.windows\n",
    "1\n",
    "```\n",
    "\n",
    "The ratio of `windows` to `rooms` should be greater than 1.0. If that is not the case, a `ValueError` should be raised during instantiation. The error message should be `'Too few windows for given number of rooms.'`.\n",
    "\n",
    "The ratio of `fire_escapes` to `rooms` should be greater than 0.5. If a value for `fire_escapes` is given, it should be validated according to this constraint. If no value for `fire_escapes` is given, one should be derived from the number of `rooms` given. The ratio of `fire_escapes` to `rooms` should be 0.5 in this case. Store this default ratio of 0.5 on the class as a class level attribute named `DEFAULT_FIRE_ESCAPE_RATIO` and use this attribute in any operations regarding `fire_escapes`. A `ValueError` should be raised during instantiation if the ratio is too low. The error message should be `'Too few fire escapes for given number of rooms.'`. \n",
    "\n",
    "All numbers (for `windows`, `doors`, `rooms`, and  `fire_escapes`) should be positive integers and should be validated as such. A `ValueError` should be raised if a non-conforming value is present at the end of instantiation. The message of the error should be of the form `'<attribute name> is <value> which is not an integer.'`"
   ]
  },
  {
   "cell_type": "code",
   "execution_count": 9,
   "metadata": {
    "nbgrader": {
     "grade": false,
     "grade_id": "oop-answer",
     "locked": false,
     "schema_version": 3,
     "solution": true
    }
   },
   "outputs": [],
   "source": [
    "import math\n",
    "\n",
    "\n",
    "class Building:\n",
    "    ### BEGIN SOLUTION\n",
    "    \n",
    "    DEFAULT_FIRE_ESCAPE_RATIO = 0.5\n",
    "\n",
    "    def __init__(self, windows, doors, rooms, fire_escapes=None):\n",
    "        self.windows = windows\n",
    "        self.doors = doors\n",
    "        self.rooms = rooms\n",
    "        self.fire_escapes = fire_escapes\n",
    "        \n",
    "        self.derive_fire_escapes()\n",
    "        \n",
    "        self.validate()\n",
    "    \n",
    "    def derive_fire_escapes(self):\n",
    "        if self.fire_escapes is not None:\n",
    "            return\n",
    "    \n",
    "        self.fire_escapes = int(math.ceil(self.rooms * self.DEFAULT_FIRE_ESCAPE_RATIO))\n",
    "    \n",
    "    def validate(self):\n",
    "        # Validate all parameters are integers\n",
    "        attrs = ('windows', 'doors', 'rooms', 'fire_escapes')\n",
    "        for attr in attrs:\n",
    "            value = getattr(self, attr)\n",
    "            if not isinstance(value, int):\n",
    "                raise ValueError(f'{attr} is {value} which is not an integer.')\n",
    "                \n",
    "        # Validate window to room ratio\n",
    "        if self.windows / self.rooms < 1:\n",
    "            raise ValueError('Too few windows for given number of rooms.')\n",
    "        \n",
    "        # Validate fire escape ratio\n",
    "        if self.fire_escapes / self.rooms < self.DEFAULT_FIRE_ESCAPE_RATIO:\n",
    "            raise ValueError('Too few fire escapes for given number of rooms.')\n",
    "    ### END SOLUTION"
   ]
  },
  {
   "cell_type": "code",
   "execution_count": 2,
   "metadata": {
    "collapsed": true,
    "nbgrader": {
     "grade": true,
     "grade_id": "oop-tests-init",
     "locked": true,
     "points": 1,
     "schema_version": 3,
     "solution": false
    }
   },
   "outputs": [],
   "source": [
    "### BEGIN HIDDEN TESTS\n",
    "# Test init\n",
    "assert Building(5, 2, 2).windows == 5\n",
    "assert Building(5, 2, 2).doors == 2\n",
    "assert Building(5, 2, 2).rooms == 2\n",
    "assert Building(5, 2, 2).fire_escapes == 1\n",
    "### END HIDDEN TESTS"
   ]
  },
  {
   "cell_type": "code",
   "execution_count": 3,
   "metadata": {
    "collapsed": true,
    "nbgrader": {
     "grade": true,
     "grade_id": "cell-1976862faf08794e",
     "locked": true,
     "points": 1,
     "schema_version": 3,
     "solution": false
    }
   },
   "outputs": [],
   "source": [
    "### BEGIN HIDDEN TESTS\n",
    "# Test derive_fire_escapes\n",
    "assert Building(5, 2, 4, 2).fire_escapes == 2\n",
    "### END HIDDEN TESTS"
   ]
  },
  {
   "cell_type": "code",
   "execution_count": 7,
   "metadata": {
    "collapsed": true,
    "nbgrader": {
     "grade": true,
     "grade_id": "cell-7f28edc1af5caee6",
     "locked": true,
     "points": 1,
     "schema_version": 3,
     "solution": false
    }
   },
   "outputs": [],
   "source": [
    "### BEGIN HIDDEN TESTS\n",
    "# Test int error messages\n",
    "try:\n",
    "    Building(4.5, 4, 4)\n",
    "except ValueError as e:\n",
    "    assert e.args[0] == 'windows is 4.5 which is not an integer.'\n",
    "    \n",
    "try:\n",
    "    Building(5, 0.4, 4)\n",
    "except ValueError as e:\n",
    "    assert e.args[0] == 'doors is 0.4 which is not an integer.'\n",
    "    \n",
    "try:\n",
    "    Building(5, 4, 4.2)\n",
    "except ValueError as e:\n",
    "    assert e.args[0] == 'rooms is 4.2 which is not an integer.'\n",
    "\n",
    "try:\n",
    "    Building(5, 4, 4, 2.5)\n",
    "except ValueError as e:\n",
    "    assert e.args[0] == 'fire_escapes is 2.5 which is not an integer.'\n",
    "### END HIDDEN TESTS"
   ]
  },
  {
   "cell_type": "code",
   "execution_count": 9,
   "metadata": {
    "collapsed": true,
    "nbgrader": {
     "grade": true,
     "grade_id": "cell-44af3cce900e0c8e",
     "locked": true,
     "points": 1,
     "schema_version": 3,
     "solution": false
    }
   },
   "outputs": [],
   "source": [
    "### BEGIN HIDDEN TESTS\n",
    "# Test window ratio\n",
    "try:\n",
    "    Building(1, 4, 4)\n",
    "except ValueError as e:\n",
    "    assert e.args[0] == 'Too few windows for given number of rooms.'\n",
    "### END HIDDEN TESTS"
   ]
  },
  {
   "cell_type": "code",
   "execution_count": 11,
   "metadata": {
    "collapsed": true,
    "nbgrader": {
     "grade": true,
     "grade_id": "cell-bdd10244d13070f4",
     "locked": true,
     "points": 1,
     "schema_version": 3,
     "solution": false
    }
   },
   "outputs": [],
   "source": [
    "### BEGIN HIDDEN TESTS\n",
    "# Test fire escape ratio\n",
    "try:\n",
    "    Building(5, 4, 4, 1)\n",
    "except ValueError as e:\n",
    "    assert e.args[0] == 'Too few fire escapes for given number of rooms.'\n",
    "### END HIDDEN TESTS"
   ]
  },
  {
   "cell_type": "code",
   "execution_count": 12,
   "metadata": {
    "collapsed": true,
    "nbgrader": {
     "grade": true,
     "grade_id": "cell-5d16fcd763436720",
     "locked": true,
     "points": 1,
     "schema_version": 3,
     "solution": false
    }
   },
   "outputs": [],
   "source": [
    "### BEGIN HIDDEN TESTS\n",
    "assert Building.DEFAULT_FIRE_ESCAPE_RATIO == 0.5\n",
    "### END HIDDEN TESTS"
   ]
  },
  {
   "cell_type": "markdown",
   "metadata": {
    "nbgrader": {
     "grade": false,
     "grade_id": "cell-3ffeb41e39b00f95",
     "locked": true,
     "schema_version": 3,
     "solution": false
    }
   },
   "source": [
    "### Question\n",
    "\n",
    "\n",
    "Write a function called `common_letters` to find the common ASCII **letters** shared by two strings. Ignore case and your result should only contain lower case letters. You may only use one builtin function to perform this task but you may use it multiple times. You may use as many string methods as you like. You may perform as many operations between data structures as you like. You may perform an import outside of the function if necessary. The function should return an ordered list of letters. The body of the function can only be one line long.\n",
    "\n",
    "For example:\n",
    "\n",
    "```python\n",
    ">>> common_letters('hi', 'hello')\n",
    "['h']\n",
    "```"
   ]
  },
  {
   "cell_type": "code",
   "execution_count": 7,
   "metadata": {
    "nbgrader": {
     "grade": false,
     "grade_id": "letters",
     "locked": false,
     "schema_version": 3,
     "solution": true
    }
   },
   "outputs": [],
   "source": [
    "### BEGIN SOLUTION\n",
    "import string\n",
    "\n",
    "def common_letters(s1, s2):\n",
    "    return sorted(set(s1.lower()) & set(s2.lower()) & set(string.ascii_lowercase))\n",
    "### END SOLUTION"
   ]
  },
  {
   "cell_type": "code",
   "execution_count": 107,
   "metadata": {
    "collapsed": true,
    "nbgrader": {
     "grade": true,
     "grade_id": "cell-400e1f7d65286378",
     "locked": true,
     "points": 1,
     "schema_version": 3,
     "solution": false
    }
   },
   "outputs": [],
   "source": [
    "### BEGIN HIDDEN TESTS\n",
    "common = common_letters(\"Hi ❄️! it's winter.\", \"Hello 🌞, good to see you!\")\n",
    "assert common == ['e', 'h', 's', 't']\n",
    "### END HIDDEN TESTS"
   ]
  },
  {
   "cell_type": "code",
   "execution_count": 111,
   "metadata": {
    "collapsed": true,
    "nbgrader": {
     "grade": true,
     "grade_id": "cell-931e198999083a99",
     "locked": true,
     "points": 1,
     "schema_version": 3,
     "solution": false
    }
   },
   "outputs": [],
   "source": [
    "### BEGIN HIDDEN TESTS\n",
    "# Test only one line of code in function\n",
    "assert common_letters.__code__.co_lnotab == b'\\x00\\x01'\n",
    "### END HIDDEN TESTS"
   ]
  },
  {
   "cell_type": "markdown",
   "metadata": {
    "nbgrader": {
     "grade": false,
     "grade_id": "cell-1e87c9292c576567",
     "locked": true,
     "schema_version": 3,
     "solution": false
    }
   },
   "source": [
    "### Question\n",
    "\n",
    "Create a generator function named `rev_fib` that, when called and cast to a list, returns the first N values in a reverse Fibonacci sequence.\n",
    "\n",
    "For example: \n",
    "\n",
    "```python\n",
    ">>> list(rev_fib(6))\n",
    "... [0, -1, -1, -2, -3, -5]\n",
    "```"
   ]
  },
  {
   "cell_type": "code",
   "execution_count": 112,
   "metadata": {
    "collapsed": true,
    "nbgrader": {
     "grade": false,
     "grade_id": "generator",
     "locked": false,
     "schema_version": 3,
     "solution": true
    }
   },
   "outputs": [],
   "source": [
    "### BEGIN SOLUTION\n",
    "def rev_fib(z):\n",
    "    x = 0\n",
    "    y = -1\n",
    "    for _ in range(z):\n",
    "        yield x\n",
    "        y, x = y + x, y\n",
    "### END SOLUTION"
   ]
  },
  {
   "cell_type": "code",
   "execution_count": 124,
   "metadata": {
    "collapsed": true,
    "nbgrader": {
     "grade": true,
     "grade_id": "gen-tests",
     "locked": true,
     "points": 1,
     "schema_version": 3,
     "solution": false
    }
   },
   "outputs": [],
   "source": [
    "### BEGIN HIDDEN TESTS\n",
    "assert list(rev_fib(6)) == [0, -1, -1, -2, -3, -5]\n",
    "assert list(rev_fib(100))[99] == -218922995834555169026\n",
    "### END HIDDEN TESTS"
   ]
  },
  {
   "cell_type": "code",
   "execution_count": 125,
   "metadata": {
    "collapsed": true,
    "nbgrader": {
     "grade": true,
     "grade_id": "cell-6c182c209d2f71ab",
     "locked": true,
     "points": 1,
     "schema_version": 3,
     "solution": false
    }
   },
   "outputs": [],
   "source": [
    "### BEGIN HIDDEN TESTS\n",
    "import inspect\n",
    "assert inspect.isgeneratorfunction(rev_fib)\n",
    "### END HIDDEN TESTS"
   ]
  },
  {
   "cell_type": "markdown",
   "metadata": {
    "nbgrader": {
     "grade": false,
     "grade_id": "cell-9a7e22503982d594",
     "locked": true,
     "schema_version": 3,
     "solution": false
    }
   },
   "source": [
    "### Question \n",
    "\n",
    "Write a function called `calibrate`. The calibration function should take an `OrderedDict`, a `predicate`, and an `update_func`. The `OrderedDict` passed to the function will have string keys and integer values. The function should update all values in the `OrderedDict` where the key for the value meets a predicate's constraints. Ie. `predicate(key) -> bool`. The update function should take a value (associated with a key that passed the predicate's constraints) and pass it through the `update_func` to arrive at the new value for the key. If the mapping passed to the `calibrate` function is not an `OrderedDict` a `TypeError` should be raised.\n",
    "\n",
    "For example:\n",
    "\n",
    "```python\n",
    ">>> odict = collections.OrderedDict((\n",
    "    ('a', 1),\n",
    "    ('b', 2),\n",
    "    ('c', 3),\n",
    "))\n",
    ">>> calibrate(odict, lambda x: x == 'b', lambda x: x **2)\n",
    ">>> print(odict)\n",
    "OrderedDict([('a', 1), ('b', 4), ('c', 3)])\n",
    "```"
   ]
  },
  {
   "cell_type": "code",
   "execution_count": 3,
   "metadata": {
    "nbgrader": {
     "grade": false,
     "grade_id": "cell-9a0363302483e2d1",
     "locked": false,
     "schema_version": 3,
     "solution": true
    }
   },
   "outputs": [],
   "source": [
    "def calibrate(odict, predicate, update_func):\n",
    "    ### BEGIN SOLUTION\n",
    "    import collections\n",
    "    if not isinstance(odict, collections.OrderedDict):\n",
    "        raise TypeError\n",
    "    \n",
    "    for key in odict.keys():\n",
    "        if predicate(key):\n",
    "            odict[key] = update_func(odict[key])\n",
    "    ### END SOLUTION"
   ]
  },
  {
   "cell_type": "code",
   "execution_count": 2,
   "metadata": {
    "nbgrader": {
     "grade": true,
     "grade_id": "cell-314d4f72425dc777",
     "locked": true,
     "points": 2,
     "schema_version": 3,
     "solution": false
    }
   },
   "outputs": [],
   "source": [
    "### BEGIN HIDDEN TESTS\n",
    "import collections\n",
    "odict = collections.OrderedDict((\n",
    "    ('a', 1),\n",
    "    ('b', 2),\n",
    "    ('c', 3),\n",
    "))\n",
    "\n",
    "def predicate(key):\n",
    "    return not (ord(key) - ord('a')) % 2\n",
    "\n",
    "def update_func(value):\n",
    "    return value ** value\n",
    "\n",
    "assert calibrate(odict, predicate, update_func) == None, 'Function needs to mutate state'\n",
    "assert odict == collections.OrderedDict([('a', 1), ('b', 2), ('c', 27)])\n",
    "try:\n",
    "    calibrate(dict(odict), predicate, update_func) == None\n",
    "    assert False, 'Needs to raise error'\n",
    "except TypeError:\n",
    "    pass\n",
    "except:\n",
    "    assert False, 'Needs to be a TypeError'\n",
    "### END HIDDEN TESTS"
   ]
  },
  {
   "cell_type": "markdown",
   "metadata": {
    "nbgrader": {
     "grade": false,
     "grade_id": "cell-428ebf257411f52a",
     "locked": true,
     "schema_version": 3,
     "solution": false
    }
   },
   "source": [
    "### Question\n",
    "\n",
    "You've recieved a serialized JSON object from an API and have deserialized it using the standard library's `json` library. The object represents your geneology from a given ancestor downward. Assuming your name is Sally and your given ancestor is Janet, your geneology object would be as follows:\n",
    "\n",
    "    geneology_object = {\n",
    "        'husband': 'Craig', \n",
    "        'wife': 'Janet',\n",
    "        'children': {\n",
    "            'Chris': {\n",
    "                'husband': 'Chris', \n",
    "                'wife': 'Jesse',\n",
    "                'children': {\n",
    "                    'Rebecca': {\n",
    "                        'husband': 'Doug', \n",
    "                        'wife': 'Rebecca',\n",
    "                    }\n",
    "                }\n",
    "            },\n",
    "            'Wonda': {\n",
    "                'husband': 'Kevin', \n",
    "                'wife': 'Wonda',\n",
    "                'children': {\n",
    "                    'Sally': {}\n",
    "                }\n",
    "            }\n",
    "        }\n",
    "    }\n",
    "\n",
    "\n",
    "Write a function with the signature `get_generations_down(geneology_object, search_name, generations=0)` to recursively search for the number of generations between `search_name` and the eldest ancestor. If the name is not found, a `NameNotFoundError` should be raised by the recursive function.\n",
    "\n",
    "Assuming the geneology object above, your function should behave as so:\n",
    "\n",
    "    >>> get_generations_down(geneology_object, 'Chris')\n",
    "    1\n",
    "    >>> get_generations_down(geneology_object, 'Sally')\n",
    "    2"
   ]
  },
  {
   "cell_type": "code",
   "execution_count": 37,
   "metadata": {
    "collapsed": true,
    "nbgrader": {
     "grade": false,
     "grade_id": "recursion",
     "locked": false,
     "schema_version": 3,
     "solution": true
    }
   },
   "outputs": [],
   "source": [
    "class NameNotFoundError(Exception):\n",
    "    pass\n",
    "\n",
    "\n",
    "def get_generations_down(geneology_object, search_name, generations=0):    \n",
    "    ### BEGIN SOLUTION\n",
    "    children = geneology_object.get('children', {})\n",
    "    \n",
    "    for child_name in children:\n",
    "        if search_name == child_name:\n",
    "            return generations + 1\n",
    "\n",
    "        else:\n",
    "            value = get_generations_down(children[child_name], search_name, (generations+1))\n",
    "            if value:\n",
    "                return value\n",
    "    \n",
    "    if generations == 0:\n",
    "        raise NameNotFoundError('Name not found')\n",
    "    ### END SOLUTION"
   ]
  },
  {
   "cell_type": "code",
   "execution_count": 38,
   "metadata": {
    "collapsed": true,
    "nbgrader": {
     "grade": true,
     "grade_id": "recursion-test-data",
     "locked": true,
     "points": 0,
     "schema_version": 3,
     "solution": false
    }
   },
   "outputs": [],
   "source": [
    "### BEGIN HIDDEN TESTS\n",
    "geneology_object = {\n",
    "    'husband': 'Craig', \n",
    "    'wife': 'Janet',\n",
    "    'children': {\n",
    "        'Chris': {\n",
    "            'husband': 'Chris', \n",
    "            'wife': 'Jesse',\n",
    "            'children': {\n",
    "                'Rebecca': {\n",
    "                    'husband': 'Doug', \n",
    "                    'wife': 'Rebecca',\n",
    "                }\n",
    "            }\n",
    "        },\n",
    "        'Wonda': {\n",
    "            'husband': 'Kevin', \n",
    "            'wife': 'Wonda',\n",
    "            'children': {}\n",
    "        },\n",
    "        'Mike': {\n",
    "            'husband': 'Mike', \n",
    "            'wife': 'Rachael',\n",
    "            'children': {\n",
    "                'Eileen': {\n",
    "                    'wife': 'Eileen',\n",
    "                    'husband': 'Gary',\n",
    "                    'children': {\n",
    "                        'Patrick': {\n",
    "                            'husband': 'Patrick',\n",
    "                            'husband': 'Carl',\n",
    "                        }\n",
    "                    }\n",
    "                } \n",
    "            }\n",
    "        }\n",
    "    }\n",
    "}\n",
    "### END HIDDEN TESTS"
   ]
  },
  {
   "cell_type": "code",
   "execution_count": 39,
   "metadata": {
    "collapsed": true,
    "nbgrader": {
     "grade": true,
     "grade_id": "cell-f56f214faab7f341",
     "locked": true,
     "points": 2,
     "schema_version": 3,
     "solution": false
    }
   },
   "outputs": [],
   "source": [
    "### BEGIN HIDDEN TESTS\n",
    "assert get_generations_down(geneology_object, 'Patrick') == 3\n",
    "assert get_generations_down(geneology_object, 'Eileen') == 2\n",
    "### END HIDDEN TESTS"
   ]
  },
  {
   "cell_type": "code",
   "execution_count": 35,
   "metadata": {
    "collapsed": true,
    "nbgrader": {
     "grade": true,
     "grade_id": "cell-304f0d609b227e21",
     "locked": true,
     "points": 1,
     "schema_version": 3,
     "solution": false
    }
   },
   "outputs": [],
   "source": [
    "### BEGIN HIDDEN TESTS\n",
    "try:\n",
    "    get_generations_down(geneology_object, 'Paul')\n",
    "    assert False, 'Should not have found Paul'\n",
    "except NameNotFoundError: \n",
    "    pass\n",
    "except:\n",
    "    assert False, 'Should have raised NameNotFoundError'\n",
    "### END HIDDEN TESTS"
   ]
  },
  {
   "cell_type": "markdown",
   "metadata": {
    "collapsed": true,
    "nbgrader": {
     "grade": false,
     "grade_id": "cell-13fa838cb24b1967",
     "locked": true,
     "schema_version": 3,
     "solution": false
    }
   },
   "source": [
    "### Question\n",
    "\n",
    "\n",
    "You work for the Department Of Housing in NYC. A new file has just been delivered to your desk via email. The file has row after row of cryptic housing information including an ID column. The ID column contains unique strings that are of the format `d[District ID (int)]b[Block ID (int)]l[Lot ID (int)]`. \n",
    "\n",
    "```\n",
    "Example identifiers:\n",
    "d17b4873l8390\n",
    "d45b934l341\n",
    "```\n",
    "\n",
    "You need to parse these IDs for the ID parts and you decide that use of Python's regex library is your best tool. Complete the function below so that these IDs can be parsed by Python. Parse each sub ID (district, block, lot) into its own named group in the regex match object.\n",
    "\n",
    "For example:\n",
    "\n",
    "```\n",
    "match = parse_id('d17b4873l8390')\n",
    "match.group('district') ==> 17\n",
    "match.group('block') ==> 4873\n",
    "match.group('lot') ==> 8390\n",
    "```"
   ]
  },
  {
   "cell_type": "code",
   "execution_count": 17,
   "metadata": {
    "collapsed": true,
    "nbgrader": {
     "grade": false,
     "grade_id": "re",
     "locked": false,
     "schema_version": 3,
     "solution": true
    }
   },
   "outputs": [],
   "source": [
    "import re\n",
    "\n",
    "def parse_id(identifier):\n",
    "    ### BEGIN SOLUTION\n",
    "    pattern_string = r'd(?P<district>\\d+)b(?P<block>\\d+)l(?P<lot>\\d+)'\n",
    "    ### END SOLUTION\n",
    "    return re.match(pattern_string, identifier)"
   ]
  },
  {
   "cell_type": "code",
   "execution_count": 18,
   "metadata": {
    "collapsed": true,
    "nbgrader": {
     "grade": true,
     "grade_id": "cell-2cf89dead6cbc6dd",
     "locked": true,
     "points": 1,
     "schema_version": 3,
     "solution": false
    }
   },
   "outputs": [],
   "source": [
    "### BEGIN HIDDEN TESTS\n",
    "match = parse_id('d43b4637l27')\n",
    "assert match is not None\n",
    "### END HIDDEN TESTS"
   ]
  },
  {
   "cell_type": "code",
   "execution_count": 21,
   "metadata": {
    "collapsed": true,
    "nbgrader": {
     "grade": true,
     "grade_id": "cell-3a1cb82b63055930",
     "locked": true,
     "points": 1,
     "schema_version": 3,
     "solution": false
    }
   },
   "outputs": [],
   "source": [
    "### BEGIN HIDDEN TESTS\n",
    "assert match.group('district') == '43'\n",
    "assert match.group('block') == '4637'\n",
    "assert match.group('lot') == '27'\n",
    "### END HIDDEN TESTS"
   ]
  }
 ],
 "metadata": {
  "anaconda-cloud": {},
  "celltoolbar": "Create Assignment",
  "kernelspec": {
   "display_name": "Python 3 (ipykernel)",
   "language": "python",
   "name": "python3"
  },
  "language_info": {
   "codemirror_mode": {
    "name": "ipython",
    "version": 3
   },
   "file_extension": ".py",
   "mimetype": "text/x-python",
   "name": "python",
   "nbconvert_exporter": "python",
   "pygments_lexer": "ipython3",
   "version": "3.9.7"
  }
 },
 "nbformat": 4,
 "nbformat_minor": 1
}
